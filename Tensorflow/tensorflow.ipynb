{
 "cells": [
  {
   "cell_type": "code",
   "execution_count": 2,
   "id": "f18205f9-d09f-47ca-9eb4-fb4f5edf1fd8",
   "metadata": {
    "tags": []
   },
   "outputs": [],
   "source": [
    "import pandas as pd\n",
    "import seaborn as sns\n",
    "import matplotlib.pyplot as plt"
   ]
  },
  {
   "cell_type": "code",
   "execution_count": 3,
   "id": "96f92cca-1a10-4a9c-b70a-6b27ddcbe91c",
   "metadata": {
    "tags": []
   },
   "outputs": [
    {
     "name": "stdout",
     "output_type": "stream",
     "text": [
      "Requirement already satisfied: tensorflow in c:\\users\\burak\\anaconda3\\lib\\site-packages (2.8.0)\n",
      "Requirement already satisfied: absl-py>=0.4.0 in c:\\users\\burak\\anaconda3\\lib\\site-packages (from tensorflow) (1.0.0)\n",
      "Requirement already satisfied: opt-einsum>=2.3.2 in c:\\users\\burak\\anaconda3\\lib\\site-packages (from tensorflow) (3.3.0)\n",
      "Requirement already satisfied: protobuf>=3.9.2 in c:\\users\\burak\\anaconda3\\lib\\site-packages (from tensorflow) (3.19.4)\n",
      "Requirement already satisfied: astunparse>=1.6.0 in c:\\users\\burak\\anaconda3\\lib\\site-packages (from tensorflow) (1.6.3)\n",
      "Requirement already satisfied: grpcio<2.0,>=1.24.3 in c:\\users\\burak\\anaconda3\\lib\\site-packages (from tensorflow) (1.43.0)\n",
      "Requirement already satisfied: setuptools in c:\\users\\burak\\anaconda3\\lib\\site-packages (from tensorflow) (52.0.0.post20210125)\n",
      "Requirement already satisfied: tf-estimator-nightly==2.8.0.dev2021122109 in c:\\users\\burak\\anaconda3\\lib\\site-packages (from tensorflow) (2.8.0.dev2021122109)\n",
      "Requirement already satisfied: tensorflow-io-gcs-filesystem>=0.23.1 in c:\\users\\burak\\anaconda3\\lib\\site-packages (from tensorflow) (0.24.0)\n",
      "Requirement already satisfied: h5py>=2.9.0 in c:\\users\\burak\\anaconda3\\lib\\site-packages (from tensorflow) (2.10.0)\n",
      "Requirement already satisfied: typing-extensions>=3.6.6 in c:\\users\\burak\\anaconda3\\lib\\site-packages (from tensorflow) (3.7.4.3)\n",
      "Requirement already satisfied: numpy>=1.20 in c:\\users\\burak\\anaconda3\\lib\\site-packages (from tensorflow) (1.20.1)\n",
      "Requirement already satisfied: gast>=0.2.1 in c:\\users\\burak\\anaconda3\\lib\\site-packages (from tensorflow) (0.5.3)\n",
      "Requirement already satisfied: flatbuffers>=1.12 in c:\\users\\burak\\anaconda3\\lib\\site-packages (from tensorflow) (2.0)\n",
      "Requirement already satisfied: google-pasta>=0.1.1 in c:\\users\\burak\\anaconda3\\lib\\site-packages (from tensorflow) (0.2.0)\n",
      "Requirement already satisfied: libclang>=9.0.1 in c:\\users\\burak\\anaconda3\\lib\\site-packages (from tensorflow) (13.0.0)\n",
      "Requirement already satisfied: six>=1.12.0 in c:\\users\\burak\\anaconda3\\lib\\site-packages (from tensorflow) (1.15.0)\n",
      "Requirement already satisfied: tensorboard<2.9,>=2.8 in c:\\users\\burak\\anaconda3\\lib\\site-packages (from tensorflow) (2.8.0)\n",
      "Requirement already satisfied: keras<2.9,>=2.8.0rc0 in c:\\users\\burak\\anaconda3\\lib\\site-packages (from tensorflow) (2.8.0)\n",
      "Requirement already satisfied: keras-preprocessing>=1.1.1 in c:\\users\\burak\\anaconda3\\lib\\site-packages (from tensorflow) (1.1.2)\n",
      "Requirement already satisfied: termcolor>=1.1.0 in c:\\users\\burak\\anaconda3\\lib\\site-packages (from tensorflow) (1.1.0)\n",
      "Requirement already satisfied: wrapt>=1.11.0 in c:\\users\\burak\\anaconda3\\lib\\site-packages (from tensorflow) (1.12.1)\n",
      "Requirement already satisfied: wheel<1.0,>=0.23.0 in c:\\users\\burak\\anaconda3\\lib\\site-packages (from astunparse>=1.6.0->tensorflow) (0.36.2)\n",
      "Requirement already satisfied: google-auth<3,>=1.6.3 in c:\\users\\burak\\anaconda3\\lib\\site-packages (from tensorboard<2.9,>=2.8->tensorflow) (2.6.0)\n",
      "Requirement already satisfied: tensorboard-data-server<0.7.0,>=0.6.0 in c:\\users\\burak\\anaconda3\\lib\\site-packages (from tensorboard<2.9,>=2.8->tensorflow) (0.6.1)\n",
      "Requirement already satisfied: requests<3,>=2.21.0 in c:\\users\\burak\\anaconda3\\lib\\site-packages (from tensorboard<2.9,>=2.8->tensorflow) (2.25.1)\n",
      "Requirement already satisfied: google-auth-oauthlib<0.5,>=0.4.1 in c:\\users\\burak\\anaconda3\\lib\\site-packages (from tensorboard<2.9,>=2.8->tensorflow) (0.4.6)\n",
      "Requirement already satisfied: markdown>=2.6.8 in c:\\users\\burak\\anaconda3\\lib\\site-packages (from tensorboard<2.9,>=2.8->tensorflow) (3.3.6)\n",
      "Requirement already satisfied: werkzeug>=0.11.15 in c:\\users\\burak\\anaconda3\\lib\\site-packages (from tensorboard<2.9,>=2.8->tensorflow) (1.0.1)\n",
      "Requirement already satisfied: tensorboard-plugin-wit>=1.6.0 in c:\\users\\burak\\anaconda3\\lib\\site-packages (from tensorboard<2.9,>=2.8->tensorflow) (1.8.1)\n",
      "Requirement already satisfied: rsa<5,>=3.1.4 in c:\\users\\burak\\anaconda3\\lib\\site-packages (from google-auth<3,>=1.6.3->tensorboard<2.9,>=2.8->tensorflow) (4.8)\n",
      "Requirement already satisfied: cachetools<6.0,>=2.0.0 in c:\\users\\burak\\anaconda3\\lib\\site-packages (from google-auth<3,>=1.6.3->tensorboard<2.9,>=2.8->tensorflow) (5.0.0)\n",
      "Requirement already satisfied: pyasn1-modules>=0.2.1 in c:\\users\\burak\\anaconda3\\lib\\site-packages (from google-auth<3,>=1.6.3->tensorboard<2.9,>=2.8->tensorflow) (0.2.8)\n",
      "Requirement already satisfied: requests-oauthlib>=0.7.0 in c:\\users\\burak\\anaconda3\\lib\\site-packages (from google-auth-oauthlib<0.5,>=0.4.1->tensorboard<2.9,>=2.8->tensorflow) (1.3.1)\n",
      "Requirement already satisfied: importlib-metadata>=4.4 in c:\\users\\burak\\anaconda3\\lib\\site-packages (from markdown>=2.6.8->tensorboard<2.9,>=2.8->tensorflow) (4.11.1)\n",
      "Requirement already satisfied: zipp>=0.5 in c:\\users\\burak\\anaconda3\\lib\\site-packages (from importlib-metadata>=4.4->markdown>=2.6.8->tensorboard<2.9,>=2.8->tensorflow) (3.4.1)\n",
      "Requirement already satisfied: pyasn1<0.5.0,>=0.4.6 in c:\\users\\burak\\anaconda3\\lib\\site-packages (from pyasn1-modules>=0.2.1->google-auth<3,>=1.6.3->tensorboard<2.9,>=2.8->tensorflow) (0.4.8)\n",
      "Requirement already satisfied: chardet<5,>=3.0.2 in c:\\users\\burak\\anaconda3\\lib\\site-packages (from requests<3,>=2.21.0->tensorboard<2.9,>=2.8->tensorflow) (4.0.0)\n",
      "Requirement already satisfied: certifi>=2017.4.17 in c:\\users\\burak\\anaconda3\\lib\\site-packages (from requests<3,>=2.21.0->tensorboard<2.9,>=2.8->tensorflow) (2020.12.5)\n",
      "Requirement already satisfied: urllib3<1.27,>=1.21.1 in c:\\users\\burak\\anaconda3\\lib\\site-packages (from requests<3,>=2.21.0->tensorboard<2.9,>=2.8->tensorflow) (1.26.4)\n",
      "Requirement already satisfied: idna<3,>=2.5 in c:\\users\\burak\\anaconda3\\lib\\site-packages (from requests<3,>=2.21.0->tensorboard<2.9,>=2.8->tensorflow) (2.10)\n",
      "Requirement already satisfied: oauthlib>=3.0.0 in c:\\users\\burak\\anaconda3\\lib\\site-packages (from requests-oauthlib>=0.7.0->google-auth-oauthlib<0.5,>=0.4.1->tensorboard<2.9,>=2.8->tensorflow) (3.2.0)\n"
     ]
    }
   ],
   "source": [
    "!pip install tensorflow"
   ]
  },
  {
   "cell_type": "code",
   "execution_count": 4,
   "id": "da70aa5c-ed87-4892-989e-ea5e790e3baa",
   "metadata": {},
   "outputs": [
    {
     "data": {
      "text/html": [
       "<div>\n",
       "<style scoped>\n",
       "    .dataframe tbody tr th:only-of-type {\n",
       "        vertical-align: middle;\n",
       "    }\n",
       "\n",
       "    .dataframe tbody tr th {\n",
       "        vertical-align: top;\n",
       "    }\n",
       "\n",
       "    .dataframe thead th {\n",
       "        text-align: right;\n",
       "    }\n",
       "</style>\n",
       "<table border=\"1\" class=\"dataframe\">\n",
       "  <thead>\n",
       "    <tr style=\"text-align: right;\">\n",
       "      <th></th>\n",
       "      <th>Fiyat</th>\n",
       "      <th>BisikletOzellik1</th>\n",
       "      <th>BisikletOzellik2</th>\n",
       "    </tr>\n",
       "  </thead>\n",
       "  <tbody>\n",
       "    <tr>\n",
       "      <th>0</th>\n",
       "      <td>807.673876</td>\n",
       "      <td>1749.628226</td>\n",
       "      <td>1749.590668</td>\n",
       "    </tr>\n",
       "    <tr>\n",
       "      <th>1</th>\n",
       "      <td>959.227520</td>\n",
       "      <td>1748.007826</td>\n",
       "      <td>1751.824206</td>\n",
       "    </tr>\n",
       "    <tr>\n",
       "      <th>2</th>\n",
       "      <td>718.020033</td>\n",
       "      <td>1750.122967</td>\n",
       "      <td>1747.977026</td>\n",
       "    </tr>\n",
       "    <tr>\n",
       "      <th>3</th>\n",
       "      <td>945.668885</td>\n",
       "      <td>1749.916440</td>\n",
       "      <td>1750.771646</td>\n",
       "    </tr>\n",
       "    <tr>\n",
       "      <th>4</th>\n",
       "      <td>955.542968</td>\n",
       "      <td>1750.780519</td>\n",
       "      <td>1750.592430</td>\n",
       "    </tr>\n",
       "  </tbody>\n",
       "</table>\n",
       "</div>"
      ],
      "text/plain": [
       "        Fiyat  BisikletOzellik1  BisikletOzellik2\n",
       "0  807.673876       1749.628226       1749.590668\n",
       "1  959.227520       1748.007826       1751.824206\n",
       "2  718.020033       1750.122967       1747.977026\n",
       "3  945.668885       1749.916440       1750.771646\n",
       "4  955.542968       1750.780519       1750.592430"
      ]
     },
     "execution_count": 4,
     "metadata": {},
     "output_type": "execute_result"
    }
   ],
   "source": [
    "DF = pd.read_excel(\"bisiklet_fiyatlari.xlsx\")\n",
    "DF.head()"
   ]
  },
  {
   "cell_type": "code",
   "execution_count": 5,
   "id": "31fb0d70-177b-4730-9f34-d704a6f9fa56",
   "metadata": {},
   "outputs": [
    {
     "data": {
      "text/plain": [
       "<seaborn.axisgrid.PairGrid at 0x196f88882b0>"
      ]
     },
     "execution_count": 5,
     "metadata": {},
     "output_type": "execute_result"
    },
    {
     "data": {
      "image/png": "[encoded data removed]",
      "text/plain": [
       "<Figure size 540x540 with 12 Axes>"
      ]
     },
     "metadata": {
      "needs_background": "light"
     },
     "output_type": "display_data"
    }
   ],
   "source": [
    "sns.pairplot(DF)"
   ]
  },
  {
   "cell_type": "markdown",
   "id": "71fe1bd8-a277-4cfd-8dad-9d31c2de44c9",
   "metadata": {},
   "source": [
    "## Veri test-train ikiye ayirma"
   ]
  },
  {
   "cell_type": "code",
   "execution_count": 6,
   "id": "d5bd941a-e10d-4c97-aa5f-f47e83c174af",
   "metadata": {},
   "outputs": [],
   "source": [
    "from sklearn.model_selection import train_test_split"
   ]
  },
  {
   "cell_type": "code",
   "execution_count": 7,
   "id": "1eb53745-02bc-4675-9624-9f7efa3ad19d",
   "metadata": {},
   "outputs": [],
   "source": [
    "#train_test_split\n",
    "#random_state, test ve train ayrimi yapilirken iki kisi de ayni rakamlari yazdiginda ayni algoritmaya gore veriler secilir. Ornegin iki kullanici da 42 yazarsa iki kullaniciyi da ayni veriler gelecektir."
   ]
  },
  {
   "cell_type": "code",
   "execution_count": 8,
   "id": "c3cb8779-103f-4e63-bd7c-ae848f4c5e15",
   "metadata": {},
   "outputs": [],
   "source": [
    "#y = wx + b\n",
    "#y -> label -fiyat\n",
    "y = DF[\"Fiyat\"].values\n",
    "#x-> feature(özellik)\n",
    "x = DF[[\"BisikletOzellik1\",\"BisikletOzellik2\"]].values\n",
    "\n",
    "x_train, x_test, y_train, y_test = train_test_split(x,y,test_size=0.33,random_state=15)"
   ]
  },
  {
   "cell_type": "code",
   "execution_count": 9,
   "id": "2e6b924a-8168-4f3a-a567-fdf6612d6737",
   "metadata": {},
   "outputs": [
    {
     "data": {
      "text/plain": [
       "(670, 2)"
      ]
     },
     "execution_count": 9,
     "metadata": {},
     "output_type": "execute_result"
    }
   ],
   "source": [
    "x_train.shape"
   ]
  },
  {
   "cell_type": "code",
   "execution_count": 10,
   "id": "379f888f-2fea-4d70-a441-fd43ed9409b7",
   "metadata": {},
   "outputs": [
    {
     "data": {
      "text/plain": [
       "(670,)"
      ]
     },
     "execution_count": 10,
     "metadata": {},
     "output_type": "execute_result"
    }
   ],
   "source": [
    "y_train.shape"
   ]
  },
  {
   "cell_type": "code",
   "execution_count": 11,
   "id": "3baddcb1-7a54-401d-9a42-89b2abc64b1d",
   "metadata": {},
   "outputs": [
    {
     "data": {
      "text/plain": [
       "(330, 2)"
      ]
     },
     "execution_count": 11,
     "metadata": {},
     "output_type": "execute_result"
    }
   ],
   "source": [
    "x_test.shape"
   ]
  },
  {
   "cell_type": "code",
   "execution_count": 12,
   "id": "ddc32c43-622e-4461-aef7-b28f094d234c",
   "metadata": {},
   "outputs": [
    {
     "data": {
      "text/plain": [
       "(330,)"
      ]
     },
     "execution_count": 12,
     "metadata": {},
     "output_type": "execute_result"
    }
   ],
   "source": [
    "y_test.shape"
   ]
  },
  {
   "cell_type": "code",
   "execution_count": 13,
   "id": "2147c0b5-16c9-466b-b73a-bac303c1ec44",
   "metadata": {},
   "outputs": [],
   "source": [
    "#scaling"
   ]
  },
  {
   "cell_type": "code",
   "execution_count": 14,
   "id": "843b6199-ed63-4b92-b899-e1005122f4b8",
   "metadata": {},
   "outputs": [],
   "source": [
    "from sklearn.preprocessing import MinMaxScaler"
   ]
  },
  {
   "cell_type": "code",
   "execution_count": 15,
   "id": "7a9b534e-01ef-4de8-94fe-8f7ad2260605",
   "metadata": {},
   "outputs": [],
   "source": [
    "scaler = MinMaxScaler()"
   ]
  },
  {
   "cell_type": "code",
   "execution_count": 16,
   "id": "c0aec866-4cf4-421d-9700-3d9e802093d8",
   "metadata": {},
   "outputs": [
    {
     "data": {
      "text/plain": [
       "MinMaxScaler()"
      ]
     },
     "execution_count": 16,
     "metadata": {},
     "output_type": "execute_result"
    }
   ],
   "source": [
    "scaler.fit(x_train)"
   ]
  },
  {
   "cell_type": "code",
   "execution_count": 17,
   "id": "b6270f15-62ba-436e-8e75-a81df8b04a9f",
   "metadata": {},
   "outputs": [],
   "source": [
    "x_train = scaler.transform(x_train)\n",
    "x_test = scaler.transform(x_test)"
   ]
  },
  {
   "cell_type": "code",
   "execution_count": 18,
   "id": "953eb484-4337-48ab-8065-de738afc8116",
   "metadata": {},
   "outputs": [
    {
     "data": {
      "text/plain": [
       "array([[0.3177906 , 0.64341466],\n",
       "       [0.61991638, 0.89583174],\n",
       "       [0.53950097, 0.0980286 ],\n",
       "       ...,\n",
       "       [0.2352117 , 0.52644765],\n",
       "       [0.7576794 , 0.19157421],\n",
       "       [0.4292982 , 0.16530301]])"
      ]
     },
     "execution_count": 18,
     "metadata": {},
     "output_type": "execute_result"
    }
   ],
   "source": [
    "x_train #veriler 0 ve 1 arasina getirilmis oldu yukaridaki kodlarda."
   ]
  },
  {
   "cell_type": "code",
   "execution_count": 19,
   "id": "d4511d48-a04e-4398-bef6-5cd53ac0585b",
   "metadata": {},
   "outputs": [],
   "source": [
    "import tensorflow as tf"
   ]
  },
  {
   "cell_type": "code",
   "execution_count": 20,
   "id": "c5b4f92a-77a0-4278-bd3b-cd5e76aabb1e",
   "metadata": {},
   "outputs": [],
   "source": [
    "from tensorflow.keras.models import Sequential\n",
    "from tensorflow.keras.layers import Dense"
   ]
  },
  {
   "cell_type": "code",
   "execution_count": 21,
   "id": "b7f19e6c-89b3-49dc-8ad9-4c2b59ef6fd5",
   "metadata": {},
   "outputs": [],
   "source": [
    "model = Sequential()\n",
    "\n",
    "model.add(Dense(4,activation=\"relu\")) #buradaki 5, noron sayisidir.\n",
    "model.add(Dense(4,activation=\"relu\"))\n",
    "model.add(Dense(4,activation=\"relu\"))\n",
    "#3 tane hidden layer eklemis olduk.\n",
    "\n",
    "model.add(Dense(1)) #output katmani\n",
    "\n",
    "model.compile(optimizer = \"rmsprop\", loss=\"mse\")\n",
    "#rmsprop haricinde adam'da var."
   ]
  },
  {
   "cell_type": "code",
   "execution_count": 22,
   "id": "b67941a1-e704-4675-8078-6b7900898248",
   "metadata": {},
   "outputs": [],
   "source": [
    "#su an 1000 veri var, 10000 gibi veri olursa batch olayi devreye girer."
   ]
  },
  {
   "cell_type": "code",
   "execution_count": 23,
   "id": "63b6141d-a81c-481c-bcca-6c430888ecae",
   "metadata": {},
   "outputs": [
    {
     "name": "stdout",
     "output_type": "stream",
     "text": [
      "Epoch 1/250\n",
      "21/21 [==============================] - 0s 648us/step - loss: 796154.8750\n",
      "Epoch 2/250\n",
      "21/21 [==============================] - 0s 598us/step - loss: 795909.5625\n",
      "Epoch 3/250\n",
      "21/21 [==============================] - 0s 648us/step - loss: 795709.0625\n",
      "Epoch 4/250\n",
      "21/21 [==============================] - 0s 548us/step - loss: 795517.8750\n",
      "Epoch 5/250\n",
      "21/21 [==============================] - 0s 598us/step - loss: 795306.7500\n",
      "Epoch 6/250\n",
      "21/21 [==============================] - 0s 598us/step - loss: 795069.0625\n",
      "Epoch 7/250\n",
      "21/21 [==============================] - 0s 548us/step - loss: 794809.0000\n",
      "Epoch 8/250\n",
      "21/21 [==============================] - 0s 548us/step - loss: 794527.6875\n",
      "Epoch 9/250\n",
      "21/21 [==============================] - 0s 598us/step - loss: 794224.5000\n",
      "Epoch 10/250\n",
      "21/21 [==============================] - 0s 498us/step - loss: 793905.0625\n",
      "Epoch 11/250\n",
      "21/21 [==============================] - 0s 548us/step - loss: 793566.9375\n",
      "Epoch 12/250\n",
      "21/21 [==============================] - 0s 548us/step - loss: 793209.9375\n",
      "Epoch 13/250\n",
      "21/21 [==============================] - 0s 548us/step - loss: 792827.8750\n",
      "Epoch 14/250\n",
      "21/21 [==============================] - 0s 598us/step - loss: 792418.7500\n",
      "Epoch 15/250\n",
      "21/21 [==============================] - 0s 648us/step - loss: 791980.0625\n",
      "Epoch 16/250\n",
      "21/21 [==============================] - 0s 550us/step - loss: 791510.0625\n",
      "Epoch 17/250\n",
      "21/21 [==============================] - 0s 598us/step - loss: 791010.1250\n",
      "Epoch 18/250\n",
      "21/21 [==============================] - 0s 598us/step - loss: 790480.1250\n",
      "Epoch 19/250\n",
      "21/21 [==============================] - 0s 598us/step - loss: 789915.0625\n",
      "Epoch 20/250\n",
      "21/21 [==============================] - 0s 611us/step - loss: 789312.8750\n",
      "Epoch 21/250\n",
      "21/21 [==============================] - 0s 598us/step - loss: 788669.0625\n",
      "Epoch 22/250\n",
      "21/21 [==============================] - 0s 556us/step - loss: 787977.1250\n",
      "Epoch 23/250\n",
      "21/21 [==============================] - 0s 597us/step - loss: 787231.3750\n",
      "Epoch 24/250\n",
      "21/21 [==============================] - 0s 588us/step - loss: 786434.4375\n",
      "Epoch 25/250\n",
      "21/21 [==============================] - 0s 552us/step - loss: 785580.1250\n",
      "Epoch 26/250\n",
      "21/21 [==============================] - 0s 597us/step - loss: 784665.4375\n",
      "Epoch 27/250\n",
      "21/21 [==============================] - 0s 548us/step - loss: 783681.5000\n",
      "Epoch 28/250\n",
      "21/21 [==============================] - 0s 598us/step - loss: 782636.0000\n",
      "Epoch 29/250\n",
      "21/21 [==============================] - 0s 548us/step - loss: 781522.9375\n",
      "Epoch 30/250\n",
      "21/21 [==============================] - 0s 548us/step - loss: 780341.7500\n",
      "Epoch 31/250\n",
      "21/21 [==============================] - 0s 598us/step - loss: 779082.4375\n",
      "Epoch 32/250\n",
      "21/21 [==============================] - 0s 598us/step - loss: 777751.3750\n",
      "Epoch 33/250\n",
      "21/21 [==============================] - 0s 598us/step - loss: 776340.7500\n",
      "Epoch 34/250\n",
      "21/21 [==============================] - 0s 548us/step - loss: 774841.6250\n",
      "Epoch 35/250\n",
      "21/21 [==============================] - 0s 598us/step - loss: 773258.7500\n",
      "Epoch 36/250\n",
      "21/21 [==============================] - 0s 548us/step - loss: 771587.7500\n",
      "Epoch 37/250\n",
      "21/21 [==============================] - 0s 548us/step - loss: 769824.0000\n",
      "Epoch 38/250\n",
      "21/21 [==============================] - 0s 548us/step - loss: 767956.3750\n",
      "Epoch 39/250\n",
      "21/21 [==============================] - 0s 598us/step - loss: 765996.6875\n",
      "Epoch 40/250\n",
      "21/21 [==============================] - 0s 548us/step - loss: 763928.3750\n",
      "Epoch 41/250\n",
      "21/21 [==============================] - 0s 553us/step - loss: 761766.5000\n",
      "Epoch 42/250\n",
      "21/21 [==============================] - 0s 499us/step - loss: 759492.1250\n",
      "Epoch 43/250\n",
      "21/21 [==============================] - 0s 548us/step - loss: 757090.1250\n",
      "Epoch 44/250\n",
      "21/21 [==============================] - 0s 498us/step - loss: 754589.2500\n",
      "Epoch 45/250\n",
      "21/21 [==============================] - 0s 548us/step - loss: 751948.5625\n",
      "Epoch 46/250\n",
      "21/21 [==============================] - 0s 548us/step - loss: 749196.4375\n",
      "Epoch 47/250\n",
      "21/21 [==============================] - 0s 5ms/step - loss: 746319.1875\n",
      "Epoch 48/250\n",
      "21/21 [==============================] - 0s 548us/step - loss: 743318.5625\n",
      "Epoch 49/250\n",
      "21/21 [==============================] - 0s 548us/step - loss: 740180.3750\n",
      "Epoch 50/250\n",
      "21/21 [==============================] - 0s 548us/step - loss: 736904.4375\n",
      "Epoch 51/250\n",
      "21/21 [==============================] - 0s 498us/step - loss: 733469.6875\n",
      "Epoch 52/250\n",
      "21/21 [==============================] - 0s 498us/step - loss: 729903.8750\n",
      "Epoch 53/250\n",
      "21/21 [==============================] - 0s 548us/step - loss: 726213.6875\n",
      "Epoch 54/250\n",
      "21/21 [==============================] - 0s 498us/step - loss: 722341.5000\n",
      "Epoch 55/250\n",
      "21/21 [==============================] - 0s 498us/step - loss: 718341.0625\n",
      "Epoch 56/250\n",
      "21/21 [==============================] - 0s 548us/step - loss: 714175.8125\n",
      "Epoch 57/250\n",
      "21/21 [==============================] - 0s 499us/step - loss: 709850.6250\n",
      "Epoch 58/250\n",
      "21/21 [==============================] - 0s 499us/step - loss: 705358.1875\n",
      "Epoch 59/250\n",
      "21/21 [==============================] - 0s 498us/step - loss: 700705.3750\n",
      "Epoch 60/250\n",
      "21/21 [==============================] - 0s 498us/step - loss: 695879.0000\n",
      "Epoch 61/250\n",
      "21/21 [==============================] - 0s 498us/step - loss: 690868.1875\n",
      "Epoch 62/250\n",
      "21/21 [==============================] - 0s 498us/step - loss: 685719.1250\n",
      "Epoch 63/250\n",
      "21/21 [==============================] - 0s 548us/step - loss: 680364.5625\n",
      "Epoch 64/250\n",
      "21/21 [==============================] - 0s 548us/step - loss: 674835.3750\n",
      "Epoch 65/250\n",
      "21/21 [==============================] - 0s 498us/step - loss: 669129.6250\n",
      "Epoch 66/250\n",
      "21/21 [==============================] - 0s 548us/step - loss: 663214.6875\n",
      "Epoch 67/250\n",
      "21/21 [==============================] - 0s 449us/step - loss: 657135.3125\n",
      "Epoch 68/250\n",
      "21/21 [==============================] - 0s 449us/step - loss: 650879.0625\n",
      "Epoch 69/250\n",
      "21/21 [==============================] - 0s 498us/step - loss: 644405.0625\n",
      "Epoch 70/250\n",
      "21/21 [==============================] - 0s 498us/step - loss: 637757.4375\n",
      "Epoch 71/250\n",
      "21/21 [==============================] - 0s 548us/step - loss: 630907.1250\n",
      "Epoch 72/250\n",
      "21/21 [==============================] - 0s 498us/step - loss: 623878.3750\n",
      "Epoch 73/250\n",
      "21/21 [==============================] - 0s 548us/step - loss: 616632.1875\n",
      "Epoch 74/250\n",
      "21/21 [==============================] - 0s 498us/step - loss: 609173.7500\n",
      "Epoch 75/250\n",
      "21/21 [==============================] - 0s 498us/step - loss: 601530.0000\n",
      "Epoch 76/250\n",
      "21/21 [==============================] - 0s 548us/step - loss: 593684.8750\n",
      "Epoch 77/250\n",
      "21/21 [==============================] - 0s 498us/step - loss: 585641.7500\n",
      "Epoch 78/250\n",
      "21/21 [==============================] - 0s 498us/step - loss: 577413.8125\n",
      "Epoch 79/250\n",
      "21/21 [==============================] - 0s 498us/step - loss: 568989.6250\n",
      "Epoch 80/250\n",
      "21/21 [==============================] - 0s 548us/step - loss: 560375.4375\n",
      "Epoch 81/250\n",
      "21/21 [==============================] - 0s 548us/step - loss: 551545.7500\n",
      "Epoch 82/250\n",
      "21/21 [==============================] - 0s 498us/step - loss: 542471.6250\n",
      "Epoch 83/250\n",
      "21/21 [==============================] - 0s 498us/step - loss: 533238.4375\n",
      "Epoch 84/250\n",
      "21/21 [==============================] - 0s 498us/step - loss: 523857.6562\n",
      "Epoch 85/250\n",
      "21/21 [==============================] - 0s 548us/step - loss: 514260.4375\n",
      "Epoch 86/250\n",
      "21/21 [==============================] - 0s 498us/step - loss: 504447.4688\n",
      "Epoch 87/250\n",
      "21/21 [==============================] - 0s 548us/step - loss: 494476.5000\n",
      "Epoch 88/250\n",
      "21/21 [==============================] - 0s 498us/step - loss: 484310.7188\n",
      "Epoch 89/250\n",
      "21/21 [==============================] - 0s 499us/step - loss: 473997.2812\n",
      "Epoch 90/250\n",
      "21/21 [==============================] - 0s 548us/step - loss: 463460.5000\n",
      "Epoch 91/250\n",
      "21/21 [==============================] - 0s 498us/step - loss: 452755.8125\n",
      "Epoch 92/250\n",
      "21/21 [==============================] - 0s 449us/step - loss: 441918.1875\n",
      "Epoch 93/250\n",
      "21/21 [==============================] - 0s 498us/step - loss: 430899.5000\n",
      "Epoch 94/250\n",
      "21/21 [==============================] - 0s 548us/step - loss: 419712.2500\n",
      "Epoch 95/250\n",
      "21/21 [==============================] - 0s 498us/step - loss: 408399.6250\n",
      "Epoch 96/250\n",
      "21/21 [==============================] - 0s 499us/step - loss: 396992.7500\n",
      "Epoch 97/250\n",
      "21/21 [==============================] - 0s 548us/step - loss: 385411.5938\n",
      "Epoch 98/250\n",
      "21/21 [==============================] - 0s 498us/step - loss: 373681.7812\n",
      "Epoch 99/250\n",
      "21/21 [==============================] - 0s 486us/step - loss: 361877.8750\n",
      "Epoch 100/250\n",
      "21/21 [==============================] - 0s 548us/step - loss: 349955.8125\n",
      "Epoch 101/250\n",
      "21/21 [==============================] - 0s 449us/step - loss: 337933.7188\n",
      "Epoch 102/250\n",
      "21/21 [==============================] - 0s 498us/step - loss: 325881.9375\n",
      "Epoch 103/250\n",
      "21/21 [==============================] - 0s 498us/step - loss: 313718.7500\n",
      "Epoch 104/250\n",
      "21/21 [==============================] - 0s 498us/step - loss: 301544.9375\n",
      "Epoch 105/250\n",
      "21/21 [==============================] - 0s 498us/step - loss: 289233.8125\n",
      "Epoch 106/250\n",
      "21/21 [==============================] - 0s 498us/step - loss: 276983.9688\n",
      "Epoch 107/250\n",
      "21/21 [==============================] - 0s 498us/step - loss: 264703.1875\n",
      "Epoch 108/250\n",
      "21/21 [==============================] - 0s 548us/step - loss: 252368.8125\n",
      "Epoch 109/250\n",
      "21/21 [==============================] - 0s 548us/step - loss: 240047.3281\n",
      "Epoch 110/250\n",
      "21/21 [==============================] - 0s 498us/step - loss: 227800.1406\n",
      "Epoch 111/250\n",
      "21/21 [==============================] - 0s 498us/step - loss: 215694.7656\n",
      "Epoch 112/250\n",
      "21/21 [==============================] - 0s 499us/step - loss: 203684.6406\n",
      "Epoch 113/250\n",
      "21/21 [==============================] - 0s 448us/step - loss: 191638.4531\n",
      "Epoch 114/250\n",
      "21/21 [==============================] - 0s 498us/step - loss: 179746.8438\n",
      "Epoch 115/250\n",
      "21/21 [==============================] - 0s 548us/step - loss: 168065.4219\n",
      "Epoch 116/250\n",
      "21/21 [==============================] - 0s 490us/step - loss: 156500.5469\n",
      "Epoch 117/250\n",
      "21/21 [==============================] - 0s 498us/step - loss: 145084.2031\n",
      "Epoch 118/250\n",
      "21/21 [==============================] - 0s 498us/step - loss: 133843.9688\n",
      "Epoch 119/250\n",
      "21/21 [==============================] - 0s 498us/step - loss: 122907.1641\n",
      "Epoch 120/250\n",
      "21/21 [==============================] - 0s 498us/step - loss: 112329.8750\n",
      "Epoch 121/250\n",
      "21/21 [==============================] - 0s 499us/step - loss: 102025.7344\n",
      "Epoch 122/250\n",
      "21/21 [==============================] - 0s 498us/step - loss: 92048.2656\n",
      "Epoch 123/250\n",
      "21/21 [==============================] - 0s 498us/step - loss: 82487.1797\n",
      "Epoch 124/250\n",
      "21/21 [==============================] - 0s 548us/step - loss: 73223.2422\n",
      "Epoch 125/250\n",
      "21/21 [==============================] - 0s 498us/step - loss: 64407.6719\n",
      "Epoch 126/250\n",
      "21/21 [==============================] - 0s 498us/step - loss: 56106.8789\n",
      "Epoch 127/250\n",
      "21/21 [==============================] - 0s 498us/step - loss: 48305.0117\n",
      "Epoch 128/250\n",
      "21/21 [==============================] - 0s 498us/step - loss: 41005.6562\n",
      "Epoch 129/250\n",
      "21/21 [==============================] - 0s 499us/step - loss: 34355.4062\n",
      "Epoch 130/250\n",
      "21/21 [==============================] - 0s 498us/step - loss: 28225.8320\n",
      "Epoch 131/250\n",
      "21/21 [==============================] - 0s 502us/step - loss: 22817.2461\n",
      "Epoch 132/250\n",
      "21/21 [==============================] - 0s 548us/step - loss: 18106.7383\n",
      "Epoch 133/250\n",
      "21/21 [==============================] - 0s 548us/step - loss: 14075.1631\n",
      "Epoch 134/250\n",
      "21/21 [==============================] - 0s 548us/step - loss: 10831.7070\n",
      "Epoch 135/250\n",
      "21/21 [==============================] - 0s 548us/step - loss: 8352.2979\n",
      "Epoch 136/250\n",
      "21/21 [==============================] - 0s 548us/step - loss: 6619.7910\n",
      "Epoch 137/250\n",
      "21/21 [==============================] - 0s 498us/step - loss: 5596.7183\n",
      "Epoch 138/250\n",
      "21/21 [==============================] - 0s 548us/step - loss: 5205.4517\n",
      "Epoch 139/250\n",
      "21/21 [==============================] - 0s 548us/step - loss: 5096.6099\n",
      "Epoch 140/250\n",
      "21/21 [==============================] - 0s 498us/step - loss: 5030.4883\n",
      "Epoch 141/250\n",
      "21/21 [==============================] - 0s 498us/step - loss: 4976.6909\n",
      "Epoch 142/250\n",
      "21/21 [==============================] - 0s 501us/step - loss: 4904.8696\n",
      "Epoch 143/250\n",
      "21/21 [==============================] - 0s 548us/step - loss: 4854.6211\n",
      "Epoch 144/250\n",
      "21/21 [==============================] - 0s 498us/step - loss: 4796.6450\n",
      "Epoch 145/250\n",
      "21/21 [==============================] - 0s 498us/step - loss: 4736.0610\n",
      "Epoch 146/250\n",
      "21/21 [==============================] - 0s 548us/step - loss: 4671.4517\n",
      "Epoch 147/250\n",
      "21/21 [==============================] - 0s 548us/step - loss: 4618.9995\n",
      "Epoch 148/250\n",
      "21/21 [==============================] - 0s 498us/step - loss: 4553.9048\n",
      "Epoch 149/250\n",
      "21/21 [==============================] - 0s 548us/step - loss: 4492.9702\n",
      "Epoch 150/250\n",
      "21/21 [==============================] - 0s 498us/step - loss: 4432.3711\n",
      "Epoch 151/250\n",
      "21/21 [==============================] - 0s 498us/step - loss: 4368.7588\n",
      "Epoch 152/250\n",
      "21/21 [==============================] - 0s 498us/step - loss: 4302.7725\n",
      "Epoch 153/250\n",
      "21/21 [==============================] - 0s 498us/step - loss: 4241.3408\n",
      "Epoch 154/250\n",
      "21/21 [==============================] - 0s 498us/step - loss: 4174.0430\n",
      "Epoch 155/250\n",
      "21/21 [==============================] - 0s 498us/step - loss: 4109.8677\n",
      "Epoch 156/250\n",
      "21/21 [==============================] - 0s 498us/step - loss: 4045.1675\n",
      "Epoch 157/250\n",
      "21/21 [==============================] - 0s 548us/step - loss: 3979.9060\n",
      "Epoch 158/250\n",
      "21/21 [==============================] - 0s 620us/step - loss: 3919.3777\n",
      "Epoch 159/250\n",
      "21/21 [==============================] - 0s 548us/step - loss: 3856.6470\n",
      "Epoch 160/250\n",
      "21/21 [==============================] - 0s 498us/step - loss: 3795.3960\n",
      "Epoch 161/250\n",
      "21/21 [==============================] - 0s 500us/step - loss: 3735.6343\n",
      "Epoch 162/250\n",
      "21/21 [==============================] - 0s 548us/step - loss: 3672.0757\n",
      "Epoch 163/250\n",
      "21/21 [==============================] - 0s 548us/step - loss: 3610.4189\n",
      "Epoch 164/250\n",
      "21/21 [==============================] - 0s 548us/step - loss: 3550.9011\n",
      "Epoch 165/250\n",
      "21/21 [==============================] - 0s 548us/step - loss: 3496.0410\n",
      "Epoch 166/250\n",
      "21/21 [==============================] - 0s 548us/step - loss: 3439.6594\n",
      "Epoch 167/250\n",
      "21/21 [==============================] - 0s 548us/step - loss: 3382.6499\n",
      "Epoch 168/250\n",
      "21/21 [==============================] - 0s 548us/step - loss: 3336.2520\n",
      "Epoch 169/250\n",
      "21/21 [==============================] - 0s 548us/step - loss: 3280.4402\n",
      "Epoch 170/250\n",
      "21/21 [==============================] - 0s 548us/step - loss: 3225.3469\n",
      "Epoch 171/250\n",
      "21/21 [==============================] - 0s 548us/step - loss: 3166.5452\n",
      "Epoch 172/250\n",
      "21/21 [==============================] - 0s 548us/step - loss: 3115.1135\n",
      "Epoch 173/250\n",
      "21/21 [==============================] - 0s 498us/step - loss: 3059.6265\n",
      "Epoch 174/250\n",
      "21/21 [==============================] - 0s 498us/step - loss: 3007.5017\n",
      "Epoch 175/250\n",
      "21/21 [==============================] - 0s 498us/step - loss: 2957.7744\n",
      "Epoch 176/250\n",
      "21/21 [==============================] - 0s 513us/step - loss: 2904.4016\n",
      "Epoch 177/250\n",
      "21/21 [==============================] - 0s 498us/step - loss: 2859.3171\n",
      "Epoch 178/250\n",
      "21/21 [==============================] - 0s 548us/step - loss: 2802.5974\n",
      "Epoch 179/250\n",
      "21/21 [==============================] - 0s 613us/step - loss: 2751.8308\n",
      "Epoch 180/250\n",
      "21/21 [==============================] - 0s 515us/step - loss: 2695.0330\n",
      "Epoch 181/250\n",
      "21/21 [==============================] - 0s 498us/step - loss: 2648.2861\n",
      "Epoch 182/250\n",
      "21/21 [==============================] - 0s 548us/step - loss: 2594.4153\n",
      "Epoch 183/250\n",
      "21/21 [==============================] - 0s 548us/step - loss: 2541.5042\n",
      "Epoch 184/250\n",
      "21/21 [==============================] - 0s 548us/step - loss: 2495.8066\n",
      "Epoch 185/250\n",
      "21/21 [==============================] - 0s 498us/step - loss: 2444.1089\n",
      "Epoch 186/250\n",
      "21/21 [==============================] - 0s 498us/step - loss: 2405.6909\n",
      "Epoch 187/250\n",
      "21/21 [==============================] - 0s 498us/step - loss: 2352.7393\n",
      "Epoch 188/250\n",
      "21/21 [==============================] - 0s 498us/step - loss: 2306.0122\n",
      "Epoch 189/250\n",
      "21/21 [==============================] - 0s 498us/step - loss: 2249.7202\n",
      "Epoch 190/250\n",
      "21/21 [==============================] - 0s 498us/step - loss: 2210.8887\n",
      "Epoch 191/250\n",
      "21/21 [==============================] - 0s 548us/step - loss: 2162.4709\n",
      "Epoch 192/250\n",
      "21/21 [==============================] - 0s 548us/step - loss: 2123.2117\n",
      "Epoch 193/250\n",
      "21/21 [==============================] - 0s 498us/step - loss: 2075.8462\n",
      "Epoch 194/250\n",
      "21/21 [==============================] - 0s 498us/step - loss: 2031.0321\n",
      "Epoch 195/250\n",
      "21/21 [==============================] - 0s 548us/step - loss: 1989.9202\n",
      "Epoch 196/250\n",
      "21/21 [==============================] - 0s 498us/step - loss: 1950.8013\n",
      "Epoch 197/250\n",
      "21/21 [==============================] - 0s 498us/step - loss: 1906.4879\n",
      "Epoch 198/250\n",
      "21/21 [==============================] - 0s 498us/step - loss: 1867.7529\n",
      "Epoch 199/250\n",
      "21/21 [==============================] - 0s 498us/step - loss: 1825.7772\n",
      "Epoch 200/250\n",
      "21/21 [==============================] - 0s 449us/step - loss: 1787.0795\n",
      "Epoch 201/250\n",
      "21/21 [==============================] - 0s 548us/step - loss: 1745.2023\n",
      "Epoch 202/250\n",
      "21/21 [==============================] - 0s 498us/step - loss: 1702.6517\n",
      "Epoch 203/250\n",
      "21/21 [==============================] - 0s 548us/step - loss: 1666.3170\n",
      "Epoch 204/250\n",
      "21/21 [==============================] - 0s 548us/step - loss: 1621.1519\n",
      "Epoch 205/250\n",
      "21/21 [==============================] - 0s 548us/step - loss: 1578.8573\n",
      "Epoch 206/250\n",
      "21/21 [==============================] - 0s 498us/step - loss: 1538.5240\n",
      "Epoch 207/250\n",
      "21/21 [==============================] - 0s 498us/step - loss: 1498.4191\n",
      "Epoch 208/250\n",
      "21/21 [==============================] - 0s 498us/step - loss: 1455.6714\n",
      "Epoch 209/250\n",
      "21/21 [==============================] - 0s 498us/step - loss: 1413.9325\n",
      "Epoch 210/250\n",
      "21/21 [==============================] - 0s 498us/step - loss: 1378.5165\n",
      "Epoch 211/250\n",
      "21/21 [==============================] - 0s 499us/step - loss: 1342.0168\n",
      "Epoch 212/250\n",
      "21/21 [==============================] - 0s 524us/step - loss: 1308.3099\n",
      "Epoch 213/250\n",
      "21/21 [==============================] - 0s 498us/step - loss: 1273.5990\n",
      "Epoch 214/250\n",
      "21/21 [==============================] - 0s 548us/step - loss: 1238.8134\n",
      "Epoch 215/250\n",
      "21/21 [==============================] - 0s 498us/step - loss: 1201.2610\n",
      "Epoch 216/250\n",
      "21/21 [==============================] - 0s 499us/step - loss: 1169.2943\n",
      "Epoch 217/250\n",
      "21/21 [==============================] - 0s 498us/step - loss: 1137.0767\n",
      "Epoch 218/250\n",
      "21/21 [==============================] - 0s 499us/step - loss: 1103.0475\n",
      "Epoch 219/250\n",
      "21/21 [==============================] - 0s 498us/step - loss: 1067.2783\n",
      "Epoch 220/250\n",
      "21/21 [==============================] - 0s 448us/step - loss: 1032.6371\n",
      "Epoch 221/250\n",
      "21/21 [==============================] - 0s 499us/step - loss: 999.6797\n",
      "Epoch 222/250\n",
      "21/21 [==============================] - 0s 498us/step - loss: 966.1181\n",
      "Epoch 223/250\n",
      "21/21 [==============================] - 0s 499us/step - loss: 935.1459\n",
      "Epoch 224/250\n",
      "21/21 [==============================] - 0s 499us/step - loss: 900.7696\n",
      "Epoch 225/250\n",
      "21/21 [==============================] - 0s 498us/step - loss: 869.2216\n",
      "Epoch 226/250\n",
      "21/21 [==============================] - 0s 498us/step - loss: 838.3951\n",
      "Epoch 227/250\n",
      "21/21 [==============================] - 0s 498us/step - loss: 812.3767\n",
      "Epoch 228/250\n",
      "21/21 [==============================] - 0s 548us/step - loss: 784.1356\n",
      "Epoch 229/250\n",
      "21/21 [==============================] - 0s 498us/step - loss: 759.8992\n",
      "Epoch 230/250\n",
      "21/21 [==============================] - 0s 498us/step - loss: 737.3254\n",
      "Epoch 231/250\n",
      "21/21 [==============================] - 0s 498us/step - loss: 709.8516\n",
      "Epoch 232/250\n",
      "21/21 [==============================] - 0s 548us/step - loss: 684.4305\n",
      "Epoch 233/250\n",
      "21/21 [==============================] - 0s 498us/step - loss: 658.2463\n",
      "Epoch 234/250\n",
      "21/21 [==============================] - 0s 548us/step - loss: 632.8238\n",
      "Epoch 235/250\n",
      "21/21 [==============================] - 0s 598us/step - loss: 611.3411\n",
      "Epoch 236/250\n",
      "21/21 [==============================] - 0s 548us/step - loss: 586.5635\n",
      "Epoch 237/250\n",
      "21/21 [==============================] - 0s 590us/step - loss: 563.2285\n",
      "Epoch 238/250\n",
      "21/21 [==============================] - 0s 623us/step - loss: 540.0092\n",
      "Epoch 239/250\n",
      "21/21 [==============================] - 0s 548us/step - loss: 520.6791\n",
      "Epoch 240/250\n",
      "21/21 [==============================] - 0s 498us/step - loss: 497.9142\n",
      "Epoch 241/250\n",
      "21/21 [==============================] - 0s 498us/step - loss: 476.6075\n",
      "Epoch 242/250\n",
      "21/21 [==============================] - 0s 548us/step - loss: 455.5300\n",
      "Epoch 243/250\n",
      "21/21 [==============================] - 0s 548us/step - loss: 435.4321\n",
      "Epoch 244/250\n",
      "21/21 [==============================] - 0s 548us/step - loss: 414.4728\n",
      "Epoch 245/250\n",
      "21/21 [==============================] - 0s 548us/step - loss: 393.8386\n",
      "Epoch 246/250\n",
      "21/21 [==============================] - 0s 548us/step - loss: 375.3344\n",
      "Epoch 247/250\n",
      "21/21 [==============================] - 0s 548us/step - loss: 355.6458\n",
      "Epoch 248/250\n",
      "21/21 [==============================] - 0s 548us/step - loss: 340.4189\n",
      "Epoch 249/250\n",
      "21/21 [==============================] - 0s 498us/step - loss: 325.9464\n",
      "Epoch 250/250\n",
      "21/21 [==============================] - 0s 498us/step - loss: 309.6276\n"
     ]
    },
    {
     "data": {
      "text/plain": [
       "<keras.callbacks.History at 0x19688d7ba00>"
      ]
     },
     "execution_count": 23,
     "metadata": {},
     "output_type": "execute_result"
    }
   ],
   "source": [
    "model.fit(x_train, y_train, epochs=250)"
   ]
  },
  {
   "cell_type": "code",
   "execution_count": 24,
   "id": "7ebe2654-e74e-4754-b943-96c3d8f8d1a0",
   "metadata": {
    "tags": []
   },
   "outputs": [],
   "source": [
    "loss = model.history.history[\"loss\"]"
   ]
  },
  {
   "cell_type": "code",
   "execution_count": 25,
   "id": "fcb4076b-0b0d-49c9-97d6-a170aa9a975b",
   "metadata": {},
   "outputs": [
    {
     "data": {
      "text/plain": [
       "<AxesSubplot:>"
      ]
     },
     "execution_count": 25,
     "metadata": {},
     "output_type": "execute_result"
    },
    {
     "data": {
      "image/png": "[encoded data removed]",
      "text/plain": [
       "<Figure size 432x288 with 1 Axes>"
      ]
     },
     "metadata": {
      "needs_background": "light"
     },
     "output_type": "display_data"
    }
   ],
   "source": [
    "sns.lineplot(x=range(len(loss)),y=loss)"
   ]
  },
  {
   "cell_type": "code",
   "execution_count": 26,
   "id": "1e4c01c9-afb4-46b3-ad67-3207676d084a",
   "metadata": {},
   "outputs": [],
   "source": [
    "trainLoss = model.evaluate(x_train,y_train, verbose=0)"
   ]
  },
  {
   "cell_type": "code",
   "execution_count": 27,
   "id": "1d29f224-79a5-45a0-90a6-8f3e05ecae06",
   "metadata": {},
   "outputs": [],
   "source": [
    "testLoss = model.evaluate(x_test, y_test, verbose=0) #evaluate degerlendirme"
   ]
  },
  {
   "cell_type": "code",
   "execution_count": 28,
   "id": "b083b9e1-cdc6-4e1a-bf8b-8f05912bfc84",
   "metadata": {},
   "outputs": [
    {
     "data": {
      "text/plain": [
       "301.7481689453125"
      ]
     },
     "execution_count": 28,
     "metadata": {},
     "output_type": "execute_result"
    }
   ],
   "source": [
    "trainLoss"
   ]
  },
  {
   "cell_type": "code",
   "execution_count": 29,
   "id": "1921b883-740a-4e4b-a421-367c708cf381",
   "metadata": {},
   "outputs": [
    {
     "data": {
      "text/plain": [
       "291.1084289550781"
      ]
     },
     "execution_count": 29,
     "metadata": {},
     "output_type": "execute_result"
    }
   ],
   "source": [
    "testLoss"
   ]
  },
  {
   "cell_type": "code",
   "execution_count": 30,
   "id": "716c38c8-7ba6-40e3-bf01-578625446439",
   "metadata": {},
   "outputs": [],
   "source": [
    "testTahminler = model.predict(x_test)"
   ]
  },
  {
   "cell_type": "code",
   "execution_count": 31,
   "id": "cbcf4508-46f6-465f-9882-2c1fd977f530",
   "metadata": {
    "tags": []
   },
   "outputs": [
    {
     "data": {
      "text/plain": [
       "(330, 1)"
      ]
     },
     "execution_count": 31,
     "metadata": {},
     "output_type": "execute_result"
    }
   ],
   "source": [
    "testTahminler.shape"
   ]
  },
  {
   "cell_type": "code",
   "execution_count": 32,
   "id": "0b3df8e1-7d11-48b6-a5ff-3d22b6f88440",
   "metadata": {},
   "outputs": [],
   "source": [
    "tahminDF = pd.DataFrame(y_test, columns=[\"Gercek y\"])"
   ]
  },
  {
   "cell_type": "code",
   "execution_count": 33,
   "id": "2b0966e7-c02d-4a90-a658-4acacce834d9",
   "metadata": {},
   "outputs": [
    {
     "data": {
      "text/html": [
       "<div>\n",
       "<style scoped>\n",
       "    .dataframe tbody tr th:only-of-type {\n",
       "        vertical-align: middle;\n",
       "    }\n",
       "\n",
       "    .dataframe tbody tr th {\n",
       "        vertical-align: top;\n",
       "    }\n",
       "\n",
       "    .dataframe thead th {\n",
       "        text-align: right;\n",
       "    }\n",
       "</style>\n",
       "<table border=\"1\" class=\"dataframe\">\n",
       "  <thead>\n",
       "    <tr style=\"text-align: right;\">\n",
       "      <th></th>\n",
       "      <th>Gercek y</th>\n",
       "    </tr>\n",
       "  </thead>\n",
       "  <tbody>\n",
       "    <tr>\n",
       "      <th>0</th>\n",
       "      <td>1081.652164</td>\n",
       "    </tr>\n",
       "    <tr>\n",
       "      <th>1</th>\n",
       "      <td>622.675990</td>\n",
       "    </tr>\n",
       "    <tr>\n",
       "      <th>2</th>\n",
       "      <td>889.356810</td>\n",
       "    </tr>\n",
       "    <tr>\n",
       "      <th>3</th>\n",
       "      <td>902.826733</td>\n",
       "    </tr>\n",
       "    <tr>\n",
       "      <th>4</th>\n",
       "      <td>897.662404</td>\n",
       "    </tr>\n",
       "    <tr>\n",
       "      <th>...</th>\n",
       "      <td>...</td>\n",
       "    </tr>\n",
       "    <tr>\n",
       "      <th>325</th>\n",
       "      <td>1028.438035</td>\n",
       "    </tr>\n",
       "    <tr>\n",
       "      <th>326</th>\n",
       "      <td>789.934950</td>\n",
       "    </tr>\n",
       "    <tr>\n",
       "      <th>327</th>\n",
       "      <td>758.490486</td>\n",
       "    </tr>\n",
       "    <tr>\n",
       "      <th>328</th>\n",
       "      <td>1172.871659</td>\n",
       "    </tr>\n",
       "    <tr>\n",
       "      <th>329</th>\n",
       "      <td>820.947936</td>\n",
       "    </tr>\n",
       "  </tbody>\n",
       "</table>\n",
       "<p>330 rows × 1 columns</p>\n",
       "</div>"
      ],
      "text/plain": [
       "        Gercek y\n",
       "0    1081.652164\n",
       "1     622.675990\n",
       "2     889.356810\n",
       "3     902.826733\n",
       "4     897.662404\n",
       "..           ...\n",
       "325  1028.438035\n",
       "326   789.934950\n",
       "327   758.490486\n",
       "328  1172.871659\n",
       "329   820.947936\n",
       "\n",
       "[330 rows x 1 columns]"
      ]
     },
     "execution_count": 33,
     "metadata": {},
     "output_type": "execute_result"
    }
   ],
   "source": [
    "tahminDF"
   ]
  },
  {
   "cell_type": "code",
   "execution_count": 34,
   "id": "e542dd9b-dfcb-4887-b24c-a9e265b2c320",
   "metadata": {},
   "outputs": [],
   "source": [
    "testTahminler = pd.Series(testTahminler.reshape(330,))"
   ]
  },
  {
   "cell_type": "code",
   "execution_count": 35,
   "id": "839ff4d1-deac-43c4-8eeb-840f9927dd0c",
   "metadata": {},
   "outputs": [
    {
     "data": {
      "text/plain": [
       "0      1061.429077\n",
       "1       648.634949\n",
       "2       877.964355\n",
       "3       895.007935\n",
       "4       899.885681\n",
       "          ...     \n",
       "325    1002.921326\n",
       "326     800.874146\n",
       "327     777.758728\n",
       "328    1142.913452\n",
       "329     811.903931\n",
       "Length: 330, dtype: float32"
      ]
     },
     "execution_count": 35,
     "metadata": {},
     "output_type": "execute_result"
    }
   ],
   "source": [
    "testTahminler"
   ]
  },
  {
   "cell_type": "code",
   "execution_count": 36,
   "id": "ae55e685-50c1-401e-a889-8ac91953c3f1",
   "metadata": {},
   "outputs": [],
   "source": [
    "tahminDF = pd.concat([tahminDF,testTahminler],axis=1)"
   ]
  },
  {
   "cell_type": "code",
   "execution_count": 37,
   "id": "c77008f8-5003-4fdd-b7a9-6d129496ce50",
   "metadata": {},
   "outputs": [
    {
     "data": {
      "text/html": [
       "<div>\n",
       "<style scoped>\n",
       "    .dataframe tbody tr th:only-of-type {\n",
       "        vertical-align: middle;\n",
       "    }\n",
       "\n",
       "    .dataframe tbody tr th {\n",
       "        vertical-align: top;\n",
       "    }\n",
       "\n",
       "    .dataframe thead th {\n",
       "        text-align: right;\n",
       "    }\n",
       "</style>\n",
       "<table border=\"1\" class=\"dataframe\">\n",
       "  <thead>\n",
       "    <tr style=\"text-align: right;\">\n",
       "      <th></th>\n",
       "      <th>Gercek y</th>\n",
       "      <th>0</th>\n",
       "    </tr>\n",
       "  </thead>\n",
       "  <tbody>\n",
       "    <tr>\n",
       "      <th>0</th>\n",
       "      <td>1081.652164</td>\n",
       "      <td>1061.429077</td>\n",
       "    </tr>\n",
       "    <tr>\n",
       "      <th>1</th>\n",
       "      <td>622.675990</td>\n",
       "      <td>648.634949</td>\n",
       "    </tr>\n",
       "    <tr>\n",
       "      <th>2</th>\n",
       "      <td>889.356810</td>\n",
       "      <td>877.964355</td>\n",
       "    </tr>\n",
       "    <tr>\n",
       "      <th>3</th>\n",
       "      <td>902.826733</td>\n",
       "      <td>895.007935</td>\n",
       "    </tr>\n",
       "    <tr>\n",
       "      <th>4</th>\n",
       "      <td>897.662404</td>\n",
       "      <td>899.885681</td>\n",
       "    </tr>\n",
       "    <tr>\n",
       "      <th>...</th>\n",
       "      <td>...</td>\n",
       "      <td>...</td>\n",
       "    </tr>\n",
       "    <tr>\n",
       "      <th>325</th>\n",
       "      <td>1028.438035</td>\n",
       "      <td>1002.921326</td>\n",
       "    </tr>\n",
       "    <tr>\n",
       "      <th>326</th>\n",
       "      <td>789.934950</td>\n",
       "      <td>800.874146</td>\n",
       "    </tr>\n",
       "    <tr>\n",
       "      <th>327</th>\n",
       "      <td>758.490486</td>\n",
       "      <td>777.758728</td>\n",
       "    </tr>\n",
       "    <tr>\n",
       "      <th>328</th>\n",
       "      <td>1172.871659</td>\n",
       "      <td>1142.913452</td>\n",
       "    </tr>\n",
       "    <tr>\n",
       "      <th>329</th>\n",
       "      <td>820.947936</td>\n",
       "      <td>811.903931</td>\n",
       "    </tr>\n",
       "  </tbody>\n",
       "</table>\n",
       "<p>330 rows × 2 columns</p>\n",
       "</div>"
      ],
      "text/plain": [
       "        Gercek y            0\n",
       "0    1081.652164  1061.429077\n",
       "1     622.675990   648.634949\n",
       "2     889.356810   877.964355\n",
       "3     902.826733   895.007935\n",
       "4     897.662404   899.885681\n",
       "..           ...          ...\n",
       "325  1028.438035  1002.921326\n",
       "326   789.934950   800.874146\n",
       "327   758.490486   777.758728\n",
       "328  1172.871659  1142.913452\n",
       "329   820.947936   811.903931\n",
       "\n",
       "[330 rows x 2 columns]"
      ]
     },
     "execution_count": 37,
     "metadata": {},
     "output_type": "execute_result"
    }
   ],
   "source": [
    "tahminDF"
   ]
  },
  {
   "cell_type": "code",
   "execution_count": 38,
   "id": "0d8e76c1-b031-43c8-ab38-f039e8d7c489",
   "metadata": {},
   "outputs": [],
   "source": [
    "tahminDF.columns= [\"Gercek y\",\"Tahmin y\"]"
   ]
  },
  {
   "cell_type": "code",
   "execution_count": 39,
   "id": "f0b3778d-cb8d-47d8-94af-9911500bbdd7",
   "metadata": {},
   "outputs": [
    {
     "data": {
      "text/html": [
       "<div>\n",
       "<style scoped>\n",
       "    .dataframe tbody tr th:only-of-type {\n",
       "        vertical-align: middle;\n",
       "    }\n",
       "\n",
       "    .dataframe tbody tr th {\n",
       "        vertical-align: top;\n",
       "    }\n",
       "\n",
       "    .dataframe thead th {\n",
       "        text-align: right;\n",
       "    }\n",
       "</style>\n",
       "<table border=\"1\" class=\"dataframe\">\n",
       "  <thead>\n",
       "    <tr style=\"text-align: right;\">\n",
       "      <th></th>\n",
       "      <th>Gercek y</th>\n",
       "      <th>Tahmin y</th>\n",
       "    </tr>\n",
       "  </thead>\n",
       "  <tbody>\n",
       "    <tr>\n",
       "      <th>0</th>\n",
       "      <td>1081.652164</td>\n",
       "      <td>1061.429077</td>\n",
       "    </tr>\n",
       "    <tr>\n",
       "      <th>1</th>\n",
       "      <td>622.675990</td>\n",
       "      <td>648.634949</td>\n",
       "    </tr>\n",
       "    <tr>\n",
       "      <th>2</th>\n",
       "      <td>889.356810</td>\n",
       "      <td>877.964355</td>\n",
       "    </tr>\n",
       "    <tr>\n",
       "      <th>3</th>\n",
       "      <td>902.826733</td>\n",
       "      <td>895.007935</td>\n",
       "    </tr>\n",
       "    <tr>\n",
       "      <th>4</th>\n",
       "      <td>897.662404</td>\n",
       "      <td>899.885681</td>\n",
       "    </tr>\n",
       "    <tr>\n",
       "      <th>...</th>\n",
       "      <td>...</td>\n",
       "      <td>...</td>\n",
       "    </tr>\n",
       "    <tr>\n",
       "      <th>325</th>\n",
       "      <td>1028.438035</td>\n",
       "      <td>1002.921326</td>\n",
       "    </tr>\n",
       "    <tr>\n",
       "      <th>326</th>\n",
       "      <td>789.934950</td>\n",
       "      <td>800.874146</td>\n",
       "    </tr>\n",
       "    <tr>\n",
       "      <th>327</th>\n",
       "      <td>758.490486</td>\n",
       "      <td>777.758728</td>\n",
       "    </tr>\n",
       "    <tr>\n",
       "      <th>328</th>\n",
       "      <td>1172.871659</td>\n",
       "      <td>1142.913452</td>\n",
       "    </tr>\n",
       "    <tr>\n",
       "      <th>329</th>\n",
       "      <td>820.947936</td>\n",
       "      <td>811.903931</td>\n",
       "    </tr>\n",
       "  </tbody>\n",
       "</table>\n",
       "<p>330 rows × 2 columns</p>\n",
       "</div>"
      ],
      "text/plain": [
       "        Gercek y     Tahmin y\n",
       "0    1081.652164  1061.429077\n",
       "1     622.675990   648.634949\n",
       "2     889.356810   877.964355\n",
       "3     902.826733   895.007935\n",
       "4     897.662404   899.885681\n",
       "..           ...          ...\n",
       "325  1028.438035  1002.921326\n",
       "326   789.934950   800.874146\n",
       "327   758.490486   777.758728\n",
       "328  1172.871659  1142.913452\n",
       "329   820.947936   811.903931\n",
       "\n",
       "[330 rows x 2 columns]"
      ]
     },
     "execution_count": 39,
     "metadata": {},
     "output_type": "execute_result"
    }
   ],
   "source": [
    "tahminDF"
   ]
  },
  {
   "cell_type": "code",
   "execution_count": 40,
   "id": "941a2e97-4a0a-4ae1-b9c0-1a16acc32126",
   "metadata": {},
   "outputs": [
    {
     "data": {
      "text/plain": [
       "<AxesSubplot:xlabel='Gercek y', ylabel='Tahmin y'>"
      ]
     },
     "execution_count": 40,
     "metadata": {},
     "output_type": "execute_result"
    },
    {
     "data": {
      "image/png": "[encoded data removed]",
      "text/plain": [
       "<Figure size 432x288 with 1 Axes>"
      ]
     },
     "metadata": {
      "needs_background": "light"
     },
     "output_type": "display_data"
    }
   ],
   "source": [
    "sns.scatterplot(x = \"Gercek y\", y=\"Tahmin y\", data=tahminDF)"
   ]
  },
  {
   "cell_type": "code",
   "execution_count": 41,
   "id": "2ec61ae6-d3f4-4e1f-b259-b579b288a4af",
   "metadata": {},
   "outputs": [],
   "source": [
    "from sklearn.metrics import mean_absolute_error, mean_squared_error"
   ]
  },
  {
   "cell_type": "code",
   "execution_count": 42,
   "id": "60ca48d0-87cc-4dea-8e04-c92df9e7b4a3",
   "metadata": {},
   "outputs": [
    {
     "data": {
      "text/plain": [
       "13.777042035462832"
      ]
     },
     "execution_count": 42,
     "metadata": {},
     "output_type": "execute_result"
    }
   ],
   "source": [
    "mean_absolute_error(tahminDF[\"Gercek y\"], tahminDF[\"Tahmin y\"])"
   ]
  },
  {
   "cell_type": "code",
   "execution_count": 43,
   "id": "bb7f9314-7692-411b-a775-a240014cd923",
   "metadata": {},
   "outputs": [
    {
     "data": {
      "text/plain": [
       "291.10846006613593"
      ]
     },
     "execution_count": 43,
     "metadata": {},
     "output_type": "execute_result"
    }
   ],
   "source": [
    "mean_squared_error(tahminDF[\"Gercek y\"], tahminDF[\"Tahmin y\"])"
   ]
  },
  {
   "cell_type": "code",
   "execution_count": 44,
   "id": "1d899832-c9d4-4d60-9e91-291d8a1d1f52",
   "metadata": {},
   "outputs": [
    {
     "data": {
      "text/html": [
       "<div>\n",
       "<style scoped>\n",
       "    .dataframe tbody tr th:only-of-type {\n",
       "        vertical-align: middle;\n",
       "    }\n",
       "\n",
       "    .dataframe tbody tr th {\n",
       "        vertical-align: top;\n",
       "    }\n",
       "\n",
       "    .dataframe thead th {\n",
       "        text-align: right;\n",
       "    }\n",
       "</style>\n",
       "<table border=\"1\" class=\"dataframe\">\n",
       "  <thead>\n",
       "    <tr style=\"text-align: right;\">\n",
       "      <th></th>\n",
       "      <th>Fiyat</th>\n",
       "      <th>BisikletOzellik1</th>\n",
       "      <th>BisikletOzellik2</th>\n",
       "    </tr>\n",
       "  </thead>\n",
       "  <tbody>\n",
       "    <tr>\n",
       "      <th>count</th>\n",
       "      <td>1000.000000</td>\n",
       "      <td>1000.000000</td>\n",
       "      <td>1000.000000</td>\n",
       "    </tr>\n",
       "    <tr>\n",
       "      <th>mean</th>\n",
       "      <td>872.677801</td>\n",
       "      <td>1750.024800</td>\n",
       "      <td>1749.964733</td>\n",
       "    </tr>\n",
       "    <tr>\n",
       "      <th>std</th>\n",
       "      <td>164.124504</td>\n",
       "      <td>1.704531</td>\n",
       "      <td>1.659578</td>\n",
       "    </tr>\n",
       "    <tr>\n",
       "      <th>min</th>\n",
       "      <td>390.856887</td>\n",
       "      <td>1744.852108</td>\n",
       "      <td>1744.742389</td>\n",
       "    </tr>\n",
       "    <tr>\n",
       "      <th>25%</th>\n",
       "      <td>757.795031</td>\n",
       "      <td>1748.831119</td>\n",
       "      <td>1748.803186</td>\n",
       "    </tr>\n",
       "    <tr>\n",
       "      <th>50%</th>\n",
       "      <td>879.168705</td>\n",
       "      <td>1750.017350</td>\n",
       "      <td>1750.003926</td>\n",
       "    </tr>\n",
       "    <tr>\n",
       "      <th>75%</th>\n",
       "      <td>988.612778</td>\n",
       "      <td>1751.115765</td>\n",
       "      <td>1751.129414</td>\n",
       "    </tr>\n",
       "    <tr>\n",
       "      <th>max</th>\n",
       "      <td>1355.213745</td>\n",
       "      <td>1755.613884</td>\n",
       "      <td>1754.666038</td>\n",
       "    </tr>\n",
       "  </tbody>\n",
       "</table>\n",
       "</div>"
      ],
      "text/plain": [
       "             Fiyat  BisikletOzellik1  BisikletOzellik2\n",
       "count  1000.000000       1000.000000       1000.000000\n",
       "mean    872.677801       1750.024800       1749.964733\n",
       "std     164.124504          1.704531          1.659578\n",
       "min     390.856887       1744.852108       1744.742389\n",
       "25%     757.795031       1748.831119       1748.803186\n",
       "50%     879.168705       1750.017350       1750.003926\n",
       "75%     988.612778       1751.115765       1751.129414\n",
       "max    1355.213745       1755.613884       1754.666038"
      ]
     },
     "execution_count": 44,
     "metadata": {},
     "output_type": "execute_result"
    }
   ],
   "source": [
    "DF.describe()"
   ]
  },
  {
   "cell_type": "code",
   "execution_count": 45,
   "id": "a77a0bd8-9461-43e3-a1a3-574d2e1885e3",
   "metadata": {},
   "outputs": [],
   "source": [
    "yeniBisikletOz = [[1750,1749]]"
   ]
  },
  {
   "cell_type": "code",
   "execution_count": 46,
   "id": "3306098a-0106-46d2-b3c0-c4859ac08dcf",
   "metadata": {},
   "outputs": [],
   "source": [
    "yeniBisikletOz=scaler.transform(yeniBisikletOz)"
   ]
  },
  {
   "cell_type": "code",
   "execution_count": 47,
   "id": "cd051f10-3f48-4e9d-8b30-ee7a4f135610",
   "metadata": {},
   "outputs": [
    {
     "data": {
      "text/plain": [
       "array([[795.902]], dtype=float32)"
      ]
     },
     "execution_count": 47,
     "metadata": {},
     "output_type": "execute_result"
    }
   ],
   "source": [
    "model.predict(yeniBisikletOz)"
   ]
  },
  {
   "cell_type": "code",
   "execution_count": 48,
   "id": "ac3a160f-24c5-4085-85a0-0688820b898f",
   "metadata": {},
   "outputs": [],
   "source": [
    "from tensorflow.keras.models import load_model"
   ]
  },
  {
   "cell_type": "code",
   "execution_count": 49,
   "id": "4ca49996-3285-4c2a-8cae-d255bf19c94b",
   "metadata": {},
   "outputs": [],
   "source": [
    "model.save(\"bisiklet_modeli.h5\") #uzantisi h5'dir."
   ]
  },
  {
   "cell_type": "code",
   "execution_count": 50,
   "id": "aa222c5a-27cc-479e-bd0e-4b31be04e093",
   "metadata": {},
   "outputs": [],
   "source": [
    "sonradanCagirilanModel = load_model(\"bisiklet_modeli.h5\")"
   ]
  },
  {
   "cell_type": "code",
   "execution_count": 51,
   "id": "ad97b84e-90e0-4c38-91a1-43095e35972e",
   "metadata": {},
   "outputs": [
    {
     "data": {
      "text/plain": [
       "array([[795.902]], dtype=float32)"
      ]
     },
     "execution_count": 51,
     "metadata": {},
     "output_type": "execute_result"
    }
   ],
   "source": [
    "sonradanCagirilanModel.predict(yeniBisikletOz)"
   ]
  },
  {
   "cell_type": "code",
   "execution_count": 52,
   "id": "3b069125-c036-419e-9b84-964788095f6b",
   "metadata": {},
   "outputs": [],
   "source": [
    "df = pd.read_excel(\"merc.xlsx\")"
   ]
  },
  {
   "cell_type": "code",
   "execution_count": 53,
   "id": "1c4e1ee5-09ee-4750-bc97-34ad8eff6f8f",
   "metadata": {},
   "outputs": [
    {
     "data": {
      "text/html": [
       "<div>\n",
       "<style scoped>\n",
       "    .dataframe tbody tr th:only-of-type {\n",
       "        vertical-align: middle;\n",
       "    }\n",
       "\n",
       "    .dataframe tbody tr th {\n",
       "        vertical-align: top;\n",
       "    }\n",
       "\n",
       "    .dataframe thead th {\n",
       "        text-align: right;\n",
       "    }\n",
       "</style>\n",
       "<table border=\"1\" class=\"dataframe\">\n",
       "  <thead>\n",
       "    <tr style=\"text-align: right;\">\n",
       "      <th></th>\n",
       "      <th>year</th>\n",
       "      <th>price</th>\n",
       "      <th>transmission</th>\n",
       "      <th>mileage</th>\n",
       "      <th>tax</th>\n",
       "      <th>mpg</th>\n",
       "      <th>engineSize</th>\n",
       "    </tr>\n",
       "  </thead>\n",
       "  <tbody>\n",
       "    <tr>\n",
       "      <th>0</th>\n",
       "      <td>2005</td>\n",
       "      <td>5200</td>\n",
       "      <td>Automatic</td>\n",
       "      <td>63000</td>\n",
       "      <td>325</td>\n",
       "      <td>32.1</td>\n",
       "      <td>1.8</td>\n",
       "    </tr>\n",
       "    <tr>\n",
       "      <th>1</th>\n",
       "      <td>2017</td>\n",
       "      <td>34948</td>\n",
       "      <td>Automatic</td>\n",
       "      <td>27000</td>\n",
       "      <td>20</td>\n",
       "      <td>61.4</td>\n",
       "      <td>2.1</td>\n",
       "    </tr>\n",
       "    <tr>\n",
       "      <th>2</th>\n",
       "      <td>2016</td>\n",
       "      <td>49948</td>\n",
       "      <td>Automatic</td>\n",
       "      <td>6200</td>\n",
       "      <td>555</td>\n",
       "      <td>28.0</td>\n",
       "      <td>5.5</td>\n",
       "    </tr>\n",
       "    <tr>\n",
       "      <th>3</th>\n",
       "      <td>2016</td>\n",
       "      <td>61948</td>\n",
       "      <td>Automatic</td>\n",
       "      <td>16000</td>\n",
       "      <td>325</td>\n",
       "      <td>30.4</td>\n",
       "      <td>4.0</td>\n",
       "    </tr>\n",
       "    <tr>\n",
       "      <th>4</th>\n",
       "      <td>2016</td>\n",
       "      <td>73948</td>\n",
       "      <td>Automatic</td>\n",
       "      <td>4000</td>\n",
       "      <td>325</td>\n",
       "      <td>30.1</td>\n",
       "      <td>4.0</td>\n",
       "    </tr>\n",
       "  </tbody>\n",
       "</table>\n",
       "</div>"
      ],
      "text/plain": [
       "   year  price transmission  mileage  tax   mpg  engineSize\n",
       "0  2005   5200    Automatic    63000  325  32.1         1.8\n",
       "1  2017  34948    Automatic    27000   20  61.4         2.1\n",
       "2  2016  49948    Automatic     6200  555  28.0         5.5\n",
       "3  2016  61948    Automatic    16000  325  30.4         4.0\n",
       "4  2016  73948    Automatic     4000  325  30.1         4.0"
      ]
     },
     "execution_count": 53,
     "metadata": {},
     "output_type": "execute_result"
    }
   ],
   "source": [
    "df.head()"
   ]
  },
  {
   "cell_type": "code",
   "execution_count": 54,
   "id": "e5f48846-c13c-4b24-990c-bde619db6b5b",
   "metadata": {},
   "outputs": [
    {
     "data": {
      "text/html": [
       "<div>\n",
       "<style scoped>\n",
       "    .dataframe tbody tr th:only-of-type {\n",
       "        vertical-align: middle;\n",
       "    }\n",
       "\n",
       "    .dataframe tbody tr th {\n",
       "        vertical-align: top;\n",
       "    }\n",
       "\n",
       "    .dataframe thead th {\n",
       "        text-align: right;\n",
       "    }\n",
       "</style>\n",
       "<table border=\"1\" class=\"dataframe\">\n",
       "  <thead>\n",
       "    <tr style=\"text-align: right;\">\n",
       "      <th></th>\n",
       "      <th>year</th>\n",
       "      <th>price</th>\n",
       "      <th>mileage</th>\n",
       "      <th>tax</th>\n",
       "      <th>mpg</th>\n",
       "      <th>engineSize</th>\n",
       "    </tr>\n",
       "  </thead>\n",
       "  <tbody>\n",
       "    <tr>\n",
       "      <th>count</th>\n",
       "      <td>13119.000000</td>\n",
       "      <td>13119.000000</td>\n",
       "      <td>13119.000000</td>\n",
       "      <td>13119.000000</td>\n",
       "      <td>13119.000000</td>\n",
       "      <td>13119.000000</td>\n",
       "    </tr>\n",
       "    <tr>\n",
       "      <th>mean</th>\n",
       "      <td>2017.296288</td>\n",
       "      <td>24698.596920</td>\n",
       "      <td>21949.559037</td>\n",
       "      <td>129.972178</td>\n",
       "      <td>55.155843</td>\n",
       "      <td>2.071530</td>\n",
       "    </tr>\n",
       "    <tr>\n",
       "      <th>std</th>\n",
       "      <td>2.224709</td>\n",
       "      <td>11842.675542</td>\n",
       "      <td>21176.512267</td>\n",
       "      <td>65.260286</td>\n",
       "      <td>15.220082</td>\n",
       "      <td>0.572426</td>\n",
       "    </tr>\n",
       "    <tr>\n",
       "      <th>min</th>\n",
       "      <td>1970.000000</td>\n",
       "      <td>650.000000</td>\n",
       "      <td>1.000000</td>\n",
       "      <td>0.000000</td>\n",
       "      <td>1.100000</td>\n",
       "      <td>0.000000</td>\n",
       "    </tr>\n",
       "    <tr>\n",
       "      <th>25%</th>\n",
       "      <td>2016.000000</td>\n",
       "      <td>17450.000000</td>\n",
       "      <td>6097.500000</td>\n",
       "      <td>125.000000</td>\n",
       "      <td>45.600000</td>\n",
       "      <td>1.800000</td>\n",
       "    </tr>\n",
       "    <tr>\n",
       "      <th>50%</th>\n",
       "      <td>2018.000000</td>\n",
       "      <td>22480.000000</td>\n",
       "      <td>15189.000000</td>\n",
       "      <td>145.000000</td>\n",
       "      <td>56.500000</td>\n",
       "      <td>2.000000</td>\n",
       "    </tr>\n",
       "    <tr>\n",
       "      <th>75%</th>\n",
       "      <td>2019.000000</td>\n",
       "      <td>28980.000000</td>\n",
       "      <td>31779.500000</td>\n",
       "      <td>145.000000</td>\n",
       "      <td>64.200000</td>\n",
       "      <td>2.100000</td>\n",
       "    </tr>\n",
       "    <tr>\n",
       "      <th>max</th>\n",
       "      <td>2020.000000</td>\n",
       "      <td>159999.000000</td>\n",
       "      <td>259000.000000</td>\n",
       "      <td>580.000000</td>\n",
       "      <td>217.300000</td>\n",
       "      <td>6.200000</td>\n",
       "    </tr>\n",
       "  </tbody>\n",
       "</table>\n",
       "</div>"
      ],
      "text/plain": [
       "               year          price        mileage           tax           mpg  \\\n",
       "count  13119.000000   13119.000000   13119.000000  13119.000000  13119.000000   \n",
       "mean    2017.296288   24698.596920   21949.559037    129.972178     55.155843   \n",
       "std        2.224709   11842.675542   21176.512267     65.260286     15.220082   \n",
       "min     1970.000000     650.000000       1.000000      0.000000      1.100000   \n",
       "25%     2016.000000   17450.000000    6097.500000    125.000000     45.600000   \n",
       "50%     2018.000000   22480.000000   15189.000000    145.000000     56.500000   \n",
       "75%     2019.000000   28980.000000   31779.500000    145.000000     64.200000   \n",
       "max     2020.000000  159999.000000  259000.000000    580.000000    217.300000   \n",
       "\n",
       "         engineSize  \n",
       "count  13119.000000  \n",
       "mean       2.071530  \n",
       "std        0.572426  \n",
       "min        0.000000  \n",
       "25%        1.800000  \n",
       "50%        2.000000  \n",
       "75%        2.100000  \n",
       "max        6.200000  "
      ]
     },
     "execution_count": 54,
     "metadata": {},
     "output_type": "execute_result"
    }
   ],
   "source": [
    "df.describe()"
   ]
  },
  {
   "cell_type": "code",
   "execution_count": 56,
   "id": "c1e936e4-3359-476a-be26-e49d9efce54c",
   "metadata": {},
   "outputs": [
    {
     "data": {
      "text/plain": [
       "year            0\n",
       "price           0\n",
       "transmission    0\n",
       "mileage         0\n",
       "tax             0\n",
       "mpg             0\n",
       "engineSize      0\n",
       "dtype: int64"
      ]
     },
     "execution_count": 56,
     "metadata": {},
     "output_type": "execute_result"
    }
   ],
   "source": [
    "df.isnull().sum() #hangi kolonda kac eksik var onu gosterir."
   ]
  },
  {
   "cell_type": "code",
   "execution_count": 66,
   "id": "042ed039-87f7-4e29-aa87-10e44e128dac",
   "metadata": {},
   "outputs": [
    {
     "name": "stderr",
     "output_type": "stream",
     "text": [
      "C:\\Users\\burak\\anaconda3\\lib\\site-packages\\seaborn\\distributions.py:2557: FutureWarning: `distplot` is a deprecated function and will be removed in a future version. Please adapt your code to use either `displot` (a figure-level function with similar flexibility) or `histplot` (an axes-level function for histograms).\n",
      "  warnings.warn(msg, FutureWarning)\n"
     ]
    },
    {
     "data": {
      "text/plain": [
       "<AxesSubplot:xlabel='price', ylabel='Density'>"
      ]
     },
     "execution_count": 66,
     "metadata": {},
     "output_type": "execute_result"
    },
    {
     "data": {
      "image/png": "[encoded data removed]",
      "text/plain": [
       "<Figure size 504x432 with 1 Axes>"
      ]
     },
     "metadata": {
      "needs_background": "light"
     },
     "output_type": "display_data"
    }
   ],
   "source": [
    "plt.figure(figsize=(7,6))\n",
    "sns.distplot(df[\"price\"])"
   ]
  },
  {
   "cell_type": "code",
   "execution_count": 69,
   "id": "4ac2260b-61a7-41a1-b7e0-89c749df5d13",
   "metadata": {},
   "outputs": [
    {
     "data": {
      "text/plain": [
       "<AxesSubplot:xlabel='year', ylabel='count'>"
      ]
     },
     "execution_count": 69,
     "metadata": {},
     "output_type": "execute_result"
    },
    {
     "data": {
      "image/png": "[encoded data removed]",
      "text/plain": [
       "<Figure size 432x288 with 1 Axes>"
      ]
     },
     "metadata": {
      "needs_background": "light"
     },
     "output_type": "display_data"
    }
   ],
   "source": [
    "sns.countplot(df[\"year\"])"
   ]
  },
  {
   "cell_type": "code",
   "execution_count": 70,
   "id": "13727efc-ed20-458c-b2be-dff993a9cd17",
   "metadata": {},
   "outputs": [
    {
     "data": {
      "text/html": [
       "<div>\n",
       "<style scoped>\n",
       "    .dataframe tbody tr th:only-of-type {\n",
       "        vertical-align: middle;\n",
       "    }\n",
       "\n",
       "    .dataframe tbody tr th {\n",
       "        vertical-align: top;\n",
       "    }\n",
       "\n",
       "    .dataframe thead th {\n",
       "        text-align: right;\n",
       "    }\n",
       "</style>\n",
       "<table border=\"1\" class=\"dataframe\">\n",
       "  <thead>\n",
       "    <tr style=\"text-align: right;\">\n",
       "      <th></th>\n",
       "      <th>year</th>\n",
       "      <th>price</th>\n",
       "      <th>mileage</th>\n",
       "      <th>tax</th>\n",
       "      <th>mpg</th>\n",
       "      <th>engineSize</th>\n",
       "    </tr>\n",
       "  </thead>\n",
       "  <tbody>\n",
       "    <tr>\n",
       "      <th>year</th>\n",
       "      <td>1.000000</td>\n",
       "      <td>0.520712</td>\n",
       "      <td>-0.738027</td>\n",
       "      <td>0.012480</td>\n",
       "      <td>-0.094626</td>\n",
       "      <td>-0.142147</td>\n",
       "    </tr>\n",
       "    <tr>\n",
       "      <th>price</th>\n",
       "      <td>0.520712</td>\n",
       "      <td>1.000000</td>\n",
       "      <td>-0.537214</td>\n",
       "      <td>0.268717</td>\n",
       "      <td>-0.438445</td>\n",
       "      <td>0.516126</td>\n",
       "    </tr>\n",
       "    <tr>\n",
       "      <th>mileage</th>\n",
       "      <td>-0.738027</td>\n",
       "      <td>-0.537214</td>\n",
       "      <td>1.000000</td>\n",
       "      <td>-0.160223</td>\n",
       "      <td>0.202850</td>\n",
       "      <td>0.063652</td>\n",
       "    </tr>\n",
       "    <tr>\n",
       "      <th>tax</th>\n",
       "      <td>0.012480</td>\n",
       "      <td>0.268717</td>\n",
       "      <td>-0.160223</td>\n",
       "      <td>1.000000</td>\n",
       "      <td>-0.513742</td>\n",
       "      <td>0.338341</td>\n",
       "    </tr>\n",
       "    <tr>\n",
       "      <th>mpg</th>\n",
       "      <td>-0.094626</td>\n",
       "      <td>-0.438445</td>\n",
       "      <td>0.202850</td>\n",
       "      <td>-0.513742</td>\n",
       "      <td>1.000000</td>\n",
       "      <td>-0.339862</td>\n",
       "    </tr>\n",
       "    <tr>\n",
       "      <th>engineSize</th>\n",
       "      <td>-0.142147</td>\n",
       "      <td>0.516126</td>\n",
       "      <td>0.063652</td>\n",
       "      <td>0.338341</td>\n",
       "      <td>-0.339862</td>\n",
       "      <td>1.000000</td>\n",
       "    </tr>\n",
       "  </tbody>\n",
       "</table>\n",
       "</div>"
      ],
      "text/plain": [
       "                year     price   mileage       tax       mpg  engineSize\n",
       "year        1.000000  0.520712 -0.738027  0.012480 -0.094626   -0.142147\n",
       "price       0.520712  1.000000 -0.537214  0.268717 -0.438445    0.516126\n",
       "mileage    -0.738027 -0.537214  1.000000 -0.160223  0.202850    0.063652\n",
       "tax         0.012480  0.268717 -0.160223  1.000000 -0.513742    0.338341\n",
       "mpg        -0.094626 -0.438445  0.202850 -0.513742  1.000000   -0.339862\n",
       "engineSize -0.142147  0.516126  0.063652  0.338341 -0.339862    1.000000"
      ]
     },
     "execution_count": 70,
     "metadata": {},
     "output_type": "execute_result"
    }
   ],
   "source": [
    "df.corr()"
   ]
  },
  {
   "cell_type": "code",
   "execution_count": 72,
   "id": "2a354081-784a-44c6-b4b9-f8e2259eac49",
   "metadata": {},
   "outputs": [
    {
     "data": {
      "text/plain": [
       "mileage      -0.537214\n",
       "mpg          -0.438445\n",
       "tax           0.268717\n",
       "engineSize    0.516126\n",
       "year          0.520712\n",
       "price         1.000000\n",
       "Name: price, dtype: float64"
      ]
     },
     "execution_count": 72,
     "metadata": {},
     "output_type": "execute_result"
    }
   ],
   "source": [
    "df.corr()[\"price\"].sort_values() #sort values degerleri diz anlamina gelir."
   ]
  },
  {
   "cell_type": "code",
   "execution_count": 74,
   "id": "a19c0ed4-8e92-472b-bb3d-84fa992ec75f",
   "metadata": {},
   "outputs": [
    {
     "data": {
      "text/plain": [
       "<AxesSubplot:xlabel='mileage', ylabel='price'>"
      ]
     },
     "execution_count": 74,
     "metadata": {},
     "output_type": "execute_result"
    },
    {
     "data": {
      "image/png": "[encoded data removed]",
      "text/plain": [
       "<Figure size 432x288 with 1 Axes>"
      ]
     },
     "metadata": {
      "needs_background": "light"
     },
     "output_type": "display_data"
    }
   ],
   "source": [
    "sns.scatterplot(x=\"mileage\",y=\"price\", data=df)"
   ]
  },
  {
   "cell_type": "code",
   "execution_count": 76,
   "id": "1d78e02b-02d9-4924-bd1f-a05d5b284138",
   "metadata": {},
   "outputs": [
    {
     "data": {
      "text/html": [
       "<div>\n",
       "<style scoped>\n",
       "    .dataframe tbody tr th:only-of-type {\n",
       "        vertical-align: middle;\n",
       "    }\n",
       "\n",
       "    .dataframe tbody tr th {\n",
       "        vertical-align: top;\n",
       "    }\n",
       "\n",
       "    .dataframe thead th {\n",
       "        text-align: right;\n",
       "    }\n",
       "</style>\n",
       "<table border=\"1\" class=\"dataframe\">\n",
       "  <thead>\n",
       "    <tr style=\"text-align: right;\">\n",
       "      <th></th>\n",
       "      <th>year</th>\n",
       "      <th>price</th>\n",
       "      <th>transmission</th>\n",
       "      <th>mileage</th>\n",
       "      <th>tax</th>\n",
       "      <th>mpg</th>\n",
       "      <th>engineSize</th>\n",
       "    </tr>\n",
       "  </thead>\n",
       "  <tbody>\n",
       "    <tr>\n",
       "      <th>6199</th>\n",
       "      <td>2020</td>\n",
       "      <td>159999</td>\n",
       "      <td>Semi-Auto</td>\n",
       "      <td>1350</td>\n",
       "      <td>145</td>\n",
       "      <td>21.4</td>\n",
       "      <td>4.0</td>\n",
       "    </tr>\n",
       "    <tr>\n",
       "      <th>10044</th>\n",
       "      <td>2020</td>\n",
       "      <td>154998</td>\n",
       "      <td>Automatic</td>\n",
       "      <td>3000</td>\n",
       "      <td>150</td>\n",
       "      <td>21.4</td>\n",
       "      <td>4.0</td>\n",
       "    </tr>\n",
       "    <tr>\n",
       "      <th>5</th>\n",
       "      <td>2011</td>\n",
       "      <td>149948</td>\n",
       "      <td>Automatic</td>\n",
       "      <td>3000</td>\n",
       "      <td>570</td>\n",
       "      <td>21.4</td>\n",
       "      <td>6.2</td>\n",
       "    </tr>\n",
       "    <tr>\n",
       "      <th>8737</th>\n",
       "      <td>2019</td>\n",
       "      <td>140319</td>\n",
       "      <td>Semi-Auto</td>\n",
       "      <td>785</td>\n",
       "      <td>150</td>\n",
       "      <td>22.1</td>\n",
       "      <td>4.0</td>\n",
       "    </tr>\n",
       "    <tr>\n",
       "      <th>6386</th>\n",
       "      <td>2018</td>\n",
       "      <td>139995</td>\n",
       "      <td>Semi-Auto</td>\n",
       "      <td>13046</td>\n",
       "      <td>145</td>\n",
       "      <td>21.4</td>\n",
       "      <td>4.0</td>\n",
       "    </tr>\n",
       "    <tr>\n",
       "      <th>8</th>\n",
       "      <td>2019</td>\n",
       "      <td>139948</td>\n",
       "      <td>Automatic</td>\n",
       "      <td>12000</td>\n",
       "      <td>145</td>\n",
       "      <td>21.4</td>\n",
       "      <td>4.0</td>\n",
       "    </tr>\n",
       "    <tr>\n",
       "      <th>9133</th>\n",
       "      <td>2019</td>\n",
       "      <td>139559</td>\n",
       "      <td>Semi-Auto</td>\n",
       "      <td>1000</td>\n",
       "      <td>145</td>\n",
       "      <td>22.1</td>\n",
       "      <td>4.0</td>\n",
       "    </tr>\n",
       "    <tr>\n",
       "      <th>8821</th>\n",
       "      <td>2020</td>\n",
       "      <td>138439</td>\n",
       "      <td>Semi-Auto</td>\n",
       "      <td>1000</td>\n",
       "      <td>145</td>\n",
       "      <td>22.1</td>\n",
       "      <td>4.0</td>\n",
       "    </tr>\n",
       "    <tr>\n",
       "      <th>5902</th>\n",
       "      <td>2018</td>\n",
       "      <td>135771</td>\n",
       "      <td>Semi-Auto</td>\n",
       "      <td>19000</td>\n",
       "      <td>145</td>\n",
       "      <td>21.4</td>\n",
       "      <td>4.0</td>\n",
       "    </tr>\n",
       "    <tr>\n",
       "      <th>7864</th>\n",
       "      <td>2018</td>\n",
       "      <td>135124</td>\n",
       "      <td>Semi-Auto</td>\n",
       "      <td>18234</td>\n",
       "      <td>150</td>\n",
       "      <td>21.4</td>\n",
       "      <td>4.0</td>\n",
       "    </tr>\n",
       "    <tr>\n",
       "      <th>8673</th>\n",
       "      <td>2019</td>\n",
       "      <td>134219</td>\n",
       "      <td>Semi-Auto</td>\n",
       "      <td>1000</td>\n",
       "      <td>145</td>\n",
       "      <td>24.8</td>\n",
       "      <td>4.0</td>\n",
       "    </tr>\n",
       "    <tr>\n",
       "      <th>6210</th>\n",
       "      <td>2019</td>\n",
       "      <td>129990</td>\n",
       "      <td>Automatic</td>\n",
       "      <td>1000</td>\n",
       "      <td>145</td>\n",
       "      <td>24.8</td>\n",
       "      <td>4.0</td>\n",
       "    </tr>\n",
       "    <tr>\n",
       "      <th>4759</th>\n",
       "      <td>2019</td>\n",
       "      <td>126000</td>\n",
       "      <td>Automatic</td>\n",
       "      <td>250</td>\n",
       "      <td>145</td>\n",
       "      <td>24.6</td>\n",
       "      <td>4.0</td>\n",
       "    </tr>\n",
       "    <tr>\n",
       "      <th>2647</th>\n",
       "      <td>2019</td>\n",
       "      <td>125796</td>\n",
       "      <td>Automatic</td>\n",
       "      <td>637</td>\n",
       "      <td>145</td>\n",
       "      <td>24.8</td>\n",
       "      <td>4.0</td>\n",
       "    </tr>\n",
       "    <tr>\n",
       "      <th>6223</th>\n",
       "      <td>2019</td>\n",
       "      <td>124999</td>\n",
       "      <td>Automatic</td>\n",
       "      <td>1500</td>\n",
       "      <td>145</td>\n",
       "      <td>31.7</td>\n",
       "      <td>4.0</td>\n",
       "    </tr>\n",
       "    <tr>\n",
       "      <th>4094</th>\n",
       "      <td>2019</td>\n",
       "      <td>124366</td>\n",
       "      <td>Semi-Auto</td>\n",
       "      <td>880</td>\n",
       "      <td>145</td>\n",
       "      <td>24.8</td>\n",
       "      <td>4.0</td>\n",
       "    </tr>\n",
       "    <tr>\n",
       "      <th>2629</th>\n",
       "      <td>2019</td>\n",
       "      <td>123846</td>\n",
       "      <td>Semi-Auto</td>\n",
       "      <td>2951</td>\n",
       "      <td>145</td>\n",
       "      <td>22.1</td>\n",
       "      <td>4.0</td>\n",
       "    </tr>\n",
       "    <tr>\n",
       "      <th>7134</th>\n",
       "      <td>2019</td>\n",
       "      <td>115359</td>\n",
       "      <td>Semi-Auto</td>\n",
       "      <td>1000</td>\n",
       "      <td>145</td>\n",
       "      <td>30.1</td>\n",
       "      <td>4.0</td>\n",
       "    </tr>\n",
       "    <tr>\n",
       "      <th>9159</th>\n",
       "      <td>2019</td>\n",
       "      <td>114199</td>\n",
       "      <td>Semi-Auto</td>\n",
       "      <td>891</td>\n",
       "      <td>145</td>\n",
       "      <td>22.6</td>\n",
       "      <td>4.0</td>\n",
       "    </tr>\n",
       "    <tr>\n",
       "      <th>1980</th>\n",
       "      <td>2019</td>\n",
       "      <td>109995</td>\n",
       "      <td>Semi-Auto</td>\n",
       "      <td>4688</td>\n",
       "      <td>150</td>\n",
       "      <td>31.7</td>\n",
       "      <td>4.0</td>\n",
       "    </tr>\n",
       "  </tbody>\n",
       "</table>\n",
       "</div>"
      ],
      "text/plain": [
       "       year   price transmission  mileage  tax   mpg  engineSize\n",
       "6199   2020  159999    Semi-Auto     1350  145  21.4         4.0\n",
       "10044  2020  154998    Automatic     3000  150  21.4         4.0\n",
       "5      2011  149948    Automatic     3000  570  21.4         6.2\n",
       "8737   2019  140319    Semi-Auto      785  150  22.1         4.0\n",
       "6386   2018  139995    Semi-Auto    13046  145  21.4         4.0\n",
       "8      2019  139948    Automatic    12000  145  21.4         4.0\n",
       "9133   2019  139559    Semi-Auto     1000  145  22.1         4.0\n",
       "8821   2020  138439    Semi-Auto     1000  145  22.1         4.0\n",
       "5902   2018  135771    Semi-Auto    19000  145  21.4         4.0\n",
       "7864   2018  135124    Semi-Auto    18234  150  21.4         4.0\n",
       "8673   2019  134219    Semi-Auto     1000  145  24.8         4.0\n",
       "6210   2019  129990    Automatic     1000  145  24.8         4.0\n",
       "4759   2019  126000    Automatic      250  145  24.6         4.0\n",
       "2647   2019  125796    Automatic      637  145  24.8         4.0\n",
       "6223   2019  124999    Automatic     1500  145  31.7         4.0\n",
       "4094   2019  124366    Semi-Auto      880  145  24.8         4.0\n",
       "2629   2019  123846    Semi-Auto     2951  145  22.1         4.0\n",
       "7134   2019  115359    Semi-Auto     1000  145  30.1         4.0\n",
       "9159   2019  114199    Semi-Auto      891  145  22.6         4.0\n",
       "1980   2019  109995    Semi-Auto     4688  150  31.7         4.0"
      ]
     },
     "execution_count": 76,
     "metadata": {},
     "output_type": "execute_result"
    }
   ],
   "source": [
    "df.sort_values(\"price\", ascending=False).head(20) #asc, ascending false en yuksek fiyati en yukarda getirir."
   ]
  },
  {
   "cell_type": "code",
   "execution_count": 77,
   "id": "fb1b1632-fc9e-472c-9c2d-77fe44adba12",
   "metadata": {},
   "outputs": [
    {
     "data": {
      "text/html": [
       "<div>\n",
       "<style scoped>\n",
       "    .dataframe tbody tr th:only-of-type {\n",
       "        vertical-align: middle;\n",
       "    }\n",
       "\n",
       "    .dataframe tbody tr th {\n",
       "        vertical-align: top;\n",
       "    }\n",
       "\n",
       "    .dataframe thead th {\n",
       "        text-align: right;\n",
       "    }\n",
       "</style>\n",
       "<table border=\"1\" class=\"dataframe\">\n",
       "  <thead>\n",
       "    <tr style=\"text-align: right;\">\n",
       "      <th></th>\n",
       "      <th>year</th>\n",
       "      <th>price</th>\n",
       "      <th>transmission</th>\n",
       "      <th>mileage</th>\n",
       "      <th>tax</th>\n",
       "      <th>mpg</th>\n",
       "      <th>engineSize</th>\n",
       "    </tr>\n",
       "  </thead>\n",
       "  <tbody>\n",
       "    <tr>\n",
       "      <th>11816</th>\n",
       "      <td>2003</td>\n",
       "      <td>650</td>\n",
       "      <td>Manual</td>\n",
       "      <td>109090</td>\n",
       "      <td>235</td>\n",
       "      <td>40.0</td>\n",
       "      <td>1.4</td>\n",
       "    </tr>\n",
       "    <tr>\n",
       "      <th>12008</th>\n",
       "      <td>2010</td>\n",
       "      <td>1350</td>\n",
       "      <td>Manual</td>\n",
       "      <td>116126</td>\n",
       "      <td>145</td>\n",
       "      <td>54.3</td>\n",
       "      <td>2.0</td>\n",
       "    </tr>\n",
       "    <tr>\n",
       "      <th>11765</th>\n",
       "      <td>2000</td>\n",
       "      <td>1490</td>\n",
       "      <td>Automatic</td>\n",
       "      <td>87000</td>\n",
       "      <td>265</td>\n",
       "      <td>27.2</td>\n",
       "      <td>3.2</td>\n",
       "    </tr>\n",
       "    <tr>\n",
       "      <th>11549</th>\n",
       "      <td>2002</td>\n",
       "      <td>1495</td>\n",
       "      <td>Automatic</td>\n",
       "      <td>13800</td>\n",
       "      <td>305</td>\n",
       "      <td>39.8</td>\n",
       "      <td>2.7</td>\n",
       "    </tr>\n",
       "    <tr>\n",
       "      <th>12594</th>\n",
       "      <td>2004</td>\n",
       "      <td>1495</td>\n",
       "      <td>Manual</td>\n",
       "      <td>119000</td>\n",
       "      <td>300</td>\n",
       "      <td>34.5</td>\n",
       "      <td>1.8</td>\n",
       "    </tr>\n",
       "    <tr>\n",
       "      <th>11174</th>\n",
       "      <td>2001</td>\n",
       "      <td>1695</td>\n",
       "      <td>Automatic</td>\n",
       "      <td>108800</td>\n",
       "      <td>325</td>\n",
       "      <td>31.7</td>\n",
       "      <td>3.2</td>\n",
       "    </tr>\n",
       "    <tr>\n",
       "      <th>12710</th>\n",
       "      <td>2006</td>\n",
       "      <td>1695</td>\n",
       "      <td>Automatic</td>\n",
       "      <td>153000</td>\n",
       "      <td>300</td>\n",
       "      <td>33.6</td>\n",
       "      <td>1.8</td>\n",
       "    </tr>\n",
       "    <tr>\n",
       "      <th>12766</th>\n",
       "      <td>2004</td>\n",
       "      <td>1780</td>\n",
       "      <td>Automatic</td>\n",
       "      <td>118000</td>\n",
       "      <td>265</td>\n",
       "      <td>41.5</td>\n",
       "      <td>2.2</td>\n",
       "    </tr>\n",
       "    <tr>\n",
       "      <th>12009</th>\n",
       "      <td>2007</td>\n",
       "      <td>1800</td>\n",
       "      <td>Automatic</td>\n",
       "      <td>84000</td>\n",
       "      <td>200</td>\n",
       "      <td>42.8</td>\n",
       "      <td>1.5</td>\n",
       "    </tr>\n",
       "    <tr>\n",
       "      <th>11764</th>\n",
       "      <td>1998</td>\n",
       "      <td>1990</td>\n",
       "      <td>Automatic</td>\n",
       "      <td>99300</td>\n",
       "      <td>265</td>\n",
       "      <td>32.1</td>\n",
       "      <td>2.3</td>\n",
       "    </tr>\n",
       "    <tr>\n",
       "      <th>11808</th>\n",
       "      <td>1998</td>\n",
       "      <td>1990</td>\n",
       "      <td>Automatic</td>\n",
       "      <td>113557</td>\n",
       "      <td>265</td>\n",
       "      <td>32.1</td>\n",
       "      <td>2.3</td>\n",
       "    </tr>\n",
       "    <tr>\n",
       "      <th>11383</th>\n",
       "      <td>2005</td>\n",
       "      <td>1995</td>\n",
       "      <td>Automatic</td>\n",
       "      <td>105000</td>\n",
       "      <td>260</td>\n",
       "      <td>43.5</td>\n",
       "      <td>2.1</td>\n",
       "    </tr>\n",
       "    <tr>\n",
       "      <th>11378</th>\n",
       "      <td>2004</td>\n",
       "      <td>1995</td>\n",
       "      <td>Semi-Auto</td>\n",
       "      <td>165000</td>\n",
       "      <td>330</td>\n",
       "      <td>20.0</td>\n",
       "      <td>3.7</td>\n",
       "    </tr>\n",
       "    <tr>\n",
       "      <th>11857</th>\n",
       "      <td>2002</td>\n",
       "      <td>2140</td>\n",
       "      <td>Automatic</td>\n",
       "      <td>52700</td>\n",
       "      <td>325</td>\n",
       "      <td>31.4</td>\n",
       "      <td>2.0</td>\n",
       "    </tr>\n",
       "    <tr>\n",
       "      <th>11906</th>\n",
       "      <td>2007</td>\n",
       "      <td>2478</td>\n",
       "      <td>Automatic</td>\n",
       "      <td>81000</td>\n",
       "      <td>160</td>\n",
       "      <td>49.6</td>\n",
       "      <td>2.0</td>\n",
       "    </tr>\n",
       "    <tr>\n",
       "      <th>11795</th>\n",
       "      <td>2005</td>\n",
       "      <td>2490</td>\n",
       "      <td>Automatic</td>\n",
       "      <td>101980</td>\n",
       "      <td>200</td>\n",
       "      <td>47.9</td>\n",
       "      <td>2.0</td>\n",
       "    </tr>\n",
       "    <tr>\n",
       "      <th>12765</th>\n",
       "      <td>2004</td>\n",
       "      <td>2495</td>\n",
       "      <td>Automatic</td>\n",
       "      <td>104000</td>\n",
       "      <td>325</td>\n",
       "      <td>31.7</td>\n",
       "      <td>1.8</td>\n",
       "    </tr>\n",
       "    <tr>\n",
       "      <th>11943</th>\n",
       "      <td>2005</td>\n",
       "      <td>2690</td>\n",
       "      <td>Automatic</td>\n",
       "      <td>109000</td>\n",
       "      <td>325</td>\n",
       "      <td>32.1</td>\n",
       "      <td>1.8</td>\n",
       "    </tr>\n",
       "    <tr>\n",
       "      <th>11263</th>\n",
       "      <td>2007</td>\n",
       "      <td>2795</td>\n",
       "      <td>Manual</td>\n",
       "      <td>79485</td>\n",
       "      <td>200</td>\n",
       "      <td>45.6</td>\n",
       "      <td>1.5</td>\n",
       "    </tr>\n",
       "    <tr>\n",
       "      <th>49</th>\n",
       "      <td>2006</td>\n",
       "      <td>2880</td>\n",
       "      <td>Automatic</td>\n",
       "      <td>66000</td>\n",
       "      <td>160</td>\n",
       "      <td>52.3</td>\n",
       "      <td>2.0</td>\n",
       "    </tr>\n",
       "  </tbody>\n",
       "</table>\n",
       "</div>"
      ],
      "text/plain": [
       "       year  price transmission  mileage  tax   mpg  engineSize\n",
       "11816  2003    650       Manual   109090  235  40.0         1.4\n",
       "12008  2010   1350       Manual   116126  145  54.3         2.0\n",
       "11765  2000   1490    Automatic    87000  265  27.2         3.2\n",
       "11549  2002   1495    Automatic    13800  305  39.8         2.7\n",
       "12594  2004   1495       Manual   119000  300  34.5         1.8\n",
       "11174  2001   1695    Automatic   108800  325  31.7         3.2\n",
       "12710  2006   1695    Automatic   153000  300  33.6         1.8\n",
       "12766  2004   1780    Automatic   118000  265  41.5         2.2\n",
       "12009  2007   1800    Automatic    84000  200  42.8         1.5\n",
       "11764  1998   1990    Automatic    99300  265  32.1         2.3\n",
       "11808  1998   1990    Automatic   113557  265  32.1         2.3\n",
       "11383  2005   1995    Automatic   105000  260  43.5         2.1\n",
       "11378  2004   1995    Semi-Auto   165000  330  20.0         3.7\n",
       "11857  2002   2140    Automatic    52700  325  31.4         2.0\n",
       "11906  2007   2478    Automatic    81000  160  49.6         2.0\n",
       "11795  2005   2490    Automatic   101980  200  47.9         2.0\n",
       "12765  2004   2495    Automatic   104000  325  31.7         1.8\n",
       "11943  2005   2690    Automatic   109000  325  32.1         1.8\n",
       "11263  2007   2795       Manual    79485  200  45.6         1.5\n",
       "49     2006   2880    Automatic    66000  160  52.3         2.0"
      ]
     },
     "execution_count": 77,
     "metadata": {},
     "output_type": "execute_result"
    }
   ],
   "source": [
    "df.sort_values(\"price\", ascending=True).head(20) #asc, ascending true da ise en ucuzu ilk basta getirir. Ascending, yukselen anlamina gelir."
   ]
  },
  {
   "cell_type": "code",
   "execution_count": 78,
   "id": "6661d05b-81fb-44db-8229-e316ba7a4f52",
   "metadata": {},
   "outputs": [
    {
     "data": {
      "text/plain": [
       "13119"
      ]
     },
     "execution_count": 78,
     "metadata": {},
     "output_type": "execute_result"
    }
   ],
   "source": [
    "len(df)"
   ]
  },
  {
   "cell_type": "code",
   "execution_count": 79,
   "id": "d110ddbe-0006-4e71-8a80-26097ed8165b",
   "metadata": {},
   "outputs": [
    {
     "data": {
      "text/plain": [
       "131.19"
      ]
     },
     "execution_count": 79,
     "metadata": {},
     "output_type": "execute_result"
    }
   ],
   "source": [
    "len(df) * 0.01"
   ]
  },
  {
   "cell_type": "code",
   "execution_count": null,
   "id": "104b8fd7-b298-4559-bf9c-157f6f8e8fee",
   "metadata": {},
   "outputs": [],
   "source": []
  }
 ],
 "metadata": {
  "kernelspec": {
   "display_name": "Python 3",
   "language": "python",
   "name": "python3"
  },
  "language_info": {
   "codemirror_mode": {
    "name": "ipython",
    "version": 3
   },
   "file_extension": ".py",
   "mimetype": "text/x-python",
   "name": "python",
   "nbconvert_exporter": "python",
   "pygments_lexer": "ipython3",
   "version": "3.8.8"
  }
 },
 "nbformat": 4,
 "nbformat_minor": 5
}
