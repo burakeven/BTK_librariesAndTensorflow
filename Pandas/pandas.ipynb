{
 "cells": [
  {
   "cell_type": "code",
   "execution_count": 1,
   "id": "18033e16-0551-430e-9ca6-f0bcd7eb53c8",
   "metadata": {},
   "outputs": [],
   "source": [
    "import numpy as np\n",
    "import pandas as pd"
   ]
  },
  {
   "cell_type": "markdown",
   "id": "d0024c3c-b85b-4257-9771-42bc48fdea3c",
   "metadata": {},
   "source": [
    "# series"
   ]
  },
  {
   "cell_type": "code",
   "execution_count": 3,
   "id": "07cdd113-66e0-459f-a4a4-3207dab73973",
   "metadata": {},
   "outputs": [],
   "source": [
    "myDict = {\"Burak\" : 50, \"zeynep\":40, \"mehmet\":30}\n"
   ]
  },
  {
   "cell_type": "code",
   "execution_count": 4,
   "id": "900e6329-834a-43fe-ba19-afebc4202b4b",
   "metadata": {},
   "outputs": [
    {
     "data": {
      "text/plain": [
       "Burak     50\n",
       "zeynep    40\n",
       "mehmet    30\n",
       "dtype: int64"
      ]
     },
     "execution_count": 4,
     "metadata": {},
     "output_type": "execute_result"
    }
   ],
   "source": [
    "pd.Series(myDict) #myDict'i bir seriye atadik."
   ]
  },
  {
   "cell_type": "code",
   "execution_count": 6,
   "id": "35c738be-1d40-4709-84cf-08849bdd5776",
   "metadata": {},
   "outputs": [],
   "source": [
    "myAge = [50,40,30]\n",
    "myNames = [\"Burak\", \"zeynep\", \"mehmet\"]"
   ]
  },
  {
   "cell_type": "code",
   "execution_count": 7,
   "id": "29fe0561-5eac-4d4a-9279-fa0a7ef2e5c8",
   "metadata": {},
   "outputs": [
    {
     "data": {
      "text/plain": [
       "0    50\n",
       "1    40\n",
       "2    30\n",
       "dtype: int64"
      ]
     },
     "execution_count": 7,
     "metadata": {},
     "output_type": "execute_result"
    }
   ],
   "source": [
    "pd.Series(myAge)"
   ]
  },
  {
   "cell_type": "code",
   "execution_count": 8,
   "id": "a6248c9c-f279-4fe7-bb4d-08f1dd879ae0",
   "metadata": {},
   "outputs": [
    {
     "data": {
      "text/plain": [
       "Burak     50\n",
       "zeynep    40\n",
       "mehmet    30\n",
       "dtype: int64"
      ]
     },
     "execution_count": 8,
     "metadata": {},
     "output_type": "execute_result"
    }
   ],
   "source": [
    "pd.Series(myAge, myNames)"
   ]
  },
  {
   "cell_type": "code",
   "execution_count": 9,
   "id": "f295fe68-febf-4323-853d-0c487414b3bc",
   "metadata": {},
   "outputs": [
    {
     "data": {
      "text/plain": [
       "Burak     50\n",
       "zeynep    40\n",
       "mehmet    30\n",
       "dtype: int64"
      ]
     },
     "execution_count": 9,
     "metadata": {},
     "output_type": "execute_result"
    }
   ],
   "source": [
    "pd.Series(data=myAge, index=myNames)"
   ]
  },
  {
   "cell_type": "code",
   "execution_count": 10,
   "id": "9328d942-df4e-476f-b62b-b55cb6181461",
   "metadata": {},
   "outputs": [
    {
     "data": {
      "text/plain": [
       "array([50, 40, 30])"
      ]
     },
     "execution_count": 10,
     "metadata": {},
     "output_type": "execute_result"
    }
   ],
   "source": [
    "numpyAr = np.array([50,40,30])\n",
    "numpyAr"
   ]
  },
  {
   "cell_type": "code",
   "execution_count": 11,
   "id": "f3e1c4ca-2287-40d2-8bd7-467b74505c21",
   "metadata": {},
   "outputs": [
    {
     "data": {
      "text/plain": [
       "0    50\n",
       "1    40\n",
       "2    30\n",
       "dtype: int32"
      ]
     },
     "execution_count": 11,
     "metadata": {},
     "output_type": "execute_result"
    }
   ],
   "source": [
    "pd.Series(numpyAr)"
   ]
  },
  {
   "cell_type": "code",
   "execution_count": 12,
   "id": "b0673765-4a8b-47fe-86e2-a35dce7dfdce",
   "metadata": {},
   "outputs": [
    {
     "data": {
      "text/plain": [
       "pandas.core.series.Series"
      ]
     },
     "execution_count": 12,
     "metadata": {},
     "output_type": "execute_result"
    }
   ],
   "source": [
    "type(pd.Series(numpyAr))"
   ]
  },
  {
   "cell_type": "code",
   "execution_count": 13,
   "id": "e6fb14b3-c009-4acc-8cd9-9a3911bb583f",
   "metadata": {},
   "outputs": [
    {
     "data": {
      "text/plain": [
       "Burak     50\n",
       "zeynep    40\n",
       "mehmet    30\n",
       "dtype: int32"
      ]
     },
     "execution_count": 13,
     "metadata": {},
     "output_type": "execute_result"
    }
   ],
   "source": [
    "pd.Series(numpyAr, myNames)"
   ]
  },
  {
   "cell_type": "code",
   "execution_count": 14,
   "id": "7fcfb996-1183-40bd-9456-74d812f88bf0",
   "metadata": {},
   "outputs": [
    {
     "data": {
      "text/plain": [
       "1     burak\n",
       "2    mehmet\n",
       "3     osman\n",
       "dtype: object"
      ]
     },
     "execution_count": 14,
     "metadata": {},
     "output_type": "execute_result"
    }
   ],
   "source": [
    "pd.Series([\"burak\",\"mehmet\",\"osman\"], [1,2,3])"
   ]
  },
  {
   "cell_type": "code",
   "execution_count": 15,
   "id": "f5767cdd-92bb-4cdc-b9c6-3bf601353347",
   "metadata": {},
   "outputs": [],
   "source": [
    "yarismasonuc1 = pd.Series([10,5,1], [\"burak\",\"mehmet\",\"osman\"])"
   ]
  },
  {
   "cell_type": "code",
   "execution_count": 16,
   "id": "11a00331-1a26-4d14-ae5f-d94bb62417ac",
   "metadata": {},
   "outputs": [
    {
     "data": {
      "text/plain": [
       "burak     10\n",
       "mehmet     5\n",
       "osman      1\n",
       "dtype: int64"
      ]
     },
     "execution_count": 16,
     "metadata": {},
     "output_type": "execute_result"
    }
   ],
   "source": [
    "yarismasonuc1"
   ]
  },
  {
   "cell_type": "code",
   "execution_count": 17,
   "id": "353a55cb-8b2f-4657-acfb-935879e4680e",
   "metadata": {},
   "outputs": [],
   "source": [
    "yarismasonuc2 = pd.Series([20,10,8],[\"burak\",\"mehmet\",\"osman\"])"
   ]
  },
  {
   "cell_type": "code",
   "execution_count": 18,
   "id": "bd7ae986-46cc-4f72-922c-2a0323f6ee07",
   "metadata": {},
   "outputs": [
    {
     "data": {
      "text/plain": [
       "burak     20\n",
       "mehmet    10\n",
       "osman      8\n",
       "dtype: int64"
      ]
     },
     "execution_count": 18,
     "metadata": {},
     "output_type": "execute_result"
    }
   ],
   "source": [
    "yarismasonuc2"
   ]
  },
  {
   "cell_type": "code",
   "execution_count": 19,
   "id": "6e8dc4c5-d0f8-41cd-9b53-a48609aa08aa",
   "metadata": {},
   "outputs": [
    {
     "data": {
      "text/plain": [
       "10"
      ]
     },
     "execution_count": 19,
     "metadata": {},
     "output_type": "execute_result"
    }
   ],
   "source": [
    "yarismasonuc2[\"mehmet\"]"
   ]
  },
  {
   "cell_type": "code",
   "execution_count": 20,
   "id": "aae42af5-d089-47cf-9a46-f425b79691be",
   "metadata": {},
   "outputs": [],
   "source": [
    "sonSonuc = yarismasonuc1 + yarismasonuc2"
   ]
  },
  {
   "cell_type": "code",
   "execution_count": 21,
   "id": "eae8fda8-ca01-4548-a791-45a0a5ef0cb5",
   "metadata": {},
   "outputs": [
    {
     "data": {
      "text/plain": [
       "burak     30\n",
       "mehmet    15\n",
       "osman      9\n",
       "dtype: int64"
      ]
     },
     "execution_count": 21,
     "metadata": {},
     "output_type": "execute_result"
    }
   ],
   "source": [
    "sonSonuc"
   ]
  },
  {
   "cell_type": "code",
   "execution_count": 22,
   "id": "425ebddf-7687-49ad-b580-05eafbeb9bbb",
   "metadata": {},
   "outputs": [],
   "source": [
    "farkliSeri = pd.Series([20,30,40,50],[\"a\",\"b\",\"c\",\"d\"])"
   ]
  },
  {
   "cell_type": "code",
   "execution_count": 23,
   "id": "158fb52a-9105-4354-9f1a-65c8931c28ea",
   "metadata": {},
   "outputs": [],
   "source": [
    "farkliSeri2 = pd.Series([10,5,3,1,],[\"a\",\"c\",\"f\",\"g\"])"
   ]
  },
  {
   "cell_type": "code",
   "execution_count": 24,
   "id": "dfb81f64-665c-4e2d-8be7-d1d1383127cc",
   "metadata": {},
   "outputs": [
    {
     "data": {
      "text/plain": [
       "a    30.0\n",
       "b     NaN\n",
       "c    45.0\n",
       "d     NaN\n",
       "f     NaN\n",
       "g     NaN\n",
       "dtype: float64"
      ]
     },
     "execution_count": 24,
     "metadata": {},
     "output_type": "execute_result"
    }
   ],
   "source": [
    "farkliSeri + farkliSeri2 #kesisenleri toplayip getirir."
   ]
  },
  {
   "cell_type": "code",
   "execution_count": 30,
   "id": "2d72eadd-c7c3-4c2d-8876-f89667dcf3a2",
   "metadata": {},
   "outputs": [
    {
     "data": {
      "text/plain": [
       "array([[-0.64245547,  0.41431344, -1.03747688],\n",
       "       [ 1.02686235,  0.50827169,  0.45701445],\n",
       "       [-0.01412899, -1.13029831,  0.22197884]])"
      ]
     },
     "execution_count": 30,
     "metadata": {},
     "output_type": "execute_result"
    }
   ],
   "source": [
    "data = np.random.randn(3,3)\n",
    "data"
   ]
  },
  {
   "cell_type": "code",
   "execution_count": 31,
   "id": "526ad861-1c1a-4adf-bd04-dd731a0133d7",
   "metadata": {},
   "outputs": [],
   "source": [
    "dataF = pd.DataFrame(data)"
   ]
  },
  {
   "cell_type": "code",
   "execution_count": 32,
   "id": "15ae2aa8-3664-4047-8c87-e1c0803d133c",
   "metadata": {},
   "outputs": [
    {
     "data": {
      "text/html": [
       "<div>\n",
       "<style scoped>\n",
       "    .dataframe tbody tr th:only-of-type {\n",
       "        vertical-align: middle;\n",
       "    }\n",
       "\n",
       "    .dataframe tbody tr th {\n",
       "        vertical-align: top;\n",
       "    }\n",
       "\n",
       "    .dataframe thead th {\n",
       "        text-align: right;\n",
       "    }\n",
       "</style>\n",
       "<table border=\"1\" class=\"dataframe\">\n",
       "  <thead>\n",
       "    <tr style=\"text-align: right;\">\n",
       "      <th></th>\n",
       "      <th>0</th>\n",
       "      <th>1</th>\n",
       "      <th>2</th>\n",
       "    </tr>\n",
       "  </thead>\n",
       "  <tbody>\n",
       "    <tr>\n",
       "      <th>0</th>\n",
       "      <td>-0.642455</td>\n",
       "      <td>0.414313</td>\n",
       "      <td>-1.037477</td>\n",
       "    </tr>\n",
       "    <tr>\n",
       "      <th>1</th>\n",
       "      <td>1.026862</td>\n",
       "      <td>0.508272</td>\n",
       "      <td>0.457014</td>\n",
       "    </tr>\n",
       "    <tr>\n",
       "      <th>2</th>\n",
       "      <td>-0.014129</td>\n",
       "      <td>-1.130298</td>\n",
       "      <td>0.221979</td>\n",
       "    </tr>\n",
       "  </tbody>\n",
       "</table>\n",
       "</div>"
      ],
      "text/plain": [
       "          0         1         2\n",
       "0 -0.642455  0.414313 -1.037477\n",
       "1  1.026862  0.508272  0.457014\n",
       "2 -0.014129 -1.130298  0.221979"
      ]
     },
     "execution_count": 32,
     "metadata": {},
     "output_type": "execute_result"
    }
   ],
   "source": [
    "dataF"
   ]
  },
  {
   "cell_type": "code",
   "execution_count": 29,
   "id": "763551f0-132c-46db-9eab-e9c304f66f46",
   "metadata": {},
   "outputs": [
    {
     "data": {
      "text/plain": [
       "pandas.core.frame.DataFrame"
      ]
     },
     "execution_count": 29,
     "metadata": {},
     "output_type": "execute_result"
    }
   ],
   "source": [
    "type(dataF)"
   ]
  },
  {
   "cell_type": "code",
   "execution_count": 33,
   "id": "1831ddf8-9cfd-4008-a8c5-2a0111785016",
   "metadata": {},
   "outputs": [
    {
     "data": {
      "text/plain": [
       "0   -0.642455\n",
       "1    1.026862\n",
       "2   -0.014129\n",
       "Name: 0, dtype: float64"
      ]
     },
     "execution_count": 33,
     "metadata": {},
     "output_type": "execute_result"
    }
   ],
   "source": [
    "dataF[0]"
   ]
  },
  {
   "cell_type": "code",
   "execution_count": 34,
   "id": "8cec5360-cdfe-4ee6-81db-7393cf44ef25",
   "metadata": {},
   "outputs": [
    {
     "data": {
      "text/plain": [
       "pandas.core.series.Series"
      ]
     },
     "execution_count": 34,
     "metadata": {},
     "output_type": "execute_result"
    }
   ],
   "source": [
    "type(dataF[0])"
   ]
  },
  {
   "cell_type": "code",
   "execution_count": 35,
   "id": "794db35c-126e-4aa8-babe-f20590705788",
   "metadata": {},
   "outputs": [],
   "source": [
    "newdataf = pd.DataFrame(data, index=[\"burak\",\"mehmet\",\"osman\"], columns = [\"maas\", \"yas\",\"calismasaat\"])"
   ]
  },
  {
   "cell_type": "code",
   "execution_count": 36,
   "id": "3c0609f6-bee3-4028-9396-c3e165b97b36",
   "metadata": {},
   "outputs": [
    {
     "data": {
      "text/html": [
       "<div>\n",
       "<style scoped>\n",
       "    .dataframe tbody tr th:only-of-type {\n",
       "        vertical-align: middle;\n",
       "    }\n",
       "\n",
       "    .dataframe tbody tr th {\n",
       "        vertical-align: top;\n",
       "    }\n",
       "\n",
       "    .dataframe thead th {\n",
       "        text-align: right;\n",
       "    }\n",
       "</style>\n",
       "<table border=\"1\" class=\"dataframe\">\n",
       "  <thead>\n",
       "    <tr style=\"text-align: right;\">\n",
       "      <th></th>\n",
       "      <th>maas</th>\n",
       "      <th>yas</th>\n",
       "      <th>calismasaat</th>\n",
       "    </tr>\n",
       "  </thead>\n",
       "  <tbody>\n",
       "    <tr>\n",
       "      <th>burak</th>\n",
       "      <td>-0.642455</td>\n",
       "      <td>0.414313</td>\n",
       "      <td>-1.037477</td>\n",
       "    </tr>\n",
       "    <tr>\n",
       "      <th>mehmet</th>\n",
       "      <td>1.026862</td>\n",
       "      <td>0.508272</td>\n",
       "      <td>0.457014</td>\n",
       "    </tr>\n",
       "    <tr>\n",
       "      <th>osman</th>\n",
       "      <td>-0.014129</td>\n",
       "      <td>-1.130298</td>\n",
       "      <td>0.221979</td>\n",
       "    </tr>\n",
       "  </tbody>\n",
       "</table>\n",
       "</div>"
      ],
      "text/plain": [
       "            maas       yas  calismasaat\n",
       "burak  -0.642455  0.414313    -1.037477\n",
       "mehmet  1.026862  0.508272     0.457014\n",
       "osman  -0.014129 -1.130298     0.221979"
      ]
     },
     "execution_count": 36,
     "metadata": {},
     "output_type": "execute_result"
    }
   ],
   "source": [
    "newdataf"
   ]
  },
  {
   "cell_type": "code",
   "execution_count": 37,
   "id": "790c8ec8-1193-4e15-81ea-76c0dbee41ed",
   "metadata": {},
   "outputs": [
    {
     "data": {
      "text/plain": [
       "burak     0.414313\n",
       "mehmet    0.508272\n",
       "osman    -1.130298\n",
       "Name: yas, dtype: float64"
      ]
     },
     "execution_count": 37,
     "metadata": {},
     "output_type": "execute_result"
    }
   ],
   "source": [
    "newdataf[\"yas\"]"
   ]
  },
  {
   "cell_type": "code",
   "execution_count": 38,
   "id": "2b1b84dd-8ad0-48db-8f11-fa69b572f834",
   "metadata": {},
   "outputs": [
    {
     "data": {
      "text/plain": [
       "burak    -0.642455\n",
       "mehmet    1.026862\n",
       "osman    -0.014129\n",
       "Name: maas, dtype: float64"
      ]
     },
     "execution_count": 38,
     "metadata": {},
     "output_type": "execute_result"
    }
   ],
   "source": [
    "newdataf[\"maas\"]"
   ]
  },
  {
   "cell_type": "code",
   "execution_count": 41,
   "id": "b55ef5b6-4605-4b3e-973e-13ae319a1b42",
   "metadata": {},
   "outputs": [
    {
     "data": {
      "text/plain": [
       "maas          -0.642455\n",
       "yas            0.414313\n",
       "calismasaat   -1.037477\n",
       "Name: burak, dtype: float64"
      ]
     },
     "execution_count": 41,
     "metadata": {},
     "output_type": "execute_result"
    }
   ],
   "source": [
    "newdataf.loc[\"burak\"] #indexi getirmek icin loc kullanilir."
   ]
  },
  {
   "cell_type": "code",
   "execution_count": 42,
   "id": "becc540f-0941-465b-a917-4800c7b40d4c",
   "metadata": {},
   "outputs": [
    {
     "data": {
      "text/plain": [
       "maas          -0.642455\n",
       "yas            0.414313\n",
       "calismasaat   -1.037477\n",
       "Name: burak, dtype: float64"
      ]
     },
     "execution_count": 42,
     "metadata": {},
     "output_type": "execute_result"
    }
   ],
   "source": [
    "newdataf.iloc[0]"
   ]
  },
  {
   "cell_type": "code",
   "execution_count": 43,
   "id": "d69b6bfb-c2e5-47ef-83da-8c23f6de1a56",
   "metadata": {},
   "outputs": [],
   "source": [
    "newdataf[\"emeklilikyas\"] = newdataf[\"yas\"] + newdataf[\"yas\"]"
   ]
  },
  {
   "cell_type": "code",
   "execution_count": 44,
   "id": "e7bb2b5e-b7c3-4609-82e4-c0df0a44f292",
   "metadata": {},
   "outputs": [
    {
     "data": {
      "text/html": [
       "<div>\n",
       "<style scoped>\n",
       "    .dataframe tbody tr th:only-of-type {\n",
       "        vertical-align: middle;\n",
       "    }\n",
       "\n",
       "    .dataframe tbody tr th {\n",
       "        vertical-align: top;\n",
       "    }\n",
       "\n",
       "    .dataframe thead th {\n",
       "        text-align: right;\n",
       "    }\n",
       "</style>\n",
       "<table border=\"1\" class=\"dataframe\">\n",
       "  <thead>\n",
       "    <tr style=\"text-align: right;\">\n",
       "      <th></th>\n",
       "      <th>maas</th>\n",
       "      <th>yas</th>\n",
       "      <th>calismasaat</th>\n",
       "      <th>emeklilikyas</th>\n",
       "    </tr>\n",
       "  </thead>\n",
       "  <tbody>\n",
       "    <tr>\n",
       "      <th>burak</th>\n",
       "      <td>-0.642455</td>\n",
       "      <td>0.414313</td>\n",
       "      <td>-1.037477</td>\n",
       "      <td>0.828627</td>\n",
       "    </tr>\n",
       "    <tr>\n",
       "      <th>mehmet</th>\n",
       "      <td>1.026862</td>\n",
       "      <td>0.508272</td>\n",
       "      <td>0.457014</td>\n",
       "      <td>1.016543</td>\n",
       "    </tr>\n",
       "    <tr>\n",
       "      <th>osman</th>\n",
       "      <td>-0.014129</td>\n",
       "      <td>-1.130298</td>\n",
       "      <td>0.221979</td>\n",
       "      <td>-2.260597</td>\n",
       "    </tr>\n",
       "  </tbody>\n",
       "</table>\n",
       "</div>"
      ],
      "text/plain": [
       "            maas       yas  calismasaat  emeklilikyas\n",
       "burak  -0.642455  0.414313    -1.037477      0.828627\n",
       "mehmet  1.026862  0.508272     0.457014      1.016543\n",
       "osman  -0.014129 -1.130298     0.221979     -2.260597"
      ]
     },
     "execution_count": 44,
     "metadata": {},
     "output_type": "execute_result"
    }
   ],
   "source": [
    "newdataf"
   ]
  },
  {
   "cell_type": "code",
   "execution_count": 46,
   "id": "e42bddde-c5db-4636-919f-277e63604299",
   "metadata": {},
   "outputs": [
    {
     "data": {
      "text/html": [
       "<div>\n",
       "<style scoped>\n",
       "    .dataframe tbody tr th:only-of-type {\n",
       "        vertical-align: middle;\n",
       "    }\n",
       "\n",
       "    .dataframe tbody tr th {\n",
       "        vertical-align: top;\n",
       "    }\n",
       "\n",
       "    .dataframe thead th {\n",
       "        text-align: right;\n",
       "    }\n",
       "</style>\n",
       "<table border=\"1\" class=\"dataframe\">\n",
       "  <thead>\n",
       "    <tr style=\"text-align: right;\">\n",
       "      <th></th>\n",
       "      <th>maas</th>\n",
       "      <th>yas</th>\n",
       "      <th>calismasaat</th>\n",
       "    </tr>\n",
       "  </thead>\n",
       "  <tbody>\n",
       "    <tr>\n",
       "      <th>burak</th>\n",
       "      <td>-0.642455</td>\n",
       "      <td>0.414313</td>\n",
       "      <td>-1.037477</td>\n",
       "    </tr>\n",
       "    <tr>\n",
       "      <th>mehmet</th>\n",
       "      <td>1.026862</td>\n",
       "      <td>0.508272</td>\n",
       "      <td>0.457014</td>\n",
       "    </tr>\n",
       "    <tr>\n",
       "      <th>osman</th>\n",
       "      <td>-0.014129</td>\n",
       "      <td>-1.130298</td>\n",
       "      <td>0.221979</td>\n",
       "    </tr>\n",
       "  </tbody>\n",
       "</table>\n",
       "</div>"
      ],
      "text/plain": [
       "            maas       yas  calismasaat\n",
       "burak  -0.642455  0.414313    -1.037477\n",
       "mehmet  1.026862  0.508272     0.457014\n",
       "osman  -0.014129 -1.130298     0.221979"
      ]
     },
     "execution_count": 46,
     "metadata": {},
     "output_type": "execute_result"
    }
   ],
   "source": [
    "newdataf.drop(\"emeklilikyas\", axis = 1) #axis1 sutun olur."
   ]
  },
  {
   "cell_type": "code",
   "execution_count": 47,
   "id": "11ebf740-23cc-4d5a-910f-daf31ad4f01b",
   "metadata": {},
   "outputs": [
    {
     "data": {
      "text/html": [
       "<div>\n",
       "<style scoped>\n",
       "    .dataframe tbody tr th:only-of-type {\n",
       "        vertical-align: middle;\n",
       "    }\n",
       "\n",
       "    .dataframe tbody tr th {\n",
       "        vertical-align: top;\n",
       "    }\n",
       "\n",
       "    .dataframe thead th {\n",
       "        text-align: right;\n",
       "    }\n",
       "</style>\n",
       "<table border=\"1\" class=\"dataframe\">\n",
       "  <thead>\n",
       "    <tr style=\"text-align: right;\">\n",
       "      <th></th>\n",
       "      <th>maas</th>\n",
       "      <th>yas</th>\n",
       "      <th>calismasaat</th>\n",
       "      <th>emeklilikyas</th>\n",
       "    </tr>\n",
       "  </thead>\n",
       "  <tbody>\n",
       "    <tr>\n",
       "      <th>burak</th>\n",
       "      <td>-0.642455</td>\n",
       "      <td>0.414313</td>\n",
       "      <td>-1.037477</td>\n",
       "      <td>0.828627</td>\n",
       "    </tr>\n",
       "    <tr>\n",
       "      <th>mehmet</th>\n",
       "      <td>1.026862</td>\n",
       "      <td>0.508272</td>\n",
       "      <td>0.457014</td>\n",
       "      <td>1.016543</td>\n",
       "    </tr>\n",
       "  </tbody>\n",
       "</table>\n",
       "</div>"
      ],
      "text/plain": [
       "            maas       yas  calismasaat  emeklilikyas\n",
       "burak  -0.642455  0.414313    -1.037477      0.828627\n",
       "mehmet  1.026862  0.508272     0.457014      1.016543"
      ]
     },
     "execution_count": 47,
     "metadata": {},
     "output_type": "execute_result"
    }
   ],
   "source": [
    "newdataf.drop(\"osman\", axis=0)"
   ]
  },
  {
   "cell_type": "code",
   "execution_count": 48,
   "id": "1a3446fa-d9c6-410b-a859-fe250780ea55",
   "metadata": {},
   "outputs": [
    {
     "data": {
      "text/html": [
       "<div>\n",
       "<style scoped>\n",
       "    .dataframe tbody tr th:only-of-type {\n",
       "        vertical-align: middle;\n",
       "    }\n",
       "\n",
       "    .dataframe tbody tr th {\n",
       "        vertical-align: top;\n",
       "    }\n",
       "\n",
       "    .dataframe thead th {\n",
       "        text-align: right;\n",
       "    }\n",
       "</style>\n",
       "<table border=\"1\" class=\"dataframe\">\n",
       "  <thead>\n",
       "    <tr style=\"text-align: right;\">\n",
       "      <th></th>\n",
       "      <th>maas</th>\n",
       "      <th>yas</th>\n",
       "      <th>calismasaat</th>\n",
       "      <th>emeklilikyas</th>\n",
       "    </tr>\n",
       "  </thead>\n",
       "  <tbody>\n",
       "    <tr>\n",
       "      <th>burak</th>\n",
       "      <td>-0.642455</td>\n",
       "      <td>0.414313</td>\n",
       "      <td>-1.037477</td>\n",
       "      <td>0.828627</td>\n",
       "    </tr>\n",
       "    <tr>\n",
       "      <th>mehmet</th>\n",
       "      <td>1.026862</td>\n",
       "      <td>0.508272</td>\n",
       "      <td>0.457014</td>\n",
       "      <td>1.016543</td>\n",
       "    </tr>\n",
       "    <tr>\n",
       "      <th>osman</th>\n",
       "      <td>-0.014129</td>\n",
       "      <td>-1.130298</td>\n",
       "      <td>0.221979</td>\n",
       "      <td>-2.260597</td>\n",
       "    </tr>\n",
       "  </tbody>\n",
       "</table>\n",
       "</div>"
      ],
      "text/plain": [
       "            maas       yas  calismasaat  emeklilikyas\n",
       "burak  -0.642455  0.414313    -1.037477      0.828627\n",
       "mehmet  1.026862  0.508272     0.457014      1.016543\n",
       "osman  -0.014129 -1.130298     0.221979     -2.260597"
      ]
     },
     "execution_count": 48,
     "metadata": {},
     "output_type": "execute_result"
    }
   ],
   "source": [
    "newdataf"
   ]
  },
  {
   "cell_type": "code",
   "execution_count": 49,
   "id": "7ca7b382-86d7-4d8c-8299-896237cf8f71",
   "metadata": {},
   "outputs": [],
   "source": [
    "newdataf.drop(\"emeklilikyas\", axis=1, inplace=True) #inplace burada degisikligi kalici yaptirir."
   ]
  },
  {
   "cell_type": "code",
   "execution_count": 50,
   "id": "9da6cf64-eb30-4760-8497-2df39a20c640",
   "metadata": {},
   "outputs": [
    {
     "data": {
      "text/html": [
       "<div>\n",
       "<style scoped>\n",
       "    .dataframe tbody tr th:only-of-type {\n",
       "        vertical-align: middle;\n",
       "    }\n",
       "\n",
       "    .dataframe tbody tr th {\n",
       "        vertical-align: top;\n",
       "    }\n",
       "\n",
       "    .dataframe thead th {\n",
       "        text-align: right;\n",
       "    }\n",
       "</style>\n",
       "<table border=\"1\" class=\"dataframe\">\n",
       "  <thead>\n",
       "    <tr style=\"text-align: right;\">\n",
       "      <th></th>\n",
       "      <th>maas</th>\n",
       "      <th>yas</th>\n",
       "      <th>calismasaat</th>\n",
       "    </tr>\n",
       "  </thead>\n",
       "  <tbody>\n",
       "    <tr>\n",
       "      <th>burak</th>\n",
       "      <td>-0.642455</td>\n",
       "      <td>0.414313</td>\n",
       "      <td>-1.037477</td>\n",
       "    </tr>\n",
       "    <tr>\n",
       "      <th>mehmet</th>\n",
       "      <td>1.026862</td>\n",
       "      <td>0.508272</td>\n",
       "      <td>0.457014</td>\n",
       "    </tr>\n",
       "    <tr>\n",
       "      <th>osman</th>\n",
       "      <td>-0.014129</td>\n",
       "      <td>-1.130298</td>\n",
       "      <td>0.221979</td>\n",
       "    </tr>\n",
       "  </tbody>\n",
       "</table>\n",
       "</div>"
      ],
      "text/plain": [
       "            maas       yas  calismasaat\n",
       "burak  -0.642455  0.414313    -1.037477\n",
       "mehmet  1.026862  0.508272     0.457014\n",
       "osman  -0.014129 -1.130298     0.221979"
      ]
     },
     "execution_count": 50,
     "metadata": {},
     "output_type": "execute_result"
    }
   ],
   "source": [
    "newdataf"
   ]
  },
  {
   "cell_type": "code",
   "execution_count": 51,
   "id": "1b6e9896-7c97-41fd-9d73-511924eec233",
   "metadata": {},
   "outputs": [],
   "source": [
    "booleanFrame = newdataf < 0"
   ]
  },
  {
   "cell_type": "code",
   "execution_count": 52,
   "id": "fecb3e1c-469c-4aea-af13-f7c9f8a6e874",
   "metadata": {},
   "outputs": [
    {
     "data": {
      "text/html": [
       "<div>\n",
       "<style scoped>\n",
       "    .dataframe tbody tr th:only-of-type {\n",
       "        vertical-align: middle;\n",
       "    }\n",
       "\n",
       "    .dataframe tbody tr th {\n",
       "        vertical-align: top;\n",
       "    }\n",
       "\n",
       "    .dataframe thead th {\n",
       "        text-align: right;\n",
       "    }\n",
       "</style>\n",
       "<table border=\"1\" class=\"dataframe\">\n",
       "  <thead>\n",
       "    <tr style=\"text-align: right;\">\n",
       "      <th></th>\n",
       "      <th>maas</th>\n",
       "      <th>yas</th>\n",
       "      <th>calismasaat</th>\n",
       "    </tr>\n",
       "  </thead>\n",
       "  <tbody>\n",
       "    <tr>\n",
       "      <th>burak</th>\n",
       "      <td>-0.642455</td>\n",
       "      <td>NaN</td>\n",
       "      <td>-1.037477</td>\n",
       "    </tr>\n",
       "    <tr>\n",
       "      <th>mehmet</th>\n",
       "      <td>NaN</td>\n",
       "      <td>NaN</td>\n",
       "      <td>NaN</td>\n",
       "    </tr>\n",
       "    <tr>\n",
       "      <th>osman</th>\n",
       "      <td>-0.014129</td>\n",
       "      <td>-1.130298</td>\n",
       "      <td>NaN</td>\n",
       "    </tr>\n",
       "  </tbody>\n",
       "</table>\n",
       "</div>"
      ],
      "text/plain": [
       "            maas       yas  calismasaat\n",
       "burak  -0.642455       NaN    -1.037477\n",
       "mehmet       NaN       NaN          NaN\n",
       "osman  -0.014129 -1.130298          NaN"
      ]
     },
     "execution_count": 52,
     "metadata": {},
     "output_type": "execute_result"
    }
   ],
   "source": [
    "newdataf[booleanFrame] #sadece 0'dan kucuk olan degerleri gosterir."
   ]
  },
  {
   "cell_type": "code",
   "execution_count": 53,
   "id": "27d59a46-70b0-41d5-b36c-642e28e20f31",
   "metadata": {},
   "outputs": [
    {
     "data": {
      "text/html": [
       "<div>\n",
       "<style scoped>\n",
       "    .dataframe tbody tr th:only-of-type {\n",
       "        vertical-align: middle;\n",
       "    }\n",
       "\n",
       "    .dataframe tbody tr th {\n",
       "        vertical-align: top;\n",
       "    }\n",
       "\n",
       "    .dataframe thead th {\n",
       "        text-align: right;\n",
       "    }\n",
       "</style>\n",
       "<table border=\"1\" class=\"dataframe\">\n",
       "  <thead>\n",
       "    <tr style=\"text-align: right;\">\n",
       "      <th></th>\n",
       "      <th>index</th>\n",
       "      <th>maas</th>\n",
       "      <th>yas</th>\n",
       "      <th>calismasaat</th>\n",
       "    </tr>\n",
       "  </thead>\n",
       "  <tbody>\n",
       "    <tr>\n",
       "      <th>0</th>\n",
       "      <td>burak</td>\n",
       "      <td>-0.642455</td>\n",
       "      <td>0.414313</td>\n",
       "      <td>-1.037477</td>\n",
       "    </tr>\n",
       "    <tr>\n",
       "      <th>1</th>\n",
       "      <td>mehmet</td>\n",
       "      <td>1.026862</td>\n",
       "      <td>0.508272</td>\n",
       "      <td>0.457014</td>\n",
       "    </tr>\n",
       "    <tr>\n",
       "      <th>2</th>\n",
       "      <td>osman</td>\n",
       "      <td>-0.014129</td>\n",
       "      <td>-1.130298</td>\n",
       "      <td>0.221979</td>\n",
       "    </tr>\n",
       "  </tbody>\n",
       "</table>\n",
       "</div>"
      ],
      "text/plain": [
       "    index      maas       yas  calismasaat\n",
       "0   burak -0.642455  0.414313    -1.037477\n",
       "1  mehmet  1.026862  0.508272     0.457014\n",
       "2   osman -0.014129 -1.130298     0.221979"
      ]
     },
     "execution_count": 53,
     "metadata": {},
     "output_type": "execute_result"
    }
   ],
   "source": [
    "newdataf.reset_index()"
   ]
  },
  {
   "cell_type": "code",
   "execution_count": 54,
   "id": "414867c3-4d16-447e-ae03-c056bf537fde",
   "metadata": {},
   "outputs": [
    {
     "data": {
      "text/html": [
       "<div>\n",
       "<style scoped>\n",
       "    .dataframe tbody tr th:only-of-type {\n",
       "        vertical-align: middle;\n",
       "    }\n",
       "\n",
       "    .dataframe tbody tr th {\n",
       "        vertical-align: top;\n",
       "    }\n",
       "\n",
       "    .dataframe thead th {\n",
       "        text-align: right;\n",
       "    }\n",
       "</style>\n",
       "<table border=\"1\" class=\"dataframe\">\n",
       "  <thead>\n",
       "    <tr style=\"text-align: right;\">\n",
       "      <th></th>\n",
       "      <th>maas</th>\n",
       "      <th>yas</th>\n",
       "      <th>calismasaat</th>\n",
       "    </tr>\n",
       "  </thead>\n",
       "  <tbody>\n",
       "    <tr>\n",
       "      <th>burak</th>\n",
       "      <td>-0.642455</td>\n",
       "      <td>0.414313</td>\n",
       "      <td>-1.037477</td>\n",
       "    </tr>\n",
       "    <tr>\n",
       "      <th>mehmet</th>\n",
       "      <td>1.026862</td>\n",
       "      <td>0.508272</td>\n",
       "      <td>0.457014</td>\n",
       "    </tr>\n",
       "    <tr>\n",
       "      <th>osman</th>\n",
       "      <td>-0.014129</td>\n",
       "      <td>-1.130298</td>\n",
       "      <td>0.221979</td>\n",
       "    </tr>\n",
       "  </tbody>\n",
       "</table>\n",
       "</div>"
      ],
      "text/plain": [
       "            maas       yas  calismasaat\n",
       "burak  -0.642455  0.414313    -1.037477\n",
       "mehmet  1.026862  0.508272     0.457014\n",
       "osman  -0.014129 -1.130298     0.221979"
      ]
     },
     "execution_count": 54,
     "metadata": {},
     "output_type": "execute_result"
    }
   ],
   "source": [
    "newdataf"
   ]
  },
  {
   "cell_type": "code",
   "execution_count": 57,
   "id": "6753b2f9-8c51-4d8c-85e6-0207a8396234",
   "metadata": {},
   "outputs": [],
   "source": [
    "newIndex = [\"at\",\"zey\",\"hob\"]"
   ]
  },
  {
   "cell_type": "code",
   "execution_count": 58,
   "id": "3e55c14b-8fa2-45d3-9ecd-67e83a92b14e",
   "metadata": {},
   "outputs": [],
   "source": [
    "newdataf[\"new\"] = newIndex"
   ]
  },
  {
   "cell_type": "code",
   "execution_count": 59,
   "id": "75270a38-88c0-4a14-8ddd-535536ba7a1f",
   "metadata": {},
   "outputs": [
    {
     "data": {
      "text/html": [
       "<div>\n",
       "<style scoped>\n",
       "    .dataframe tbody tr th:only-of-type {\n",
       "        vertical-align: middle;\n",
       "    }\n",
       "\n",
       "    .dataframe tbody tr th {\n",
       "        vertical-align: top;\n",
       "    }\n",
       "\n",
       "    .dataframe thead th {\n",
       "        text-align: right;\n",
       "    }\n",
       "</style>\n",
       "<table border=\"1\" class=\"dataframe\">\n",
       "  <thead>\n",
       "    <tr style=\"text-align: right;\">\n",
       "      <th></th>\n",
       "      <th>maas</th>\n",
       "      <th>yas</th>\n",
       "      <th>calismasaat</th>\n",
       "      <th>new</th>\n",
       "    </tr>\n",
       "  </thead>\n",
       "  <tbody>\n",
       "    <tr>\n",
       "      <th>burak</th>\n",
       "      <td>-0.642455</td>\n",
       "      <td>0.414313</td>\n",
       "      <td>-1.037477</td>\n",
       "      <td>at</td>\n",
       "    </tr>\n",
       "    <tr>\n",
       "      <th>mehmet</th>\n",
       "      <td>1.026862</td>\n",
       "      <td>0.508272</td>\n",
       "      <td>0.457014</td>\n",
       "      <td>zey</td>\n",
       "    </tr>\n",
       "    <tr>\n",
       "      <th>osman</th>\n",
       "      <td>-0.014129</td>\n",
       "      <td>-1.130298</td>\n",
       "      <td>0.221979</td>\n",
       "      <td>hob</td>\n",
       "    </tr>\n",
       "  </tbody>\n",
       "</table>\n",
       "</div>"
      ],
      "text/plain": [
       "            maas       yas  calismasaat  new\n",
       "burak  -0.642455  0.414313    -1.037477   at\n",
       "mehmet  1.026862  0.508272     0.457014  zey\n",
       "osman  -0.014129 -1.130298     0.221979  hob"
      ]
     },
     "execution_count": 59,
     "metadata": {},
     "output_type": "execute_result"
    }
   ],
   "source": [
    "newdataf"
   ]
  },
  {
   "cell_type": "code",
   "execution_count": 65,
   "id": "c55a2ad8-d04e-4d5b-bbf0-d5645530cc9d",
   "metadata": {},
   "outputs": [],
   "source": [
    "newdataf.set_index(\"new\", inplace=True)"
   ]
  },
  {
   "cell_type": "code",
   "execution_count": 66,
   "id": "d4966637-1584-4874-b9b3-248093987d45",
   "metadata": {},
   "outputs": [
    {
     "data": {
      "text/html": [
       "<div>\n",
       "<style scoped>\n",
       "    .dataframe tbody tr th:only-of-type {\n",
       "        vertical-align: middle;\n",
       "    }\n",
       "\n",
       "    .dataframe tbody tr th {\n",
       "        vertical-align: top;\n",
       "    }\n",
       "\n",
       "    .dataframe thead th {\n",
       "        text-align: right;\n",
       "    }\n",
       "</style>\n",
       "<table border=\"1\" class=\"dataframe\">\n",
       "  <thead>\n",
       "    <tr style=\"text-align: right;\">\n",
       "      <th></th>\n",
       "      <th>maas</th>\n",
       "      <th>yas</th>\n",
       "      <th>calismasaat</th>\n",
       "    </tr>\n",
       "    <tr>\n",
       "      <th>new</th>\n",
       "      <th></th>\n",
       "      <th></th>\n",
       "      <th></th>\n",
       "    </tr>\n",
       "  </thead>\n",
       "  <tbody>\n",
       "    <tr>\n",
       "      <th>at</th>\n",
       "      <td>-0.642455</td>\n",
       "      <td>0.414313</td>\n",
       "      <td>-1.037477</td>\n",
       "    </tr>\n",
       "    <tr>\n",
       "      <th>zey</th>\n",
       "      <td>1.026862</td>\n",
       "      <td>0.508272</td>\n",
       "      <td>0.457014</td>\n",
       "    </tr>\n",
       "    <tr>\n",
       "      <th>hob</th>\n",
       "      <td>-0.014129</td>\n",
       "      <td>-1.130298</td>\n",
       "      <td>0.221979</td>\n",
       "    </tr>\n",
       "  </tbody>\n",
       "</table>\n",
       "</div>"
      ],
      "text/plain": [
       "         maas       yas  calismasaat\n",
       "new                                 \n",
       "at  -0.642455  0.414313    -1.037477\n",
       "zey  1.026862  0.508272     0.457014\n",
       "hob -0.014129 -1.130298     0.221979"
      ]
     },
     "execution_count": 66,
     "metadata": {},
     "output_type": "execute_result"
    }
   ],
   "source": [
    "newdataf"
   ]
  },
  {
   "cell_type": "code",
   "execution_count": 2,
   "id": "c433fec2-4152-4df0-9368-f0f1239c5560",
   "metadata": {},
   "outputs": [],
   "source": [
    "dictV = {\"Istanbul\": [30,29,np.nan], \"Ankara\": [20,np.nan,25], \"Izmir\": [40,39,38]}\n",
    "weatherDF = pd.DataFrame(dictV)"
   ]
  },
  {
   "cell_type": "code",
   "execution_count": 3,
   "id": "b789fe2c-20e5-4e77-9299-9278b071a0fc",
   "metadata": {},
   "outputs": [
    {
     "data": {
      "text/html": [
       "<div>\n",
       "<style scoped>\n",
       "    .dataframe tbody tr th:only-of-type {\n",
       "        vertical-align: middle;\n",
       "    }\n",
       "\n",
       "    .dataframe tbody tr th {\n",
       "        vertical-align: top;\n",
       "    }\n",
       "\n",
       "    .dataframe thead th {\n",
       "        text-align: right;\n",
       "    }\n",
       "</style>\n",
       "<table border=\"1\" class=\"dataframe\">\n",
       "  <thead>\n",
       "    <tr style=\"text-align: right;\">\n",
       "      <th></th>\n",
       "      <th>Istanbul</th>\n",
       "      <th>Ankara</th>\n",
       "      <th>Izmir</th>\n",
       "    </tr>\n",
       "  </thead>\n",
       "  <tbody>\n",
       "    <tr>\n",
       "      <th>0</th>\n",
       "      <td>30.0</td>\n",
       "      <td>20.0</td>\n",
       "      <td>40</td>\n",
       "    </tr>\n",
       "    <tr>\n",
       "      <th>1</th>\n",
       "      <td>29.0</td>\n",
       "      <td>NaN</td>\n",
       "      <td>39</td>\n",
       "    </tr>\n",
       "    <tr>\n",
       "      <th>2</th>\n",
       "      <td>NaN</td>\n",
       "      <td>25.0</td>\n",
       "      <td>38</td>\n",
       "    </tr>\n",
       "  </tbody>\n",
       "</table>\n",
       "</div>"
      ],
      "text/plain": [
       "   Istanbul  Ankara  Izmir\n",
       "0      30.0    20.0     40\n",
       "1      29.0     NaN     39\n",
       "2       NaN    25.0     38"
      ]
     },
     "execution_count": 3,
     "metadata": {},
     "output_type": "execute_result"
    }
   ],
   "source": [
    "weatherDF"
   ]
  },
  {
   "cell_type": "code",
   "execution_count": 9,
   "id": "87695932-4232-4374-aac0-1724d0d7710e",
   "metadata": {},
   "outputs": [
    {
     "data": {
      "text/html": [
       "<div>\n",
       "<style scoped>\n",
       "    .dataframe tbody tr th:only-of-type {\n",
       "        vertical-align: middle;\n",
       "    }\n",
       "\n",
       "    .dataframe tbody tr th {\n",
       "        vertical-align: top;\n",
       "    }\n",
       "\n",
       "    .dataframe thead th {\n",
       "        text-align: right;\n",
       "    }\n",
       "</style>\n",
       "<table border=\"1\" class=\"dataframe\">\n",
       "  <thead>\n",
       "    <tr style=\"text-align: right;\">\n",
       "      <th></th>\n",
       "      <th>Istanbul</th>\n",
       "      <th>Ankara</th>\n",
       "      <th>Izmir</th>\n",
       "    </tr>\n",
       "  </thead>\n",
       "  <tbody>\n",
       "    <tr>\n",
       "      <th>0</th>\n",
       "      <td>30.0</td>\n",
       "      <td>20.0</td>\n",
       "      <td>40</td>\n",
       "    </tr>\n",
       "  </tbody>\n",
       "</table>\n",
       "</div>"
      ],
      "text/plain": [
       "   Istanbul  Ankara  Izmir\n",
       "0      30.0    20.0     40"
      ]
     },
     "execution_count": 9,
     "metadata": {},
     "output_type": "execute_result"
    }
   ],
   "source": [
    "weatherDF.dropna()"
   ]
  },
  {
   "cell_type": "code",
   "execution_count": 10,
   "id": "5e8cc02d-ba13-4208-b7a8-f92d226fb3c8",
   "metadata": {},
   "outputs": [
    {
     "data": {
      "text/html": [
       "<div>\n",
       "<style scoped>\n",
       "    .dataframe tbody tr th:only-of-type {\n",
       "        vertical-align: middle;\n",
       "    }\n",
       "\n",
       "    .dataframe tbody tr th {\n",
       "        vertical-align: top;\n",
       "    }\n",
       "\n",
       "    .dataframe thead th {\n",
       "        text-align: right;\n",
       "    }\n",
       "</style>\n",
       "<table border=\"1\" class=\"dataframe\">\n",
       "  <thead>\n",
       "    <tr style=\"text-align: right;\">\n",
       "      <th></th>\n",
       "      <th>Istanbul</th>\n",
       "      <th>Ankara</th>\n",
       "      <th>Izmir</th>\n",
       "    </tr>\n",
       "  </thead>\n",
       "  <tbody>\n",
       "    <tr>\n",
       "      <th>0</th>\n",
       "      <td>30.0</td>\n",
       "      <td>20.0</td>\n",
       "      <td>40</td>\n",
       "    </tr>\n",
       "    <tr>\n",
       "      <th>1</th>\n",
       "      <td>29.0</td>\n",
       "      <td>NaN</td>\n",
       "      <td>39</td>\n",
       "    </tr>\n",
       "    <tr>\n",
       "      <th>2</th>\n",
       "      <td>NaN</td>\n",
       "      <td>25.0</td>\n",
       "      <td>38</td>\n",
       "    </tr>\n",
       "  </tbody>\n",
       "</table>\n",
       "</div>"
      ],
      "text/plain": [
       "   Istanbul  Ankara  Izmir\n",
       "0      30.0    20.0     40\n",
       "1      29.0     NaN     39\n",
       "2       NaN    25.0     38"
      ]
     },
     "execution_count": 10,
     "metadata": {},
     "output_type": "execute_result"
    }
   ],
   "source": [
    "weatherDF"
   ]
  },
  {
   "cell_type": "code",
   "execution_count": 11,
   "id": "13186b6d-09a7-4797-b8ca-125e0bbc9e7e",
   "metadata": {},
   "outputs": [
    {
     "data": {
      "text/html": [
       "<div>\n",
       "<style scoped>\n",
       "    .dataframe tbody tr th:only-of-type {\n",
       "        vertical-align: middle;\n",
       "    }\n",
       "\n",
       "    .dataframe tbody tr th {\n",
       "        vertical-align: top;\n",
       "    }\n",
       "\n",
       "    .dataframe thead th {\n",
       "        text-align: right;\n",
       "    }\n",
       "</style>\n",
       "<table border=\"1\" class=\"dataframe\">\n",
       "  <thead>\n",
       "    <tr style=\"text-align: right;\">\n",
       "      <th></th>\n",
       "      <th>Izmir</th>\n",
       "    </tr>\n",
       "  </thead>\n",
       "  <tbody>\n",
       "    <tr>\n",
       "      <th>0</th>\n",
       "      <td>40</td>\n",
       "    </tr>\n",
       "    <tr>\n",
       "      <th>1</th>\n",
       "      <td>39</td>\n",
       "    </tr>\n",
       "    <tr>\n",
       "      <th>2</th>\n",
       "      <td>38</td>\n",
       "    </tr>\n",
       "  </tbody>\n",
       "</table>\n",
       "</div>"
      ],
      "text/plain": [
       "   Izmir\n",
       "0     40\n",
       "1     39\n",
       "2     38"
      ]
     },
     "execution_count": 11,
     "metadata": {},
     "output_type": "execute_result"
    }
   ],
   "source": [
    "weatherDF.dropna(axis = 1)"
   ]
  },
  {
   "cell_type": "code",
   "execution_count": 12,
   "id": "d4e9dff3-1958-4986-9da1-6256f5b6d965",
   "metadata": {},
   "outputs": [],
   "source": [
    "newdictV = {\"Istanbul\": [30,29,np.nan], \"Ankara\": [20,np.nan,25], \"Izmir\": [40,39,38], \"Bursa\": [35,np.nan,np.nan]}\n",
    "newweatherDF = pd.DataFrame(newdictV)"
   ]
  },
  {
   "cell_type": "code",
   "execution_count": 13,
   "id": "bf75cb73-7aba-4f08-a3fd-38ec635d669a",
   "metadata": {},
   "outputs": [
    {
     "data": {
      "text/plain": [
       "{'Istanbul': [30, 29, nan],\n",
       " 'Ankara': [20, nan, 25],\n",
       " 'Izmir': [40, 39, 38],\n",
       " 'Bursa': [35, nan, nan]}"
      ]
     },
     "execution_count": 13,
     "metadata": {},
     "output_type": "execute_result"
    }
   ],
   "source": [
    "newdictV"
   ]
  },
  {
   "cell_type": "code",
   "execution_count": 14,
   "id": "b58e15a2-25a8-4c94-a005-78b09224dee0",
   "metadata": {},
   "outputs": [
    {
     "data": {
      "text/html": [
       "<div>\n",
       "<style scoped>\n",
       "    .dataframe tbody tr th:only-of-type {\n",
       "        vertical-align: middle;\n",
       "    }\n",
       "\n",
       "    .dataframe tbody tr th {\n",
       "        vertical-align: top;\n",
       "    }\n",
       "\n",
       "    .dataframe thead th {\n",
       "        text-align: right;\n",
       "    }\n",
       "</style>\n",
       "<table border=\"1\" class=\"dataframe\">\n",
       "  <thead>\n",
       "    <tr style=\"text-align: right;\">\n",
       "      <th></th>\n",
       "      <th>Istanbul</th>\n",
       "      <th>Ankara</th>\n",
       "      <th>Izmir</th>\n",
       "      <th>Bursa</th>\n",
       "    </tr>\n",
       "  </thead>\n",
       "  <tbody>\n",
       "    <tr>\n",
       "      <th>0</th>\n",
       "      <td>30.0</td>\n",
       "      <td>20.0</td>\n",
       "      <td>40</td>\n",
       "      <td>35.0</td>\n",
       "    </tr>\n",
       "    <tr>\n",
       "      <th>1</th>\n",
       "      <td>29.0</td>\n",
       "      <td>NaN</td>\n",
       "      <td>39</td>\n",
       "      <td>NaN</td>\n",
       "    </tr>\n",
       "    <tr>\n",
       "      <th>2</th>\n",
       "      <td>NaN</td>\n",
       "      <td>25.0</td>\n",
       "      <td>38</td>\n",
       "      <td>NaN</td>\n",
       "    </tr>\n",
       "  </tbody>\n",
       "</table>\n",
       "</div>"
      ],
      "text/plain": [
       "   Istanbul  Ankara  Izmir  Bursa\n",
       "0      30.0    20.0     40   35.0\n",
       "1      29.0     NaN     39    NaN\n",
       "2       NaN    25.0     38    NaN"
      ]
     },
     "execution_count": 14,
     "metadata": {},
     "output_type": "execute_result"
    }
   ],
   "source": [
    "newweatherDF"
   ]
  },
  {
   "cell_type": "code",
   "execution_count": 15,
   "id": "3737794d-6994-48b3-a0ab-5cd579a41ff9",
   "metadata": {},
   "outputs": [
    {
     "data": {
      "text/html": [
       "<div>\n",
       "<style scoped>\n",
       "    .dataframe tbody tr th:only-of-type {\n",
       "        vertical-align: middle;\n",
       "    }\n",
       "\n",
       "    .dataframe tbody tr th {\n",
       "        vertical-align: top;\n",
       "    }\n",
       "\n",
       "    .dataframe thead th {\n",
       "        text-align: right;\n",
       "    }\n",
       "</style>\n",
       "<table border=\"1\" class=\"dataframe\">\n",
       "  <thead>\n",
       "    <tr style=\"text-align: right;\">\n",
       "      <th></th>\n",
       "      <th>Istanbul</th>\n",
       "      <th>Ankara</th>\n",
       "      <th>Izmir</th>\n",
       "    </tr>\n",
       "  </thead>\n",
       "  <tbody>\n",
       "    <tr>\n",
       "      <th>0</th>\n",
       "      <td>30.0</td>\n",
       "      <td>20.0</td>\n",
       "      <td>40</td>\n",
       "    </tr>\n",
       "    <tr>\n",
       "      <th>1</th>\n",
       "      <td>29.0</td>\n",
       "      <td>NaN</td>\n",
       "      <td>39</td>\n",
       "    </tr>\n",
       "    <tr>\n",
       "      <th>2</th>\n",
       "      <td>NaN</td>\n",
       "      <td>25.0</td>\n",
       "      <td>38</td>\n",
       "    </tr>\n",
       "  </tbody>\n",
       "</table>\n",
       "</div>"
      ],
      "text/plain": [
       "   Istanbul  Ankara  Izmir\n",
       "0      30.0    20.0     40\n",
       "1      29.0     NaN     39\n",
       "2       NaN    25.0     38"
      ]
     },
     "execution_count": 15,
     "metadata": {},
     "output_type": "execute_result"
    }
   ],
   "source": [
    "newweatherDF.dropna(axis=1, thresh=2)"
   ]
  },
  {
   "cell_type": "code",
   "execution_count": 16,
   "id": "bb7acb96-c107-49a2-b9d7-57dc8c005877",
   "metadata": {},
   "outputs": [
    {
     "data": {
      "text/html": [
       "<div>\n",
       "<style scoped>\n",
       "    .dataframe tbody tr th:only-of-type {\n",
       "        vertical-align: middle;\n",
       "    }\n",
       "\n",
       "    .dataframe tbody tr th {\n",
       "        vertical-align: top;\n",
       "    }\n",
       "\n",
       "    .dataframe thead th {\n",
       "        text-align: right;\n",
       "    }\n",
       "</style>\n",
       "<table border=\"1\" class=\"dataframe\">\n",
       "  <thead>\n",
       "    <tr style=\"text-align: right;\">\n",
       "      <th></th>\n",
       "      <th>Istanbul</th>\n",
       "      <th>Ankara</th>\n",
       "      <th>Izmir</th>\n",
       "      <th>Bursa</th>\n",
       "    </tr>\n",
       "  </thead>\n",
       "  <tbody>\n",
       "    <tr>\n",
       "      <th>0</th>\n",
       "      <td>30.0</td>\n",
       "      <td>20.0</td>\n",
       "      <td>40</td>\n",
       "      <td>35.0</td>\n",
       "    </tr>\n",
       "    <tr>\n",
       "      <th>1</th>\n",
       "      <td>29.0</td>\n",
       "      <td>20.0</td>\n",
       "      <td>39</td>\n",
       "      <td>20.0</td>\n",
       "    </tr>\n",
       "    <tr>\n",
       "      <th>2</th>\n",
       "      <td>20.0</td>\n",
       "      <td>25.0</td>\n",
       "      <td>38</td>\n",
       "      <td>20.0</td>\n",
       "    </tr>\n",
       "  </tbody>\n",
       "</table>\n",
       "</div>"
      ],
      "text/plain": [
       "   Istanbul  Ankara  Izmir  Bursa\n",
       "0      30.0    20.0     40   35.0\n",
       "1      29.0    20.0     39   20.0\n",
       "2      20.0    25.0     38   20.0"
      ]
     },
     "execution_count": 16,
     "metadata": {},
     "output_type": "execute_result"
    }
   ],
   "source": [
    "newweatherDF.fillna(20)"
   ]
  },
  {
   "cell_type": "markdown",
   "id": "7ce80552-cc0c-4f78-ba92-0242488d8349",
   "metadata": {},
   "source": [
    "# GroupBY"
   ]
  },
  {
   "cell_type": "code",
   "execution_count": 24,
   "id": "44e70724-e9ff-4433-8be3-4bc6ae04c758",
   "metadata": {},
   "outputs": [],
   "source": [
    "salaryDict = {\"Departman\": [\"Yazılım\",\"Yazılım\", \"Pazarlama\",\"Pazarlama\",\"Hukuk\",\"Hukuk\"],\n",
    "             \"Calısan Ismi\": [\"Ahmet\",\"Mehmet\",\"Burak\",\"Cengiz\",\"Zeynep\",\"Fatma\"],\n",
    "             \"Maas\": [100,150,200,300,400,500]\n",
    "             }"
   ]
  },
  {
   "cell_type": "code",
   "execution_count": 25,
   "id": "cb693ab6-ac0d-4efa-bcf4-aca18324cdb1",
   "metadata": {},
   "outputs": [
    {
     "data": {
      "text/html": [
       "<div>\n",
       "<style scoped>\n",
       "    .dataframe tbody tr th:only-of-type {\n",
       "        vertical-align: middle;\n",
       "    }\n",
       "\n",
       "    .dataframe tbody tr th {\n",
       "        vertical-align: top;\n",
       "    }\n",
       "\n",
       "    .dataframe thead th {\n",
       "        text-align: right;\n",
       "    }\n",
       "</style>\n",
       "<table border=\"1\" class=\"dataframe\">\n",
       "  <thead>\n",
       "    <tr style=\"text-align: right;\">\n",
       "      <th></th>\n",
       "      <th>Departman</th>\n",
       "      <th>Calısan Ismi</th>\n",
       "      <th>Maas</th>\n",
       "    </tr>\n",
       "  </thead>\n",
       "  <tbody>\n",
       "    <tr>\n",
       "      <th>0</th>\n",
       "      <td>Yazılım</td>\n",
       "      <td>Ahmet</td>\n",
       "      <td>100</td>\n",
       "    </tr>\n",
       "    <tr>\n",
       "      <th>1</th>\n",
       "      <td>Yazılım</td>\n",
       "      <td>Mehmet</td>\n",
       "      <td>150</td>\n",
       "    </tr>\n",
       "    <tr>\n",
       "      <th>2</th>\n",
       "      <td>Pazarlama</td>\n",
       "      <td>Burak</td>\n",
       "      <td>200</td>\n",
       "    </tr>\n",
       "    <tr>\n",
       "      <th>3</th>\n",
       "      <td>Pazarlama</td>\n",
       "      <td>Cengiz</td>\n",
       "      <td>300</td>\n",
       "    </tr>\n",
       "    <tr>\n",
       "      <th>4</th>\n",
       "      <td>Hukuk</td>\n",
       "      <td>Zeynep</td>\n",
       "      <td>400</td>\n",
       "    </tr>\n",
       "    <tr>\n",
       "      <th>5</th>\n",
       "      <td>Hukuk</td>\n",
       "      <td>Fatma</td>\n",
       "      <td>500</td>\n",
       "    </tr>\n",
       "  </tbody>\n",
       "</table>\n",
       "</div>"
      ],
      "text/plain": [
       "   Departman Calısan Ismi  Maas\n",
       "0    Yazılım        Ahmet   100\n",
       "1    Yazılım       Mehmet   150\n",
       "2  Pazarlama        Burak   200\n",
       "3  Pazarlama       Cengiz   300\n",
       "4      Hukuk       Zeynep   400\n",
       "5      Hukuk        Fatma   500"
      ]
     },
     "execution_count": 25,
     "metadata": {},
     "output_type": "execute_result"
    }
   ],
   "source": [
    "salaryDF = pd.DataFrame(salaryDict)\n",
    "salaryDF"
   ]
  },
  {
   "cell_type": "code",
   "execution_count": 27,
   "id": "3125e92f-b443-4e36-8df0-efb09f1ac37e",
   "metadata": {},
   "outputs": [],
   "source": [
    "groupObj = salaryDF.groupby(\"Departman\")"
   ]
  },
  {
   "cell_type": "code",
   "execution_count": 28,
   "id": "aa1e1ab5-59cb-491b-bf96-707c2ebc2b0b",
   "metadata": {},
   "outputs": [
    {
     "data": {
      "text/html": [
       "<div>\n",
       "<style scoped>\n",
       "    .dataframe tbody tr th:only-of-type {\n",
       "        vertical-align: middle;\n",
       "    }\n",
       "\n",
       "    .dataframe tbody tr th {\n",
       "        vertical-align: top;\n",
       "    }\n",
       "\n",
       "    .dataframe thead th {\n",
       "        text-align: right;\n",
       "    }\n",
       "</style>\n",
       "<table border=\"1\" class=\"dataframe\">\n",
       "  <thead>\n",
       "    <tr style=\"text-align: right;\">\n",
       "      <th></th>\n",
       "      <th>Calısan Ismi</th>\n",
       "      <th>Maas</th>\n",
       "    </tr>\n",
       "    <tr>\n",
       "      <th>Departman</th>\n",
       "      <th></th>\n",
       "      <th></th>\n",
       "    </tr>\n",
       "  </thead>\n",
       "  <tbody>\n",
       "    <tr>\n",
       "      <th>Hukuk</th>\n",
       "      <td>2</td>\n",
       "      <td>2</td>\n",
       "    </tr>\n",
       "    <tr>\n",
       "      <th>Pazarlama</th>\n",
       "      <td>2</td>\n",
       "      <td>2</td>\n",
       "    </tr>\n",
       "    <tr>\n",
       "      <th>Yazılım</th>\n",
       "      <td>2</td>\n",
       "      <td>2</td>\n",
       "    </tr>\n",
       "  </tbody>\n",
       "</table>\n",
       "</div>"
      ],
      "text/plain": [
       "           Calısan Ismi  Maas\n",
       "Departman                    \n",
       "Hukuk                 2     2\n",
       "Pazarlama             2     2\n",
       "Yazılım               2     2"
      ]
     },
     "execution_count": 28,
     "metadata": {},
     "output_type": "execute_result"
    }
   ],
   "source": [
    "groupObj.count()"
   ]
  },
  {
   "cell_type": "code",
   "execution_count": 29,
   "id": "637f0c8c-2e3e-4305-97b6-5e3fa184094e",
   "metadata": {},
   "outputs": [
    {
     "data": {
      "text/html": [
       "<div>\n",
       "<style scoped>\n",
       "    .dataframe tbody tr th:only-of-type {\n",
       "        vertical-align: middle;\n",
       "    }\n",
       "\n",
       "    .dataframe tbody tr th {\n",
       "        vertical-align: top;\n",
       "    }\n",
       "\n",
       "    .dataframe thead th {\n",
       "        text-align: right;\n",
       "    }\n",
       "</style>\n",
       "<table border=\"1\" class=\"dataframe\">\n",
       "  <thead>\n",
       "    <tr style=\"text-align: right;\">\n",
       "      <th></th>\n",
       "      <th>Maas</th>\n",
       "    </tr>\n",
       "    <tr>\n",
       "      <th>Departman</th>\n",
       "      <th></th>\n",
       "    </tr>\n",
       "  </thead>\n",
       "  <tbody>\n",
       "    <tr>\n",
       "      <th>Hukuk</th>\n",
       "      <td>450</td>\n",
       "    </tr>\n",
       "    <tr>\n",
       "      <th>Pazarlama</th>\n",
       "      <td>250</td>\n",
       "    </tr>\n",
       "    <tr>\n",
       "      <th>Yazılım</th>\n",
       "      <td>125</td>\n",
       "    </tr>\n",
       "  </tbody>\n",
       "</table>\n",
       "</div>"
      ],
      "text/plain": [
       "           Maas\n",
       "Departman      \n",
       "Hukuk       450\n",
       "Pazarlama   250\n",
       "Yazılım     125"
      ]
     },
     "execution_count": 29,
     "metadata": {},
     "output_type": "execute_result"
    }
   ],
   "source": [
    "groupObj.mean()"
   ]
  },
  {
   "cell_type": "code",
   "execution_count": 30,
   "id": "610d7f17-2b23-4f76-bc40-03bb3ddf679d",
   "metadata": {},
   "outputs": [
    {
     "data": {
      "text/html": [
       "<div>\n",
       "<style scoped>\n",
       "    .dataframe tbody tr th:only-of-type {\n",
       "        vertical-align: middle;\n",
       "    }\n",
       "\n",
       "    .dataframe tbody tr th {\n",
       "        vertical-align: top;\n",
       "    }\n",
       "\n",
       "    .dataframe thead tr th {\n",
       "        text-align: left;\n",
       "    }\n",
       "\n",
       "    .dataframe thead tr:last-of-type th {\n",
       "        text-align: right;\n",
       "    }\n",
       "</style>\n",
       "<table border=\"1\" class=\"dataframe\">\n",
       "  <thead>\n",
       "    <tr>\n",
       "      <th></th>\n",
       "      <th colspan=\"8\" halign=\"left\">Maas</th>\n",
       "    </tr>\n",
       "    <tr>\n",
       "      <th></th>\n",
       "      <th>count</th>\n",
       "      <th>mean</th>\n",
       "      <th>std</th>\n",
       "      <th>min</th>\n",
       "      <th>25%</th>\n",
       "      <th>50%</th>\n",
       "      <th>75%</th>\n",
       "      <th>max</th>\n",
       "    </tr>\n",
       "    <tr>\n",
       "      <th>Departman</th>\n",
       "      <th></th>\n",
       "      <th></th>\n",
       "      <th></th>\n",
       "      <th></th>\n",
       "      <th></th>\n",
       "      <th></th>\n",
       "      <th></th>\n",
       "      <th></th>\n",
       "    </tr>\n",
       "  </thead>\n",
       "  <tbody>\n",
       "    <tr>\n",
       "      <th>Hukuk</th>\n",
       "      <td>2.0</td>\n",
       "      <td>450.0</td>\n",
       "      <td>70.710678</td>\n",
       "      <td>400.0</td>\n",
       "      <td>425.0</td>\n",
       "      <td>450.0</td>\n",
       "      <td>475.0</td>\n",
       "      <td>500.0</td>\n",
       "    </tr>\n",
       "    <tr>\n",
       "      <th>Pazarlama</th>\n",
       "      <td>2.0</td>\n",
       "      <td>250.0</td>\n",
       "      <td>70.710678</td>\n",
       "      <td>200.0</td>\n",
       "      <td>225.0</td>\n",
       "      <td>250.0</td>\n",
       "      <td>275.0</td>\n",
       "      <td>300.0</td>\n",
       "    </tr>\n",
       "    <tr>\n",
       "      <th>Yazılım</th>\n",
       "      <td>2.0</td>\n",
       "      <td>125.0</td>\n",
       "      <td>35.355339</td>\n",
       "      <td>100.0</td>\n",
       "      <td>112.5</td>\n",
       "      <td>125.0</td>\n",
       "      <td>137.5</td>\n",
       "      <td>150.0</td>\n",
       "    </tr>\n",
       "  </tbody>\n",
       "</table>\n",
       "</div>"
      ],
      "text/plain": [
       "           Maas                                                     \n",
       "          count   mean        std    min    25%    50%    75%    max\n",
       "Departman                                                           \n",
       "Hukuk       2.0  450.0  70.710678  400.0  425.0  450.0  475.0  500.0\n",
       "Pazarlama   2.0  250.0  70.710678  200.0  225.0  250.0  275.0  300.0\n",
       "Yazılım     2.0  125.0  35.355339  100.0  112.5  125.0  137.5  150.0"
      ]
     },
     "execution_count": 30,
     "metadata": {},
     "output_type": "execute_result"
    }
   ],
   "source": [
    "groupObj.describe()"
   ]
  },
  {
   "cell_type": "code",
   "execution_count": 37,
   "id": "5f74a8a2-94e1-4387-abc0-ec072c532f9e",
   "metadata": {},
   "outputs": [],
   "source": [
    "dict1 = {\"Isim\": [\"Ahmet\",\"Mehmet\",\"Zeynep\",\"Burak\"],\n",
    "        \"Spor\": [\"Kosu\",\"Yuzme\",\"Kosu\",\"Basketbol\"],\n",
    "        \"Kalori\": [100,200,300,400]\n",
    "        }"
   ]
  },
  {
   "cell_type": "code",
   "execution_count": 38,
   "id": "464bee85-8bf1-49e1-bbe0-f3951ab3d51f",
   "metadata": {},
   "outputs": [],
   "source": [
    "dataFrame1 = pd.DataFrame(dict1, index = [0,1,2,3])"
   ]
  },
  {
   "cell_type": "code",
   "execution_count": 33,
   "id": "198ce2b3-397e-4b81-aee7-92f0998e5db2",
   "metadata": {},
   "outputs": [
    {
     "data": {
      "text/html": [
       "<div>\n",
       "<style scoped>\n",
       "    .dataframe tbody tr th:only-of-type {\n",
       "        vertical-align: middle;\n",
       "    }\n",
       "\n",
       "    .dataframe tbody tr th {\n",
       "        vertical-align: top;\n",
       "    }\n",
       "\n",
       "    .dataframe thead th {\n",
       "        text-align: right;\n",
       "    }\n",
       "</style>\n",
       "<table border=\"1\" class=\"dataframe\">\n",
       "  <thead>\n",
       "    <tr style=\"text-align: right;\">\n",
       "      <th></th>\n",
       "      <th>Isim</th>\n",
       "      <th>Spor</th>\n",
       "      <th>Kalori</th>\n",
       "    </tr>\n",
       "  </thead>\n",
       "  <tbody>\n",
       "    <tr>\n",
       "      <th>0</th>\n",
       "      <td>Ahmet</td>\n",
       "      <td>Kosu</td>\n",
       "      <td>100</td>\n",
       "    </tr>\n",
       "    <tr>\n",
       "      <th>1</th>\n",
       "      <td>Mehmet</td>\n",
       "      <td>Yuzme</td>\n",
       "      <td>200</td>\n",
       "    </tr>\n",
       "    <tr>\n",
       "      <th>2</th>\n",
       "      <td>Zeynep</td>\n",
       "      <td>Kosu</td>\n",
       "      <td>300</td>\n",
       "    </tr>\n",
       "    <tr>\n",
       "      <th>3</th>\n",
       "      <td>Burak</td>\n",
       "      <td>Basketbol</td>\n",
       "      <td>400</td>\n",
       "    </tr>\n",
       "  </tbody>\n",
       "</table>\n",
       "</div>"
      ],
      "text/plain": [
       "     Isim       Spor  Kalori\n",
       "0   Ahmet       Kosu     100\n",
       "1  Mehmet      Yuzme     200\n",
       "2  Zeynep       Kosu     300\n",
       "3   Burak  Basketbol     400"
      ]
     },
     "execution_count": 33,
     "metadata": {},
     "output_type": "execute_result"
    }
   ],
   "source": [
    "dataFrame1"
   ]
  },
  {
   "cell_type": "code",
   "execution_count": 39,
   "id": "370775a0-743f-4640-acab-33c05f46efab",
   "metadata": {},
   "outputs": [],
   "source": [
    "dict2 = {\"Isim\": [\"Osman\",\"Levent\",\"Atlas\",\"Fatma\"],\n",
    "        \"Spor\": [\"Kosu\",\"Yuzme\",\"Kosu\",\"Basketbol\"],\n",
    "        \"Kalori\": [140,600,400,350]\n",
    "        }"
   ]
  },
  {
   "cell_type": "code",
   "execution_count": 40,
   "id": "91741b28-9621-4622-9514-55753d8a8856",
   "metadata": {},
   "outputs": [],
   "source": [
    "dataFrame2 = pd.DataFrame(dict2, index = [4,5,6,7])"
   ]
  },
  {
   "cell_type": "code",
   "execution_count": 41,
   "id": "ec1b624a-83dc-4436-91e6-114ecb0c3638",
   "metadata": {},
   "outputs": [],
   "source": [
    "dict3 = {\"Isim\": [\"Ayse\",\"Mahmut\",\"Duygu\",\"Nur\"],\n",
    "        \"Spor\": [\"Kosu\",\"Yuzme\",\"Badminton\",\"Tenis\"],\n",
    "        \"Kalori\": [250,670,460,340]\n",
    "        }"
   ]
  },
  {
   "cell_type": "code",
   "execution_count": 42,
   "id": "f0991601-47be-44e6-aa47-8bf18afc6daf",
   "metadata": {},
   "outputs": [],
   "source": [
    "dataFrame3 = pd.DataFrame(dict2, index = [4,5,6,7])"
   ]
  },
  {
   "cell_type": "markdown",
   "id": "0b081fd4-c197-463a-8ac5-4ca18e74aec8",
   "metadata": {},
   "source": [
    "## concatenation"
   ]
  },
  {
   "cell_type": "code",
   "execution_count": 43,
   "id": "89c75296-a916-4fc6-be66-f67252096571",
   "metadata": {},
   "outputs": [
    {
     "data": {
      "text/html": [
       "<div>\n",
       "<style scoped>\n",
       "    .dataframe tbody tr th:only-of-type {\n",
       "        vertical-align: middle;\n",
       "    }\n",
       "\n",
       "    .dataframe tbody tr th {\n",
       "        vertical-align: top;\n",
       "    }\n",
       "\n",
       "    .dataframe thead th {\n",
       "        text-align: right;\n",
       "    }\n",
       "</style>\n",
       "<table border=\"1\" class=\"dataframe\">\n",
       "  <thead>\n",
       "    <tr style=\"text-align: right;\">\n",
       "      <th></th>\n",
       "      <th>Isim</th>\n",
       "      <th>Spor</th>\n",
       "      <th>Kalori</th>\n",
       "    </tr>\n",
       "  </thead>\n",
       "  <tbody>\n",
       "    <tr>\n",
       "      <th>0</th>\n",
       "      <td>Ahmet</td>\n",
       "      <td>Kosu</td>\n",
       "      <td>100</td>\n",
       "    </tr>\n",
       "    <tr>\n",
       "      <th>1</th>\n",
       "      <td>Mehmet</td>\n",
       "      <td>Yuzme</td>\n",
       "      <td>200</td>\n",
       "    </tr>\n",
       "    <tr>\n",
       "      <th>2</th>\n",
       "      <td>Zeynep</td>\n",
       "      <td>Kosu</td>\n",
       "      <td>300</td>\n",
       "    </tr>\n",
       "    <tr>\n",
       "      <th>3</th>\n",
       "      <td>Burak</td>\n",
       "      <td>Basketbol</td>\n",
       "      <td>400</td>\n",
       "    </tr>\n",
       "    <tr>\n",
       "      <th>4</th>\n",
       "      <td>Osman</td>\n",
       "      <td>Kosu</td>\n",
       "      <td>140</td>\n",
       "    </tr>\n",
       "    <tr>\n",
       "      <th>5</th>\n",
       "      <td>Levent</td>\n",
       "      <td>Yuzme</td>\n",
       "      <td>600</td>\n",
       "    </tr>\n",
       "    <tr>\n",
       "      <th>6</th>\n",
       "      <td>Atlas</td>\n",
       "      <td>Kosu</td>\n",
       "      <td>400</td>\n",
       "    </tr>\n",
       "    <tr>\n",
       "      <th>7</th>\n",
       "      <td>Fatma</td>\n",
       "      <td>Basketbol</td>\n",
       "      <td>350</td>\n",
       "    </tr>\n",
       "    <tr>\n",
       "      <th>4</th>\n",
       "      <td>Osman</td>\n",
       "      <td>Kosu</td>\n",
       "      <td>140</td>\n",
       "    </tr>\n",
       "    <tr>\n",
       "      <th>5</th>\n",
       "      <td>Levent</td>\n",
       "      <td>Yuzme</td>\n",
       "      <td>600</td>\n",
       "    </tr>\n",
       "    <tr>\n",
       "      <th>6</th>\n",
       "      <td>Atlas</td>\n",
       "      <td>Kosu</td>\n",
       "      <td>400</td>\n",
       "    </tr>\n",
       "    <tr>\n",
       "      <th>7</th>\n",
       "      <td>Fatma</td>\n",
       "      <td>Basketbol</td>\n",
       "      <td>350</td>\n",
       "    </tr>\n",
       "  </tbody>\n",
       "</table>\n",
       "</div>"
      ],
      "text/plain": [
       "     Isim       Spor  Kalori\n",
       "0   Ahmet       Kosu     100\n",
       "1  Mehmet      Yuzme     200\n",
       "2  Zeynep       Kosu     300\n",
       "3   Burak  Basketbol     400\n",
       "4   Osman       Kosu     140\n",
       "5  Levent      Yuzme     600\n",
       "6   Atlas       Kosu     400\n",
       "7   Fatma  Basketbol     350\n",
       "4   Osman       Kosu     140\n",
       "5  Levent      Yuzme     600\n",
       "6   Atlas       Kosu     400\n",
       "7   Fatma  Basketbol     350"
      ]
     },
     "execution_count": 43,
     "metadata": {},
     "output_type": "execute_result"
    }
   ],
   "source": [
    "pd.concat([dataFrame1,dataFrame2,dataFrame3])"
   ]
  },
  {
   "cell_type": "markdown",
   "id": "f18056d4-c4ed-442b-a19c-346ab871a5df",
   "metadata": {},
   "source": [
    "## Merge"
   ]
  },
  {
   "cell_type": "code",
   "execution_count": 47,
   "id": "a0d68df2-da17-4ab7-87b4-2e0584f953d0",
   "metadata": {},
   "outputs": [],
   "source": [
    "mergeDict1 = {\"Isim\": [\"Ahmet\",\"Mehmet\",\"Zeynep\",\"Burak\"],\n",
    "             \"Spor\": [\"Kosu\",\"Yuzme\",\"Kosu\",\"Basketbol\"]}"
   ]
  },
  {
   "cell_type": "code",
   "execution_count": 48,
   "id": "7000cdfb-daf4-44d4-8804-569046b19855",
   "metadata": {},
   "outputs": [],
   "source": [
    "mergeDF1 = pd.DataFrame(mergeDict1)"
   ]
  },
  {
   "cell_type": "code",
   "execution_count": 49,
   "id": "fbdf0ad8-fde3-410d-844d-9c7e7f9c2b47",
   "metadata": {},
   "outputs": [],
   "source": [
    "mergeDict2 = {\"Isim\": [\"Ahmet\",\"Mehmet\",\"Zeynep\",\"Burak\"],\n",
    "             \"Kalori\": [100,200,150,250]}"
   ]
  },
  {
   "cell_type": "code",
   "execution_count": 50,
   "id": "1cedbe7b-0e16-474a-aa6c-01732bc6a517",
   "metadata": {},
   "outputs": [],
   "source": [
    "mergeDF2 = pd.DataFrame(mergeDict2)"
   ]
  },
  {
   "cell_type": "code",
   "execution_count": 51,
   "id": "6a88956e-399c-46f4-a689-67dec7f2842e",
   "metadata": {},
   "outputs": [
    {
     "data": {
      "text/html": [
       "<div>\n",
       "<style scoped>\n",
       "    .dataframe tbody tr th:only-of-type {\n",
       "        vertical-align: middle;\n",
       "    }\n",
       "\n",
       "    .dataframe tbody tr th {\n",
       "        vertical-align: top;\n",
       "    }\n",
       "\n",
       "    .dataframe thead th {\n",
       "        text-align: right;\n",
       "    }\n",
       "</style>\n",
       "<table border=\"1\" class=\"dataframe\">\n",
       "  <thead>\n",
       "    <tr style=\"text-align: right;\">\n",
       "      <th></th>\n",
       "      <th>Isim</th>\n",
       "      <th>Spor</th>\n",
       "      <th>Kalori</th>\n",
       "    </tr>\n",
       "  </thead>\n",
       "  <tbody>\n",
       "    <tr>\n",
       "      <th>0</th>\n",
       "      <td>Ahmet</td>\n",
       "      <td>Kosu</td>\n",
       "      <td>100</td>\n",
       "    </tr>\n",
       "    <tr>\n",
       "      <th>1</th>\n",
       "      <td>Mehmet</td>\n",
       "      <td>Yuzme</td>\n",
       "      <td>200</td>\n",
       "    </tr>\n",
       "    <tr>\n",
       "      <th>2</th>\n",
       "      <td>Zeynep</td>\n",
       "      <td>Kosu</td>\n",
       "      <td>150</td>\n",
       "    </tr>\n",
       "    <tr>\n",
       "      <th>3</th>\n",
       "      <td>Burak</td>\n",
       "      <td>Basketbol</td>\n",
       "      <td>250</td>\n",
       "    </tr>\n",
       "  </tbody>\n",
       "</table>\n",
       "</div>"
      ],
      "text/plain": [
       "     Isim       Spor  Kalori\n",
       "0   Ahmet       Kosu     100\n",
       "1  Mehmet      Yuzme     200\n",
       "2  Zeynep       Kosu     150\n",
       "3   Burak  Basketbol     250"
      ]
     },
     "execution_count": 51,
     "metadata": {},
     "output_type": "execute_result"
    }
   ],
   "source": [
    "pd.merge(mergeDF1,mergeDF2, on=\"Isim\") #isimle eslesmis sekilde birlestirme yaptik."
   ]
  },
  {
   "cell_type": "code",
   "execution_count": 52,
   "id": "a3bc156e-7744-437b-9a93-6ecb7aee69f5",
   "metadata": {},
   "outputs": [],
   "source": [
    "salaryDict = {\"Isim\": [\"Burak\",\"Zeynep\",\"Mehmet\",\"Ahmet\"],\n",
    "             \"Departman\": [\"Yazilim\", \"Satis\", \"Pazarlama\", \"Yazilim\"],\n",
    "              \"Maas\": [100,200,300,400]\n",
    "             }"
   ]
  },
  {
   "cell_type": "code",
   "execution_count": 53,
   "id": "1bfbeb88-d468-4eaa-9465-f9182e8d6c4f",
   "metadata": {},
   "outputs": [],
   "source": [
    "salaryDF = pd.DataFrame(salaryDict)"
   ]
  },
  {
   "cell_type": "code",
   "execution_count": 54,
   "id": "6a620d6f-497b-47c1-8ec7-0d31ba8885c1",
   "metadata": {},
   "outputs": [
    {
     "data": {
      "text/html": [
       "<div>\n",
       "<style scoped>\n",
       "    .dataframe tbody tr th:only-of-type {\n",
       "        vertical-align: middle;\n",
       "    }\n",
       "\n",
       "    .dataframe tbody tr th {\n",
       "        vertical-align: top;\n",
       "    }\n",
       "\n",
       "    .dataframe thead th {\n",
       "        text-align: right;\n",
       "    }\n",
       "</style>\n",
       "<table border=\"1\" class=\"dataframe\">\n",
       "  <thead>\n",
       "    <tr style=\"text-align: right;\">\n",
       "      <th></th>\n",
       "      <th>Isim</th>\n",
       "      <th>Departman</th>\n",
       "      <th>Maas</th>\n",
       "    </tr>\n",
       "  </thead>\n",
       "  <tbody>\n",
       "    <tr>\n",
       "      <th>0</th>\n",
       "      <td>Burak</td>\n",
       "      <td>Yazilim</td>\n",
       "      <td>100</td>\n",
       "    </tr>\n",
       "    <tr>\n",
       "      <th>1</th>\n",
       "      <td>Zeynep</td>\n",
       "      <td>Satis</td>\n",
       "      <td>200</td>\n",
       "    </tr>\n",
       "    <tr>\n",
       "      <th>2</th>\n",
       "      <td>Mehmet</td>\n",
       "      <td>Pazarlama</td>\n",
       "      <td>300</td>\n",
       "    </tr>\n",
       "    <tr>\n",
       "      <th>3</th>\n",
       "      <td>Ahmet</td>\n",
       "      <td>Yazilim</td>\n",
       "      <td>400</td>\n",
       "    </tr>\n",
       "  </tbody>\n",
       "</table>\n",
       "</div>"
      ],
      "text/plain": [
       "     Isim  Departman  Maas\n",
       "0   Burak    Yazilim   100\n",
       "1  Zeynep      Satis   200\n",
       "2  Mehmet  Pazarlama   300\n",
       "3   Ahmet    Yazilim   400"
      ]
     },
     "execution_count": 54,
     "metadata": {},
     "output_type": "execute_result"
    }
   ],
   "source": [
    "salaryDF"
   ]
  },
  {
   "cell_type": "code",
   "execution_count": 55,
   "id": "38e30acb-3bda-4ea1-b5be-652cc1cfe060",
   "metadata": {},
   "outputs": [
    {
     "data": {
      "text/plain": [
       "array(['Yazilim', 'Satis', 'Pazarlama'], dtype=object)"
      ]
     },
     "execution_count": 55,
     "metadata": {},
     "output_type": "execute_result"
    }
   ],
   "source": [
    "salaryDF[\"Departman\"].unique()"
   ]
  },
  {
   "cell_type": "code",
   "execution_count": 57,
   "id": "e9457ad6-c769-411c-a97b-230db772b7dc",
   "metadata": {},
   "outputs": [
    {
     "data": {
      "text/plain": [
       "3"
      ]
     },
     "execution_count": 57,
     "metadata": {},
     "output_type": "execute_result"
    }
   ],
   "source": [
    "salaryDF[\"Departman\"].nunique()"
   ]
  },
  {
   "cell_type": "code",
   "execution_count": 58,
   "id": "c8a087c5-8dd2-4270-a730-ac5b783a9442",
   "metadata": {},
   "outputs": [
    {
     "data": {
      "text/plain": [
       "Yazilim      2\n",
       "Satis        1\n",
       "Pazarlama    1\n",
       "Name: Departman, dtype: int64"
      ]
     },
     "execution_count": 58,
     "metadata": {},
     "output_type": "execute_result"
    }
   ],
   "source": [
    "salaryDF[\"Departman\"].value_counts()"
   ]
  },
  {
   "cell_type": "code",
   "execution_count": 61,
   "id": "cce0c0d9-79ca-48bb-8ede-5572393cac26",
   "metadata": {},
   "outputs": [],
   "source": [
    "def bruttenNet(maas):\n",
    "    return maas*0.66"
   ]
  },
  {
   "cell_type": "code",
   "execution_count": 63,
   "id": "af9c69e9-107e-4f18-af31-06c944e7f80b",
   "metadata": {},
   "outputs": [
    {
     "data": {
      "text/plain": [
       "0     66.0\n",
       "1    132.0\n",
       "2    198.0\n",
       "3    264.0\n",
       "Name: Maas, dtype: float64"
      ]
     },
     "execution_count": 63,
     "metadata": {},
     "output_type": "execute_result"
    }
   ],
   "source": [
    "salaryDF[\"Maas\"].apply(bruttenNet)"
   ]
  },
  {
   "cell_type": "code",
   "execution_count": 65,
   "id": "a8c4f059-8289-48c7-86e0-e1ce6603a32e",
   "metadata": {},
   "outputs": [
    {
     "data": {
      "text/html": [
       "<div>\n",
       "<style scoped>\n",
       "    .dataframe tbody tr th:only-of-type {\n",
       "        vertical-align: middle;\n",
       "    }\n",
       "\n",
       "    .dataframe tbody tr th {\n",
       "        vertical-align: top;\n",
       "    }\n",
       "\n",
       "    .dataframe thead th {\n",
       "        text-align: right;\n",
       "    }\n",
       "</style>\n",
       "<table border=\"1\" class=\"dataframe\">\n",
       "  <thead>\n",
       "    <tr style=\"text-align: right;\">\n",
       "      <th></th>\n",
       "      <th>Isim</th>\n",
       "      <th>Departman</th>\n",
       "      <th>Maas</th>\n",
       "    </tr>\n",
       "  </thead>\n",
       "  <tbody>\n",
       "    <tr>\n",
       "      <th>0</th>\n",
       "      <td>False</td>\n",
       "      <td>False</td>\n",
       "      <td>False</td>\n",
       "    </tr>\n",
       "    <tr>\n",
       "      <th>1</th>\n",
       "      <td>False</td>\n",
       "      <td>False</td>\n",
       "      <td>False</td>\n",
       "    </tr>\n",
       "    <tr>\n",
       "      <th>2</th>\n",
       "      <td>False</td>\n",
       "      <td>False</td>\n",
       "      <td>False</td>\n",
       "    </tr>\n",
       "    <tr>\n",
       "      <th>3</th>\n",
       "      <td>False</td>\n",
       "      <td>False</td>\n",
       "      <td>False</td>\n",
       "    </tr>\n",
       "  </tbody>\n",
       "</table>\n",
       "</div>"
      ],
      "text/plain": [
       "    Isim  Departman   Maas\n",
       "0  False      False  False\n",
       "1  False      False  False\n",
       "2  False      False  False\n",
       "3  False      False  False"
      ]
     },
     "execution_count": 65,
     "metadata": {},
     "output_type": "execute_result"
    }
   ],
   "source": [
    "salaryDF.isnull()"
   ]
  },
  {
   "cell_type": "code",
   "execution_count": 78,
   "id": "a8571385-9173-4561-a2e3-f37261e93fb1",
   "metadata": {},
   "outputs": [],
   "source": [
    "newData = {\"Karakter\": [\"South Park\", \"South Park\", \"Simpson\", \"Simpson\",\"Simpson\"],\n",
    "          \"Karakter Ismi:\" : [\"Cartman\", \"Kenny\",\"Homer\",\"Bart\",\"Bart\"],\n",
    "          \"Karakter Yas\" : [9,10,50,20, 10]}"
   ]
  },
  {
   "cell_type": "code",
   "execution_count": 79,
   "id": "0b5d37ba-7263-4e72-83ea-c2694e660c84",
   "metadata": {},
   "outputs": [
    {
     "data": {
      "text/html": [
       "<div>\n",
       "<style scoped>\n",
       "    .dataframe tbody tr th:only-of-type {\n",
       "        vertical-align: middle;\n",
       "    }\n",
       "\n",
       "    .dataframe tbody tr th {\n",
       "        vertical-align: top;\n",
       "    }\n",
       "\n",
       "    .dataframe thead th {\n",
       "        text-align: right;\n",
       "    }\n",
       "</style>\n",
       "<table border=\"1\" class=\"dataframe\">\n",
       "  <thead>\n",
       "    <tr style=\"text-align: right;\">\n",
       "      <th></th>\n",
       "      <th>Karakter</th>\n",
       "      <th>Karakter Ismi:</th>\n",
       "      <th>Karakter Yas</th>\n",
       "    </tr>\n",
       "  </thead>\n",
       "  <tbody>\n",
       "    <tr>\n",
       "      <th>0</th>\n",
       "      <td>South Park</td>\n",
       "      <td>Cartman</td>\n",
       "      <td>9</td>\n",
       "    </tr>\n",
       "    <tr>\n",
       "      <th>1</th>\n",
       "      <td>South Park</td>\n",
       "      <td>Kenny</td>\n",
       "      <td>10</td>\n",
       "    </tr>\n",
       "    <tr>\n",
       "      <th>2</th>\n",
       "      <td>Simpson</td>\n",
       "      <td>Homer</td>\n",
       "      <td>50</td>\n",
       "    </tr>\n",
       "    <tr>\n",
       "      <th>3</th>\n",
       "      <td>Simpson</td>\n",
       "      <td>Bart</td>\n",
       "      <td>20</td>\n",
       "    </tr>\n",
       "    <tr>\n",
       "      <th>4</th>\n",
       "      <td>Simpson</td>\n",
       "      <td>Bart</td>\n",
       "      <td>10</td>\n",
       "    </tr>\n",
       "  </tbody>\n",
       "</table>\n",
       "</div>"
      ],
      "text/plain": [
       "     Karakter Karakter Ismi:  Karakter Yas\n",
       "0  South Park        Cartman             9\n",
       "1  South Park          Kenny            10\n",
       "2     Simpson          Homer            50\n",
       "3     Simpson           Bart            20\n",
       "4     Simpson           Bart            10"
      ]
     },
     "execution_count": 79,
     "metadata": {},
     "output_type": "execute_result"
    }
   ],
   "source": [
    "karakterDF = pd.DataFrame(newData)\n",
    "karakterDF"
   ]
  },
  {
   "cell_type": "code",
   "execution_count": 84,
   "id": "f7a24046-5a07-4f9c-9d0f-cebb6db45de8",
   "metadata": {},
   "outputs": [
    {
     "data": {
      "text/html": [
       "<div>\n",
       "<style scoped>\n",
       "    .dataframe tbody tr th:only-of-type {\n",
       "        vertical-align: middle;\n",
       "    }\n",
       "\n",
       "    .dataframe tbody tr th {\n",
       "        vertical-align: top;\n",
       "    }\n",
       "\n",
       "    .dataframe thead th {\n",
       "        text-align: right;\n",
       "    }\n",
       "</style>\n",
       "<table border=\"1\" class=\"dataframe\">\n",
       "  <thead>\n",
       "    <tr style=\"text-align: right;\">\n",
       "      <th></th>\n",
       "      <th></th>\n",
       "      <th>Karakter Yas</th>\n",
       "    </tr>\n",
       "    <tr>\n",
       "      <th>Karakter</th>\n",
       "      <th>Karakter Ismi:</th>\n",
       "      <th></th>\n",
       "    </tr>\n",
       "  </thead>\n",
       "  <tbody>\n",
       "    <tr>\n",
       "      <th rowspan=\"2\" valign=\"top\">Simpson</th>\n",
       "      <th>Bart</th>\n",
       "      <td>30</td>\n",
       "    </tr>\n",
       "    <tr>\n",
       "      <th>Homer</th>\n",
       "      <td>50</td>\n",
       "    </tr>\n",
       "    <tr>\n",
       "      <th rowspan=\"2\" valign=\"top\">South Park</th>\n",
       "      <th>Cartman</th>\n",
       "      <td>9</td>\n",
       "    </tr>\n",
       "    <tr>\n",
       "      <th>Kenny</th>\n",
       "      <td>10</td>\n",
       "    </tr>\n",
       "  </tbody>\n",
       "</table>\n",
       "</div>"
      ],
      "text/plain": [
       "                           Karakter Yas\n",
       "Karakter   Karakter Ismi:              \n",
       "Simpson    Bart                      30\n",
       "           Homer                     50\n",
       "South Park Cartman                    9\n",
       "           Kenny                     10"
      ]
     },
     "execution_count": 84,
     "metadata": {},
     "output_type": "execute_result"
    }
   ],
   "source": [
    "karakterDF.pivot_table(values = \"Karakter Yas\", index = [\"Karakter\", \"Karakter Ismi:\"],aggfunc=np.sum) #burada np sum olayi onceden Bart'i ortalama aldirirken simdi toplatmis olduk."
   ]
  },
  {
   "cell_type": "markdown",
   "id": "8b3cc492-030c-4c38-b1aa-ee031f36573e",
   "metadata": {},
   "source": [
    "# Pandas Excel"
   ]
  },
  {
   "cell_type": "code",
   "execution_count": 86,
   "id": "6347df55-5120-4d88-a417-680fb0629251",
   "metadata": {},
   "outputs": [],
   "source": [
    "dataFrame = pd.read_excel(\"maas.xlsx\") #excel dosyasinin ayni lokasyonda olmasi lazim, yoksa okuyamaz."
   ]
  },
  {
   "cell_type": "code",
   "execution_count": 87,
   "id": "9e05edba-d6c6-4ce6-8eb0-3a25cec92932",
   "metadata": {},
   "outputs": [
    {
     "data": {
      "text/html": [
       "<div>\n",
       "<style scoped>\n",
       "    .dataframe tbody tr th:only-of-type {\n",
       "        vertical-align: middle;\n",
       "    }\n",
       "\n",
       "    .dataframe tbody tr th {\n",
       "        vertical-align: top;\n",
       "    }\n",
       "\n",
       "    .dataframe thead th {\n",
       "        text-align: right;\n",
       "    }\n",
       "</style>\n",
       "<table border=\"1\" class=\"dataframe\">\n",
       "  <thead>\n",
       "    <tr style=\"text-align: right;\">\n",
       "      <th></th>\n",
       "      <th>Unnamed: 0</th>\n",
       "      <th>Maas</th>\n",
       "      <th>Yas</th>\n",
       "      <th>Departman</th>\n",
       "    </tr>\n",
       "  </thead>\n",
       "  <tbody>\n",
       "    <tr>\n",
       "      <th>0</th>\n",
       "      <td>Burak</td>\n",
       "      <td>100</td>\n",
       "      <td>40.0</td>\n",
       "      <td>Yazilim</td>\n",
       "    </tr>\n",
       "    <tr>\n",
       "      <th>1</th>\n",
       "      <td>Zeynep</td>\n",
       "      <td>150</td>\n",
       "      <td>50.0</td>\n",
       "      <td>satis</td>\n",
       "    </tr>\n",
       "    <tr>\n",
       "      <th>2</th>\n",
       "      <td>mehmet</td>\n",
       "      <td>200</td>\n",
       "      <td>30.0</td>\n",
       "      <td>NaN</td>\n",
       "    </tr>\n",
       "    <tr>\n",
       "      <th>3</th>\n",
       "      <td>ahmet</td>\n",
       "      <td>50</td>\n",
       "      <td>10.0</td>\n",
       "      <td>pazarlama</td>\n",
       "    </tr>\n",
       "    <tr>\n",
       "      <th>4</th>\n",
       "      <td>atlas</td>\n",
       "      <td>150</td>\n",
       "      <td>NaN</td>\n",
       "      <td>finans</td>\n",
       "    </tr>\n",
       "    <tr>\n",
       "      <th>5</th>\n",
       "      <td>fatma</td>\n",
       "      <td>200</td>\n",
       "      <td>25.0</td>\n",
       "      <td>hukuk</td>\n",
       "    </tr>\n",
       "  </tbody>\n",
       "</table>\n",
       "</div>"
      ],
      "text/plain": [
       "  Unnamed: 0  Maas   Yas  Departman\n",
       "0      Burak   100  40.0    Yazilim\n",
       "1     Zeynep   150  50.0      satis\n",
       "2     mehmet   200  30.0        NaN\n",
       "3      ahmet    50  10.0  pazarlama\n",
       "4      atlas   150   NaN     finans\n",
       "5      fatma   200  25.0      hukuk"
      ]
     },
     "execution_count": 87,
     "metadata": {},
     "output_type": "execute_result"
    }
   ],
   "source": [
    "dataFrame"
   ]
  },
  {
   "cell_type": "code",
   "execution_count": 89,
   "id": "dc42374e-c76f-4617-b67d-c6a542ca1a8b",
   "metadata": {},
   "outputs": [],
   "source": [
    "doludegerlerDF = dataFrame.dropna()"
   ]
  },
  {
   "cell_type": "code",
   "execution_count": 90,
   "id": "2f0ee8ad-1501-42bd-9982-e8019325f4e5",
   "metadata": {},
   "outputs": [
    {
     "data": {
      "text/html": [
       "<div>\n",
       "<style scoped>\n",
       "    .dataframe tbody tr th:only-of-type {\n",
       "        vertical-align: middle;\n",
       "    }\n",
       "\n",
       "    .dataframe tbody tr th {\n",
       "        vertical-align: top;\n",
       "    }\n",
       "\n",
       "    .dataframe thead th {\n",
       "        text-align: right;\n",
       "    }\n",
       "</style>\n",
       "<table border=\"1\" class=\"dataframe\">\n",
       "  <thead>\n",
       "    <tr style=\"text-align: right;\">\n",
       "      <th></th>\n",
       "      <th>Unnamed: 0</th>\n",
       "      <th>Maas</th>\n",
       "      <th>Yas</th>\n",
       "      <th>Departman</th>\n",
       "    </tr>\n",
       "  </thead>\n",
       "  <tbody>\n",
       "    <tr>\n",
       "      <th>0</th>\n",
       "      <td>Burak</td>\n",
       "      <td>100</td>\n",
       "      <td>40.0</td>\n",
       "      <td>Yazilim</td>\n",
       "    </tr>\n",
       "    <tr>\n",
       "      <th>1</th>\n",
       "      <td>Zeynep</td>\n",
       "      <td>150</td>\n",
       "      <td>50.0</td>\n",
       "      <td>satis</td>\n",
       "    </tr>\n",
       "    <tr>\n",
       "      <th>3</th>\n",
       "      <td>ahmet</td>\n",
       "      <td>50</td>\n",
       "      <td>10.0</td>\n",
       "      <td>pazarlama</td>\n",
       "    </tr>\n",
       "    <tr>\n",
       "      <th>5</th>\n",
       "      <td>fatma</td>\n",
       "      <td>200</td>\n",
       "      <td>25.0</td>\n",
       "      <td>hukuk</td>\n",
       "    </tr>\n",
       "  </tbody>\n",
       "</table>\n",
       "</div>"
      ],
      "text/plain": [
       "  Unnamed: 0  Maas   Yas  Departman\n",
       "0      Burak   100  40.0    Yazilim\n",
       "1     Zeynep   150  50.0      satis\n",
       "3      ahmet    50  10.0  pazarlama\n",
       "5      fatma   200  25.0      hukuk"
      ]
     },
     "execution_count": 90,
     "metadata": {},
     "output_type": "execute_result"
    }
   ],
   "source": [
    "doludegerlerDF"
   ]
  },
  {
   "cell_type": "code",
   "execution_count": 91,
   "id": "65a6f269-85c5-4265-9768-764b23e0ad30",
   "metadata": {},
   "outputs": [
    {
     "data": {
      "text/html": [
       "<div>\n",
       "<style scoped>\n",
       "    .dataframe tbody tr th:only-of-type {\n",
       "        vertical-align: middle;\n",
       "    }\n",
       "\n",
       "    .dataframe tbody tr th {\n",
       "        vertical-align: top;\n",
       "    }\n",
       "\n",
       "    .dataframe thead th {\n",
       "        text-align: right;\n",
       "    }\n",
       "</style>\n",
       "<table border=\"1\" class=\"dataframe\">\n",
       "  <thead>\n",
       "    <tr style=\"text-align: right;\">\n",
       "      <th></th>\n",
       "      <th>Unnamed: 0</th>\n",
       "      <th>Maas</th>\n",
       "      <th>Yas</th>\n",
       "      <th>Departman</th>\n",
       "    </tr>\n",
       "  </thead>\n",
       "  <tbody>\n",
       "    <tr>\n",
       "      <th>0</th>\n",
       "      <td>Burak</td>\n",
       "      <td>100</td>\n",
       "      <td>40.0</td>\n",
       "      <td>Yazilim</td>\n",
       "    </tr>\n",
       "    <tr>\n",
       "      <th>1</th>\n",
       "      <td>Zeynep</td>\n",
       "      <td>150</td>\n",
       "      <td>50.0</td>\n",
       "      <td>satis</td>\n",
       "    </tr>\n",
       "    <tr>\n",
       "      <th>2</th>\n",
       "      <td>mehmet</td>\n",
       "      <td>200</td>\n",
       "      <td>30.0</td>\n",
       "      <td>NaN</td>\n",
       "    </tr>\n",
       "    <tr>\n",
       "      <th>3</th>\n",
       "      <td>ahmet</td>\n",
       "      <td>50</td>\n",
       "      <td>10.0</td>\n",
       "      <td>pazarlama</td>\n",
       "    </tr>\n",
       "    <tr>\n",
       "      <th>4</th>\n",
       "      <td>atlas</td>\n",
       "      <td>150</td>\n",
       "      <td>NaN</td>\n",
       "      <td>finans</td>\n",
       "    </tr>\n",
       "    <tr>\n",
       "      <th>5</th>\n",
       "      <td>fatma</td>\n",
       "      <td>200</td>\n",
       "      <td>25.0</td>\n",
       "      <td>hukuk</td>\n",
       "    </tr>\n",
       "  </tbody>\n",
       "</table>\n",
       "</div>"
      ],
      "text/plain": [
       "  Unnamed: 0  Maas   Yas  Departman\n",
       "0      Burak   100  40.0    Yazilim\n",
       "1     Zeynep   150  50.0      satis\n",
       "2     mehmet   200  30.0        NaN\n",
       "3      ahmet    50  10.0  pazarlama\n",
       "4      atlas   150   NaN     finans\n",
       "5      fatma   200  25.0      hukuk"
      ]
     },
     "execution_count": 91,
     "metadata": {},
     "output_type": "execute_result"
    }
   ],
   "source": [
    "dataFrame"
   ]
  },
  {
   "cell_type": "code",
   "execution_count": 93,
   "id": "68f9b5cf-eceb-4030-a7d2-d2372f6e380e",
   "metadata": {},
   "outputs": [],
   "source": [
    "doludegerlerDF.to_excel(\"yeni_maas.xlsx\") #bu da olusturdugumuz yeni df'i yeni bir excel olarak kendi lokasyonuna kaydeder."
   ]
  },
  {
   "cell_type": "code",
   "execution_count": null,
   "id": "6eefbfff-796f-45bd-9684-c8e7a9499611",
   "metadata": {},
   "outputs": [],
   "source": [
    "#read_csv\n",
    "#to_csv"
   ]
  }
 ],
 "metadata": {
  "kernelspec": {
   "display_name": "Python 3",
   "language": "python",
   "name": "python3"
  },
  "language_info": {
   "codemirror_mode": {
    "name": "ipython",
    "version": 3
   },
   "file_extension": ".py",
   "mimetype": "text/x-python",
   "name": "python",
   "nbconvert_exporter": "python",
   "pygments_lexer": "ipython3",
   "version": "3.8.8"
  }
 },
 "nbformat": 4,
 "nbformat_minor": 5
}
