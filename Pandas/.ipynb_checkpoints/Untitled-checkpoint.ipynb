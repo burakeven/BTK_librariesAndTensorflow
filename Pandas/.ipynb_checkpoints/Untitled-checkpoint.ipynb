{
 "cells": [
  {
   "cell_type": "code",
   "execution_count": 2,
   "id": "18033e16-0551-430e-9ca6-f0bcd7eb53c8",
   "metadata": {},
   "outputs": [],
   "source": [
    "import numpy as np\n",
    "import pandas as pd"
   ]
  },
  {
   "cell_type": "markdown",
   "id": "d0024c3c-b85b-4257-9771-42bc48fdea3c",
   "metadata": {},
   "source": [
    "# series"
   ]
  },
  {
   "cell_type": "code",
   "execution_count": 3,
   "id": "07cdd113-66e0-459f-a4a4-3207dab73973",
   "metadata": {},
   "outputs": [],
   "source": [
    "myDict = {\"Burak\" : 50, \"zeynep\":40, \"mehmet\":30}\n"
   ]
  },
  {
   "cell_type": "code",
   "execution_count": 4,
   "id": "900e6329-834a-43fe-ba19-afebc4202b4b",
   "metadata": {},
   "outputs": [
    {
     "data": {
      "text/plain": [
       "Burak     50\n",
       "zeynep    40\n",
       "mehmet    30\n",
       "dtype: int64"
      ]
     },
     "execution_count": 4,
     "metadata": {},
     "output_type": "execute_result"
    }
   ],
   "source": [
    "pd.Series(myDict) #myDict'i bir seriye atadik."
   ]
  },
  {
   "cell_type": "code",
   "execution_count": 6,
   "id": "35c738be-1d40-4709-84cf-08849bdd5776",
   "metadata": {},
   "outputs": [],
   "source": [
    "myAge = [50,40,30]\n",
    "myNames = [\"Burak\", \"zeynep\", \"mehmet\"]"
   ]
  },
  {
   "cell_type": "code",
   "execution_count": 7,
   "id": "29fe0561-5eac-4d4a-9279-fa0a7ef2e5c8",
   "metadata": {},
   "outputs": [
    {
     "data": {
      "text/plain": [
       "0    50\n",
       "1    40\n",
       "2    30\n",
       "dtype: int64"
      ]
     },
     "execution_count": 7,
     "metadata": {},
     "output_type": "execute_result"
    }
   ],
   "source": [
    "pd.Series(myAge)"
   ]
  },
  {
   "cell_type": "code",
   "execution_count": 8,
   "id": "a6248c9c-f279-4fe7-bb4d-08f1dd879ae0",
   "metadata": {},
   "outputs": [
    {
     "data": {
      "text/plain": [
       "Burak     50\n",
       "zeynep    40\n",
       "mehmet    30\n",
       "dtype: int64"
      ]
     },
     "execution_count": 8,
     "metadata": {},
     "output_type": "execute_result"
    }
   ],
   "source": [
    "pd.Series(myAge, myNames)"
   ]
  },
  {
   "cell_type": "code",
   "execution_count": 9,
   "id": "f295fe68-febf-4323-853d-0c487414b3bc",
   "metadata": {},
   "outputs": [
    {
     "data": {
      "text/plain": [
       "Burak     50\n",
       "zeynep    40\n",
       "mehmet    30\n",
       "dtype: int64"
      ]
     },
     "execution_count": 9,
     "metadata": {},
     "output_type": "execute_result"
    }
   ],
   "source": [
    "pd.Series(data=myAge, index=myNames)"
   ]
  },
  {
   "cell_type": "code",
   "execution_count": 10,
   "id": "9328d942-df4e-476f-b62b-b55cb6181461",
   "metadata": {},
   "outputs": [
    {
     "data": {
      "text/plain": [
       "array([50, 40, 30])"
      ]
     },
     "execution_count": 10,
     "metadata": {},
     "output_type": "execute_result"
    }
   ],
   "source": [
    "numpyAr = np.array([50,40,30])\n",
    "numpyAr"
   ]
  },
  {
   "cell_type": "code",
   "execution_count": 11,
   "id": "f3e1c4ca-2287-40d2-8bd7-467b74505c21",
   "metadata": {},
   "outputs": [
    {
     "data": {
      "text/plain": [
       "0    50\n",
       "1    40\n",
       "2    30\n",
       "dtype: int32"
      ]
     },
     "execution_count": 11,
     "metadata": {},
     "output_type": "execute_result"
    }
   ],
   "source": [
    "pd.Series(numpyAr)"
   ]
  },
  {
   "cell_type": "code",
   "execution_count": 12,
   "id": "b0673765-4a8b-47fe-86e2-a35dce7dfdce",
   "metadata": {},
   "outputs": [
    {
     "data": {
      "text/plain": [
       "pandas.core.series.Series"
      ]
     },
     "execution_count": 12,
     "metadata": {},
     "output_type": "execute_result"
    }
   ],
   "source": [
    "type(pd.Series(numpyAr))"
   ]
  },
  {
   "cell_type": "code",
   "execution_count": 13,
   "id": "e6fb14b3-c009-4acc-8cd9-9a3911bb583f",
   "metadata": {},
   "outputs": [
    {
     "data": {
      "text/plain": [
       "Burak     50\n",
       "zeynep    40\n",
       "mehmet    30\n",
       "dtype: int32"
      ]
     },
     "execution_count": 13,
     "metadata": {},
     "output_type": "execute_result"
    }
   ],
   "source": [
    "pd.Series(numpyAr, myNames)"
   ]
  },
  {
   "cell_type": "code",
   "execution_count": 14,
   "id": "7fcfb996-1183-40bd-9456-74d812f88bf0",
   "metadata": {},
   "outputs": [
    {
     "data": {
      "text/plain": [
       "1     burak\n",
       "2    mehmet\n",
       "3     osman\n",
       "dtype: object"
      ]
     },
     "execution_count": 14,
     "metadata": {},
     "output_type": "execute_result"
    }
   ],
   "source": [
    "pd.Series([\"burak\",\"mehmet\",\"osman\"], [1,2,3])"
   ]
  },
  {
   "cell_type": "code",
   "execution_count": 15,
   "id": "f5767cdd-92bb-4cdc-b9c6-3bf601353347",
   "metadata": {},
   "outputs": [],
   "source": [
    "yarismasonuc1 = pd.Series([10,5,1], [\"burak\",\"mehmet\",\"osman\"])"
   ]
  },
  {
   "cell_type": "code",
   "execution_count": 16,
   "id": "11a00331-1a26-4d14-ae5f-d94bb62417ac",
   "metadata": {},
   "outputs": [
    {
     "data": {
      "text/plain": [
       "burak     10\n",
       "mehmet     5\n",
       "osman      1\n",
       "dtype: int64"
      ]
     },
     "execution_count": 16,
     "metadata": {},
     "output_type": "execute_result"
    }
   ],
   "source": [
    "yarismasonuc1"
   ]
  },
  {
   "cell_type": "code",
   "execution_count": 17,
   "id": "353a55cb-8b2f-4657-acfb-935879e4680e",
   "metadata": {},
   "outputs": [],
   "source": [
    "yarismasonuc2 = pd.Series([20,10,8],[\"burak\",\"mehmet\",\"osman\"])"
   ]
  },
  {
   "cell_type": "code",
   "execution_count": 18,
   "id": "bd7ae986-46cc-4f72-922c-2a0323f6ee07",
   "metadata": {},
   "outputs": [
    {
     "data": {
      "text/plain": [
       "burak     20\n",
       "mehmet    10\n",
       "osman      8\n",
       "dtype: int64"
      ]
     },
     "execution_count": 18,
     "metadata": {},
     "output_type": "execute_result"
    }
   ],
   "source": [
    "yarismasonuc2"
   ]
  },
  {
   "cell_type": "code",
   "execution_count": 19,
   "id": "6e8dc4c5-d0f8-41cd-9b53-a48609aa08aa",
   "metadata": {},
   "outputs": [
    {
     "data": {
      "text/plain": [
       "10"
      ]
     },
     "execution_count": 19,
     "metadata": {},
     "output_type": "execute_result"
    }
   ],
   "source": [
    "yarismasonuc2[\"mehmet\"]"
   ]
  },
  {
   "cell_type": "code",
   "execution_count": 20,
   "id": "aae42af5-d089-47cf-9a46-f425b79691be",
   "metadata": {},
   "outputs": [],
   "source": [
    "sonSonuc = yarismasonuc1 + yarismasonuc2"
   ]
  },
  {
   "cell_type": "code",
   "execution_count": 21,
   "id": "eae8fda8-ca01-4548-a791-45a0a5ef0cb5",
   "metadata": {},
   "outputs": [
    {
     "data": {
      "text/plain": [
       "burak     30\n",
       "mehmet    15\n",
       "osman      9\n",
       "dtype: int64"
      ]
     },
     "execution_count": 21,
     "metadata": {},
     "output_type": "execute_result"
    }
   ],
   "source": [
    "sonSonuc"
   ]
  },
  {
   "cell_type": "code",
   "execution_count": 22,
   "id": "425ebddf-7687-49ad-b580-05eafbeb9bbb",
   "metadata": {},
   "outputs": [],
   "source": [
    "farkliSeri = pd.Series([20,30,40,50],[\"a\",\"b\",\"c\",\"d\"])"
   ]
  },
  {
   "cell_type": "code",
   "execution_count": 23,
   "id": "158fb52a-9105-4354-9f1a-65c8931c28ea",
   "metadata": {},
   "outputs": [],
   "source": [
    "farkliSeri2 = pd.Series([10,5,3,1,],[\"a\",\"c\",\"f\",\"g\"])"
   ]
  },
  {
   "cell_type": "code",
   "execution_count": 24,
   "id": "dfb81f64-665c-4e2d-8be7-d1d1383127cc",
   "metadata": {},
   "outputs": [
    {
     "data": {
      "text/plain": [
       "a    30.0\n",
       "b     NaN\n",
       "c    45.0\n",
       "d     NaN\n",
       "f     NaN\n",
       "g     NaN\n",
       "dtype: float64"
      ]
     },
     "execution_count": 24,
     "metadata": {},
     "output_type": "execute_result"
    }
   ],
   "source": [
    "farkliSeri + farkliSeri2 #kesisenleri toplayip getirir."
   ]
  },
  {
   "cell_type": "code",
   "execution_count": 30,
   "id": "2d72eadd-c7c3-4c2d-8876-f89667dcf3a2",
   "metadata": {},
   "outputs": [
    {
     "data": {
      "text/plain": [
       "array([[-0.64245547,  0.41431344, -1.03747688],\n",
       "       [ 1.02686235,  0.50827169,  0.45701445],\n",
       "       [-0.01412899, -1.13029831,  0.22197884]])"
      ]
     },
     "execution_count": 30,
     "metadata": {},
     "output_type": "execute_result"
    }
   ],
   "source": [
    "data = np.random.randn(3,3)\n",
    "data"
   ]
  },
  {
   "cell_type": "code",
   "execution_count": 31,
   "id": "526ad861-1c1a-4adf-bd04-dd731a0133d7",
   "metadata": {},
   "outputs": [],
   "source": [
    "dataF = pd.DataFrame(data)"
   ]
  },
  {
   "cell_type": "code",
   "execution_count": 32,
   "id": "15ae2aa8-3664-4047-8c87-e1c0803d133c",
   "metadata": {},
   "outputs": [
    {
     "data": {
      "text/html": [
       "<div>\n",
       "<style scoped>\n",
       "    .dataframe tbody tr th:only-of-type {\n",
       "        vertical-align: middle;\n",
       "    }\n",
       "\n",
       "    .dataframe tbody tr th {\n",
       "        vertical-align: top;\n",
       "    }\n",
       "\n",
       "    .dataframe thead th {\n",
       "        text-align: right;\n",
       "    }\n",
       "</style>\n",
       "<table border=\"1\" class=\"dataframe\">\n",
       "  <thead>\n",
       "    <tr style=\"text-align: right;\">\n",
       "      <th></th>\n",
       "      <th>0</th>\n",
       "      <th>1</th>\n",
       "      <th>2</th>\n",
       "    </tr>\n",
       "  </thead>\n",
       "  <tbody>\n",
       "    <tr>\n",
       "      <th>0</th>\n",
       "      <td>-0.642455</td>\n",
       "      <td>0.414313</td>\n",
       "      <td>-1.037477</td>\n",
       "    </tr>\n",
       "    <tr>\n",
       "      <th>1</th>\n",
       "      <td>1.026862</td>\n",
       "      <td>0.508272</td>\n",
       "      <td>0.457014</td>\n",
       "    </tr>\n",
       "    <tr>\n",
       "      <th>2</th>\n",
       "      <td>-0.014129</td>\n",
       "      <td>-1.130298</td>\n",
       "      <td>0.221979</td>\n",
       "    </tr>\n",
       "  </tbody>\n",
       "</table>\n",
       "</div>"
      ],
      "text/plain": [
       "          0         1         2\n",
       "0 -0.642455  0.414313 -1.037477\n",
       "1  1.026862  0.508272  0.457014\n",
       "2 -0.014129 -1.130298  0.221979"
      ]
     },
     "execution_count": 32,
     "metadata": {},
     "output_type": "execute_result"
    }
   ],
   "source": [
    "dataF"
   ]
  },
  {
   "cell_type": "code",
   "execution_count": 29,
   "id": "763551f0-132c-46db-9eab-e9c304f66f46",
   "metadata": {},
   "outputs": [
    {
     "data": {
      "text/plain": [
       "pandas.core.frame.DataFrame"
      ]
     },
     "execution_count": 29,
     "metadata": {},
     "output_type": "execute_result"
    }
   ],
   "source": [
    "type(dataF)"
   ]
  },
  {
   "cell_type": "code",
   "execution_count": 33,
   "id": "1831ddf8-9cfd-4008-a8c5-2a0111785016",
   "metadata": {},
   "outputs": [
    {
     "data": {
      "text/plain": [
       "0   -0.642455\n",
       "1    1.026862\n",
       "2   -0.014129\n",
       "Name: 0, dtype: float64"
      ]
     },
     "execution_count": 33,
     "metadata": {},
     "output_type": "execute_result"
    }
   ],
   "source": [
    "dataF[0]"
   ]
  },
  {
   "cell_type": "code",
   "execution_count": 34,
   "id": "8cec5360-cdfe-4ee6-81db-7393cf44ef25",
   "metadata": {},
   "outputs": [
    {
     "data": {
      "text/plain": [
       "pandas.core.series.Series"
      ]
     },
     "execution_count": 34,
     "metadata": {},
     "output_type": "execute_result"
    }
   ],
   "source": [
    "type(dataF[0])"
   ]
  },
  {
   "cell_type": "code",
   "execution_count": 35,
   "id": "794db35c-126e-4aa8-babe-f20590705788",
   "metadata": {},
   "outputs": [],
   "source": [
    "newdataf = pd.DataFrame(data, index=[\"burak\",\"mehmet\",\"osman\"], columns = [\"maas\", \"yas\",\"calismasaat\"])"
   ]
  },
  {
   "cell_type": "code",
   "execution_count": 36,
   "id": "3c0609f6-bee3-4028-9396-c3e165b97b36",
   "metadata": {},
   "outputs": [
    {
     "data": {
      "text/html": [
       "<div>\n",
       "<style scoped>\n",
       "    .dataframe tbody tr th:only-of-type {\n",
       "        vertical-align: middle;\n",
       "    }\n",
       "\n",
       "    .dataframe tbody tr th {\n",
       "        vertical-align: top;\n",
       "    }\n",
       "\n",
       "    .dataframe thead th {\n",
       "        text-align: right;\n",
       "    }\n",
       "</style>\n",
       "<table border=\"1\" class=\"dataframe\">\n",
       "  <thead>\n",
       "    <tr style=\"text-align: right;\">\n",
       "      <th></th>\n",
       "      <th>maas</th>\n",
       "      <th>yas</th>\n",
       "      <th>calismasaat</th>\n",
       "    </tr>\n",
       "  </thead>\n",
       "  <tbody>\n",
       "    <tr>\n",
       "      <th>burak</th>\n",
       "      <td>-0.642455</td>\n",
       "      <td>0.414313</td>\n",
       "      <td>-1.037477</td>\n",
       "    </tr>\n",
       "    <tr>\n",
       "      <th>mehmet</th>\n",
       "      <td>1.026862</td>\n",
       "      <td>0.508272</td>\n",
       "      <td>0.457014</td>\n",
       "    </tr>\n",
       "    <tr>\n",
       "      <th>osman</th>\n",
       "      <td>-0.014129</td>\n",
       "      <td>-1.130298</td>\n",
       "      <td>0.221979</td>\n",
       "    </tr>\n",
       "  </tbody>\n",
       "</table>\n",
       "</div>"
      ],
      "text/plain": [
       "            maas       yas  calismasaat\n",
       "burak  -0.642455  0.414313    -1.037477\n",
       "mehmet  1.026862  0.508272     0.457014\n",
       "osman  -0.014129 -1.130298     0.221979"
      ]
     },
     "execution_count": 36,
     "metadata": {},
     "output_type": "execute_result"
    }
   ],
   "source": [
    "newdataf"
   ]
  },
  {
   "cell_type": "code",
   "execution_count": 37,
   "id": "790c8ec8-1193-4e15-81ea-76c0dbee41ed",
   "metadata": {},
   "outputs": [
    {
     "data": {
      "text/plain": [
       "burak     0.414313\n",
       "mehmet    0.508272\n",
       "osman    -1.130298\n",
       "Name: yas, dtype: float64"
      ]
     },
     "execution_count": 37,
     "metadata": {},
     "output_type": "execute_result"
    }
   ],
   "source": [
    "newdataf[\"yas\"]"
   ]
  },
  {
   "cell_type": "code",
   "execution_count": 38,
   "id": "2b1b84dd-8ad0-48db-8f11-fa69b572f834",
   "metadata": {},
   "outputs": [
    {
     "data": {
      "text/plain": [
       "burak    -0.642455\n",
       "mehmet    1.026862\n",
       "osman    -0.014129\n",
       "Name: maas, dtype: float64"
      ]
     },
     "execution_count": 38,
     "metadata": {},
     "output_type": "execute_result"
    }
   ],
   "source": [
    "newdataf[\"maas\"]"
   ]
  },
  {
   "cell_type": "code",
   "execution_count": 41,
   "id": "b55ef5b6-4605-4b3e-973e-13ae319a1b42",
   "metadata": {},
   "outputs": [
    {
     "data": {
      "text/plain": [
       "maas          -0.642455\n",
       "yas            0.414313\n",
       "calismasaat   -1.037477\n",
       "Name: burak, dtype: float64"
      ]
     },
     "execution_count": 41,
     "metadata": {},
     "output_type": "execute_result"
    }
   ],
   "source": [
    "newdataf.loc[\"burak\"] #indexi getirmek icin loc kullanilir."
   ]
  },
  {
   "cell_type": "code",
   "execution_count": 42,
   "id": "becc540f-0941-465b-a917-4800c7b40d4c",
   "metadata": {},
   "outputs": [
    {
     "data": {
      "text/plain": [
       "maas          -0.642455\n",
       "yas            0.414313\n",
       "calismasaat   -1.037477\n",
       "Name: burak, dtype: float64"
      ]
     },
     "execution_count": 42,
     "metadata": {},
     "output_type": "execute_result"
    }
   ],
   "source": [
    "newdataf.iloc[0]"
   ]
  },
  {
   "cell_type": "code",
   "execution_count": 43,
   "id": "d69b6bfb-c2e5-47ef-83da-8c23f6de1a56",
   "metadata": {},
   "outputs": [],
   "source": [
    "newdataf[\"emeklilikyas\"] = newdataf[\"yas\"] + newdataf[\"yas\"]"
   ]
  },
  {
   "cell_type": "code",
   "execution_count": 44,
   "id": "e7bb2b5e-b7c3-4609-82e4-c0df0a44f292",
   "metadata": {},
   "outputs": [
    {
     "data": {
      "text/html": [
       "<div>\n",
       "<style scoped>\n",
       "    .dataframe tbody tr th:only-of-type {\n",
       "        vertical-align: middle;\n",
       "    }\n",
       "\n",
       "    .dataframe tbody tr th {\n",
       "        vertical-align: top;\n",
       "    }\n",
       "\n",
       "    .dataframe thead th {\n",
       "        text-align: right;\n",
       "    }\n",
       "</style>\n",
       "<table border=\"1\" class=\"dataframe\">\n",
       "  <thead>\n",
       "    <tr style=\"text-align: right;\">\n",
       "      <th></th>\n",
       "      <th>maas</th>\n",
       "      <th>yas</th>\n",
       "      <th>calismasaat</th>\n",
       "      <th>emeklilikyas</th>\n",
       "    </tr>\n",
       "  </thead>\n",
       "  <tbody>\n",
       "    <tr>\n",
       "      <th>burak</th>\n",
       "      <td>-0.642455</td>\n",
       "      <td>0.414313</td>\n",
       "      <td>-1.037477</td>\n",
       "      <td>0.828627</td>\n",
       "    </tr>\n",
       "    <tr>\n",
       "      <th>mehmet</th>\n",
       "      <td>1.026862</td>\n",
       "      <td>0.508272</td>\n",
       "      <td>0.457014</td>\n",
       "      <td>1.016543</td>\n",
       "    </tr>\n",
       "    <tr>\n",
       "      <th>osman</th>\n",
       "      <td>-0.014129</td>\n",
       "      <td>-1.130298</td>\n",
       "      <td>0.221979</td>\n",
       "      <td>-2.260597</td>\n",
       "    </tr>\n",
       "  </tbody>\n",
       "</table>\n",
       "</div>"
      ],
      "text/plain": [
       "            maas       yas  calismasaat  emeklilikyas\n",
       "burak  -0.642455  0.414313    -1.037477      0.828627\n",
       "mehmet  1.026862  0.508272     0.457014      1.016543\n",
       "osman  -0.014129 -1.130298     0.221979     -2.260597"
      ]
     },
     "execution_count": 44,
     "metadata": {},
     "output_type": "execute_result"
    }
   ],
   "source": [
    "newdataf"
   ]
  },
  {
   "cell_type": "code",
   "execution_count": 46,
   "id": "e42bddde-c5db-4636-919f-277e63604299",
   "metadata": {},
   "outputs": [
    {
     "data": {
      "text/html": [
       "<div>\n",
       "<style scoped>\n",
       "    .dataframe tbody tr th:only-of-type {\n",
       "        vertical-align: middle;\n",
       "    }\n",
       "\n",
       "    .dataframe tbody tr th {\n",
       "        vertical-align: top;\n",
       "    }\n",
       "\n",
       "    .dataframe thead th {\n",
       "        text-align: right;\n",
       "    }\n",
       "</style>\n",
       "<table border=\"1\" class=\"dataframe\">\n",
       "  <thead>\n",
       "    <tr style=\"text-align: right;\">\n",
       "      <th></th>\n",
       "      <th>maas</th>\n",
       "      <th>yas</th>\n",
       "      <th>calismasaat</th>\n",
       "    </tr>\n",
       "  </thead>\n",
       "  <tbody>\n",
       "    <tr>\n",
       "      <th>burak</th>\n",
       "      <td>-0.642455</td>\n",
       "      <td>0.414313</td>\n",
       "      <td>-1.037477</td>\n",
       "    </tr>\n",
       "    <tr>\n",
       "      <th>mehmet</th>\n",
       "      <td>1.026862</td>\n",
       "      <td>0.508272</td>\n",
       "      <td>0.457014</td>\n",
       "    </tr>\n",
       "    <tr>\n",
       "      <th>osman</th>\n",
       "      <td>-0.014129</td>\n",
       "      <td>-1.130298</td>\n",
       "      <td>0.221979</td>\n",
       "    </tr>\n",
       "  </tbody>\n",
       "</table>\n",
       "</div>"
      ],
      "text/plain": [
       "            maas       yas  calismasaat\n",
       "burak  -0.642455  0.414313    -1.037477\n",
       "mehmet  1.026862  0.508272     0.457014\n",
       "osman  -0.014129 -1.130298     0.221979"
      ]
     },
     "execution_count": 46,
     "metadata": {},
     "output_type": "execute_result"
    }
   ],
   "source": [
    "newdataf.drop(\"emeklilikyas\", axis = 1) #axis1 sutun olur."
   ]
  },
  {
   "cell_type": "code",
   "execution_count": 47,
   "id": "11ebf740-23cc-4d5a-910f-daf31ad4f01b",
   "metadata": {},
   "outputs": [
    {
     "data": {
      "text/html": [
       "<div>\n",
       "<style scoped>\n",
       "    .dataframe tbody tr th:only-of-type {\n",
       "        vertical-align: middle;\n",
       "    }\n",
       "\n",
       "    .dataframe tbody tr th {\n",
       "        vertical-align: top;\n",
       "    }\n",
       "\n",
       "    .dataframe thead th {\n",
       "        text-align: right;\n",
       "    }\n",
       "</style>\n",
       "<table border=\"1\" class=\"dataframe\">\n",
       "  <thead>\n",
       "    <tr style=\"text-align: right;\">\n",
       "      <th></th>\n",
       "      <th>maas</th>\n",
       "      <th>yas</th>\n",
       "      <th>calismasaat</th>\n",
       "      <th>emeklilikyas</th>\n",
       "    </tr>\n",
       "  </thead>\n",
       "  <tbody>\n",
       "    <tr>\n",
       "      <th>burak</th>\n",
       "      <td>-0.642455</td>\n",
       "      <td>0.414313</td>\n",
       "      <td>-1.037477</td>\n",
       "      <td>0.828627</td>\n",
       "    </tr>\n",
       "    <tr>\n",
       "      <th>mehmet</th>\n",
       "      <td>1.026862</td>\n",
       "      <td>0.508272</td>\n",
       "      <td>0.457014</td>\n",
       "      <td>1.016543</td>\n",
       "    </tr>\n",
       "  </tbody>\n",
       "</table>\n",
       "</div>"
      ],
      "text/plain": [
       "            maas       yas  calismasaat  emeklilikyas\n",
       "burak  -0.642455  0.414313    -1.037477      0.828627\n",
       "mehmet  1.026862  0.508272     0.457014      1.016543"
      ]
     },
     "execution_count": 47,
     "metadata": {},
     "output_type": "execute_result"
    }
   ],
   "source": [
    "newdataf.drop(\"osman\", axis=0)"
   ]
  },
  {
   "cell_type": "code",
   "execution_count": 48,
   "id": "1a3446fa-d9c6-410b-a859-fe250780ea55",
   "metadata": {},
   "outputs": [
    {
     "data": {
      "text/html": [
       "<div>\n",
       "<style scoped>\n",
       "    .dataframe tbody tr th:only-of-type {\n",
       "        vertical-align: middle;\n",
       "    }\n",
       "\n",
       "    .dataframe tbody tr th {\n",
       "        vertical-align: top;\n",
       "    }\n",
       "\n",
       "    .dataframe thead th {\n",
       "        text-align: right;\n",
       "    }\n",
       "</style>\n",
       "<table border=\"1\" class=\"dataframe\">\n",
       "  <thead>\n",
       "    <tr style=\"text-align: right;\">\n",
       "      <th></th>\n",
       "      <th>maas</th>\n",
       "      <th>yas</th>\n",
       "      <th>calismasaat</th>\n",
       "      <th>emeklilikyas</th>\n",
       "    </tr>\n",
       "  </thead>\n",
       "  <tbody>\n",
       "    <tr>\n",
       "      <th>burak</th>\n",
       "      <td>-0.642455</td>\n",
       "      <td>0.414313</td>\n",
       "      <td>-1.037477</td>\n",
       "      <td>0.828627</td>\n",
       "    </tr>\n",
       "    <tr>\n",
       "      <th>mehmet</th>\n",
       "      <td>1.026862</td>\n",
       "      <td>0.508272</td>\n",
       "      <td>0.457014</td>\n",
       "      <td>1.016543</td>\n",
       "    </tr>\n",
       "    <tr>\n",
       "      <th>osman</th>\n",
       "      <td>-0.014129</td>\n",
       "      <td>-1.130298</td>\n",
       "      <td>0.221979</td>\n",
       "      <td>-2.260597</td>\n",
       "    </tr>\n",
       "  </tbody>\n",
       "</table>\n",
       "</div>"
      ],
      "text/plain": [
       "            maas       yas  calismasaat  emeklilikyas\n",
       "burak  -0.642455  0.414313    -1.037477      0.828627\n",
       "mehmet  1.026862  0.508272     0.457014      1.016543\n",
       "osman  -0.014129 -1.130298     0.221979     -2.260597"
      ]
     },
     "execution_count": 48,
     "metadata": {},
     "output_type": "execute_result"
    }
   ],
   "source": [
    "newdataf"
   ]
  },
  {
   "cell_type": "code",
   "execution_count": 49,
   "id": "7ca7b382-86d7-4d8c-8299-896237cf8f71",
   "metadata": {},
   "outputs": [],
   "source": [
    "newdataf.drop(\"emeklilikyas\", axis=1, inplace=True) #inplace burada degisikligi kalici yaptirir."
   ]
  },
  {
   "cell_type": "code",
   "execution_count": 50,
   "id": "9da6cf64-eb30-4760-8497-2df39a20c640",
   "metadata": {},
   "outputs": [
    {
     "data": {
      "text/html": [
       "<div>\n",
       "<style scoped>\n",
       "    .dataframe tbody tr th:only-of-type {\n",
       "        vertical-align: middle;\n",
       "    }\n",
       "\n",
       "    .dataframe tbody tr th {\n",
       "        vertical-align: top;\n",
       "    }\n",
       "\n",
       "    .dataframe thead th {\n",
       "        text-align: right;\n",
       "    }\n",
       "</style>\n",
       "<table border=\"1\" class=\"dataframe\">\n",
       "  <thead>\n",
       "    <tr style=\"text-align: right;\">\n",
       "      <th></th>\n",
       "      <th>maas</th>\n",
       "      <th>yas</th>\n",
       "      <th>calismasaat</th>\n",
       "    </tr>\n",
       "  </thead>\n",
       "  <tbody>\n",
       "    <tr>\n",
       "      <th>burak</th>\n",
       "      <td>-0.642455</td>\n",
       "      <td>0.414313</td>\n",
       "      <td>-1.037477</td>\n",
       "    </tr>\n",
       "    <tr>\n",
       "      <th>mehmet</th>\n",
       "      <td>1.026862</td>\n",
       "      <td>0.508272</td>\n",
       "      <td>0.457014</td>\n",
       "    </tr>\n",
       "    <tr>\n",
       "      <th>osman</th>\n",
       "      <td>-0.014129</td>\n",
       "      <td>-1.130298</td>\n",
       "      <td>0.221979</td>\n",
       "    </tr>\n",
       "  </tbody>\n",
       "</table>\n",
       "</div>"
      ],
      "text/plain": [
       "            maas       yas  calismasaat\n",
       "burak  -0.642455  0.414313    -1.037477\n",
       "mehmet  1.026862  0.508272     0.457014\n",
       "osman  -0.014129 -1.130298     0.221979"
      ]
     },
     "execution_count": 50,
     "metadata": {},
     "output_type": "execute_result"
    }
   ],
   "source": [
    "newdataf"
   ]
  },
  {
   "cell_type": "code",
   "execution_count": 51,
   "id": "1b6e9896-7c97-41fd-9d73-511924eec233",
   "metadata": {},
   "outputs": [],
   "source": [
    "booleanFrame = newdataf < 0"
   ]
  },
  {
   "cell_type": "code",
   "execution_count": 52,
   "id": "fecb3e1c-469c-4aea-af13-f7c9f8a6e874",
   "metadata": {},
   "outputs": [
    {
     "data": {
      "text/html": [
       "<div>\n",
       "<style scoped>\n",
       "    .dataframe tbody tr th:only-of-type {\n",
       "        vertical-align: middle;\n",
       "    }\n",
       "\n",
       "    .dataframe tbody tr th {\n",
       "        vertical-align: top;\n",
       "    }\n",
       "\n",
       "    .dataframe thead th {\n",
       "        text-align: right;\n",
       "    }\n",
       "</style>\n",
       "<table border=\"1\" class=\"dataframe\">\n",
       "  <thead>\n",
       "    <tr style=\"text-align: right;\">\n",
       "      <th></th>\n",
       "      <th>maas</th>\n",
       "      <th>yas</th>\n",
       "      <th>calismasaat</th>\n",
       "    </tr>\n",
       "  </thead>\n",
       "  <tbody>\n",
       "    <tr>\n",
       "      <th>burak</th>\n",
       "      <td>-0.642455</td>\n",
       "      <td>NaN</td>\n",
       "      <td>-1.037477</td>\n",
       "    </tr>\n",
       "    <tr>\n",
       "      <th>mehmet</th>\n",
       "      <td>NaN</td>\n",
       "      <td>NaN</td>\n",
       "      <td>NaN</td>\n",
       "    </tr>\n",
       "    <tr>\n",
       "      <th>osman</th>\n",
       "      <td>-0.014129</td>\n",
       "      <td>-1.130298</td>\n",
       "      <td>NaN</td>\n",
       "    </tr>\n",
       "  </tbody>\n",
       "</table>\n",
       "</div>"
      ],
      "text/plain": [
       "            maas       yas  calismasaat\n",
       "burak  -0.642455       NaN    -1.037477\n",
       "mehmet       NaN       NaN          NaN\n",
       "osman  -0.014129 -1.130298          NaN"
      ]
     },
     "execution_count": 52,
     "metadata": {},
     "output_type": "execute_result"
    }
   ],
   "source": [
    "newdataf[booleanFrame] #sadece 0'dan kucuk olan degerleri gosterir."
   ]
  },
  {
   "cell_type": "code",
   "execution_count": null,
   "id": "27d59a46-70b0-41d5-b36c-642e28e20f31",
   "metadata": {},
   "outputs": [],
   "source": []
  }
 ],
 "metadata": {
  "kernelspec": {
   "display_name": "Python 3",
   "language": "python",
   "name": "python3"
  },
  "language_info": {
   "codemirror_mode": {
    "name": "ipython",
    "version": 3
   },
   "file_extension": ".py",
   "mimetype": "text/x-python",
   "name": "python",
   "nbconvert_exporter": "python",
   "pygments_lexer": "ipython3",
   "version": "3.8.8"
  }
 },
 "nbformat": 4,
 "nbformat_minor": 5
}
