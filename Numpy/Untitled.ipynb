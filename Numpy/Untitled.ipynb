{
 "cells": [
  {
   "cell_type": "markdown",
   "id": "bd1f6ca2-95a9-4567-a4b7-19b693c7afae",
   "metadata": {},
   "source": [
    "# Numpy"
   ]
  },
  {
   "cell_type": "code",
   "execution_count": 1,
   "id": "c99bded7-760a-4707-84aa-3394b3a715ab",
   "metadata": {},
   "outputs": [],
   "source": [
    "import numpy as np"
   ]
  },
  {
   "cell_type": "code",
   "execution_count": 2,
   "id": "d7acd933-5870-46ca-ade6-cbfbc98a510e",
   "metadata": {},
   "outputs": [],
   "source": [
    "benimListem = [20,30,40]"
   ]
  },
  {
   "cell_type": "code",
   "execution_count": 3,
   "id": "e7e8307f-8c0d-4486-83df-84d3e0e6adb8",
   "metadata": {},
   "outputs": [
    {
     "data": {
      "text/plain": [
       "list"
      ]
     },
     "execution_count": 3,
     "metadata": {},
     "output_type": "execute_result"
    }
   ],
   "source": [
    "type(benimListem)"
   ]
  },
  {
   "cell_type": "code",
   "execution_count": 6,
   "id": "273e61f4-e142-4997-bc73-2255dad823e7",
   "metadata": {},
   "outputs": [
    {
     "data": {
      "text/plain": [
       "array([20, 30, 40])"
      ]
     },
     "execution_count": 6,
     "metadata": {},
     "output_type": "execute_result"
    }
   ],
   "source": [
    "np.array(benimListem) #numpy dizisi olusturduk."
   ]
  },
  {
   "cell_type": "code",
   "execution_count": 7,
   "id": "c831f1a1-1d6e-4a11-993c-8291a15b9e20",
   "metadata": {},
   "outputs": [],
   "source": [
    "matrixListesi = [[10,20,30],[20,30,40],[30,40,50]]"
   ]
  },
  {
   "cell_type": "code",
   "execution_count": 8,
   "id": "18b372f3-e116-4405-9716-ab4015242d81",
   "metadata": {},
   "outputs": [
    {
     "data": {
      "text/plain": [
       "[20, 30, 40]"
      ]
     },
     "execution_count": 8,
     "metadata": {},
     "output_type": "execute_result"
    }
   ],
   "source": [
    "matrixListesi[1]"
   ]
  },
  {
   "cell_type": "code",
   "execution_count": 9,
   "id": "f5e4d19d-c430-4325-8e02-239c8388affd",
   "metadata": {},
   "outputs": [
    {
     "data": {
      "text/plain": [
       "40"
      ]
     },
     "execution_count": 9,
     "metadata": {},
     "output_type": "execute_result"
    }
   ],
   "source": [
    "matrixListesi[1][2]"
   ]
  },
  {
   "cell_type": "code",
   "execution_count": 10,
   "id": "c0f17d4c-f291-483d-9680-255c852a1cce",
   "metadata": {},
   "outputs": [
    {
     "data": {
      "text/plain": [
       "array([[10, 20, 30],\n",
       "       [20, 30, 40],\n",
       "       [30, 40, 50]])"
      ]
     },
     "execution_count": 10,
     "metadata": {},
     "output_type": "execute_result"
    }
   ],
   "source": [
    "np.array(matrixListesi)"
   ]
  },
  {
   "cell_type": "code",
   "execution_count": 11,
   "id": "61ee0423-5941-447c-96e0-6b5218af9778",
   "metadata": {},
   "outputs": [
    {
     "data": {
      "text/plain": [
       "[[10, 20, 30], [20, 30, 40], [30, 40, 50]]"
      ]
     },
     "execution_count": 11,
     "metadata": {},
     "output_type": "execute_result"
    }
   ],
   "source": [
    "matrixListesi"
   ]
  },
  {
   "cell_type": "markdown",
   "id": "f071cd8f-9b01-4ff7-a057-7c5d50f32f4a",
   "metadata": {},
   "source": [
    "## arange"
   ]
  },
  {
   "cell_type": "code",
   "execution_count": 12,
   "id": "5c70f65e-80c0-42a8-84e0-92b772de3979",
   "metadata": {},
   "outputs": [
    {
     "data": {
      "text/plain": [
       "range(0, 10)"
      ]
     },
     "execution_count": 12,
     "metadata": {},
     "output_type": "execute_result"
    }
   ],
   "source": [
    "range(0,10)"
   ]
  },
  {
   "cell_type": "code",
   "execution_count": 14,
   "id": "0f4e1ffd-6176-4422-86bb-1741d16d2ae5",
   "metadata": {},
   "outputs": [
    {
     "data": {
      "text/plain": [
       "[0, 1, 2, 3, 4, 5, 6, 7, 8, 9]"
      ]
     },
     "execution_count": 14,
     "metadata": {},
     "output_type": "execute_result"
    }
   ],
   "source": [
    "list(range(0,10))"
   ]
  },
  {
   "cell_type": "code",
   "execution_count": 15,
   "id": "dc5d1d86-1ad6-4159-811a-fd11a66c27c5",
   "metadata": {},
   "outputs": [
    {
     "data": {
      "text/plain": [
       "array([0, 1, 2, 3, 4, 5, 6, 7, 8, 9])"
      ]
     },
     "execution_count": 15,
     "metadata": {},
     "output_type": "execute_result"
    }
   ],
   "source": [
    "np.arange(0,10) #bir numpy dizisi olusturuyoruz."
   ]
  },
  {
   "cell_type": "code",
   "execution_count": 16,
   "id": "3e39f70d-235d-4831-bed3-1f27e3c50562",
   "metadata": {},
   "outputs": [
    {
     "data": {
      "text/plain": [
       "array([0, 2, 4, 6, 8])"
      ]
     },
     "execution_count": 16,
     "metadata": {},
     "output_type": "execute_result"
    }
   ],
   "source": [
    "np.arange(0,10,2) #buradaki 2, atlayarak gitmesine olanak saglar. 2,2 gider."
   ]
  },
  {
   "cell_type": "markdown",
   "id": "0781a4d9-7f0e-4520-8462-d94405e5b412",
   "metadata": {},
   "source": [
    "## zeros"
   ]
  },
  {
   "cell_type": "code",
   "execution_count": 17,
   "id": "78e57298-46ba-4631-90a0-4a31a9914161",
   "metadata": {},
   "outputs": [
    {
     "data": {
      "text/plain": [
       "array([0., 0., 0., 0., 0.])"
      ]
     },
     "execution_count": 17,
     "metadata": {},
     "output_type": "execute_result"
    }
   ],
   "source": [
    "np.zeros(5) #icinde 5 tane sifir olan dizi olusturur."
   ]
  },
  {
   "cell_type": "code",
   "execution_count": 18,
   "id": "67fe500c-6186-4a64-a5ed-17b59fcebf13",
   "metadata": {},
   "outputs": [
    {
     "data": {
      "text/plain": [
       "array([[0., 0.],\n",
       "       [0., 0.]])"
      ]
     },
     "execution_count": 18,
     "metadata": {},
     "output_type": "execute_result"
    }
   ],
   "source": [
    "np.zeros((2,2)) #matrix olarak dizi icerisinde dizi formatini yapariz."
   ]
  },
  {
   "cell_type": "markdown",
   "id": "8b231e44-2753-4232-96cf-fb9251c3d3d8",
   "metadata": {},
   "source": [
    "## ones"
   ]
  },
  {
   "cell_type": "code",
   "execution_count": 19,
   "id": "b1ea82a8-93d2-4d76-bf8f-17ab2018dfd8",
   "metadata": {},
   "outputs": [
    {
     "data": {
      "text/plain": [
       "array([1., 1., 1., 1., 1.])"
      ]
     },
     "execution_count": 19,
     "metadata": {},
     "output_type": "execute_result"
    }
   ],
   "source": [
    "np.ones(5)"
   ]
  },
  {
   "cell_type": "code",
   "execution_count": 20,
   "id": "390193db-8bab-4b6a-8293-3eab45867892",
   "metadata": {},
   "outputs": [
    {
     "data": {
      "text/plain": [
       "array([[1., 1., 1., 1., 1.],\n",
       "       [1., 1., 1., 1., 1.],\n",
       "       [1., 1., 1., 1., 1.],\n",
       "       [1., 1., 1., 1., 1.],\n",
       "       [1., 1., 1., 1., 1.]])"
      ]
     },
     "execution_count": 20,
     "metadata": {},
     "output_type": "execute_result"
    }
   ],
   "source": [
    "np.ones((5,5))"
   ]
  },
  {
   "cell_type": "markdown",
   "id": "fb7e83cf-395c-412d-b229-a0006e1a6c54",
   "metadata": {},
   "source": [
    "## linspace"
   ]
  },
  {
   "cell_type": "code",
   "execution_count": 21,
   "id": "45993c8f-a74f-41ea-ae69-2ca2e7ed1316",
   "metadata": {},
   "outputs": [
    {
     "data": {
      "text/plain": [
       "array([ 0.,  5., 10., 15., 20.])"
      ]
     },
     "execution_count": 21,
     "metadata": {},
     "output_type": "execute_result"
    }
   ],
   "source": [
    "np.linspace(0,20,5) #esit dagitilmis 5 farkli sayi getir."
   ]
  },
  {
   "cell_type": "code",
   "execution_count": 22,
   "id": "cee5cfd4-3422-43e6-9423-109dd93be7d0",
   "metadata": {},
   "outputs": [
    {
     "data": {
      "text/plain": [
       "array([ 0.,  4.,  8., 12., 16., 20.])"
      ]
     },
     "execution_count": 22,
     "metadata": {},
     "output_type": "execute_result"
    }
   ],
   "source": [
    "np.linspace(0,20,6) #esit dagitilmis 6 farkli sayi getir."
   ]
  },
  {
   "cell_type": "code",
   "execution_count": 23,
   "id": "8b5df34d-9282-4076-a569-7b7e97828bfb",
   "metadata": {},
   "outputs": [
    {
     "data": {
      "text/plain": [
       "array([ 0.        ,  0.52631579,  1.05263158,  1.57894737,  2.10526316,\n",
       "        2.63157895,  3.15789474,  3.68421053,  4.21052632,  4.73684211,\n",
       "        5.26315789,  5.78947368,  6.31578947,  6.84210526,  7.36842105,\n",
       "        7.89473684,  8.42105263,  8.94736842,  9.47368421, 10.        ])"
      ]
     },
     "execution_count": 23,
     "metadata": {},
     "output_type": "execute_result"
    }
   ],
   "source": [
    "np.linspace(0,10,20) #esit dagitilmis 0 ve 10 arasi 20 sayi getir."
   ]
  },
  {
   "cell_type": "code",
   "execution_count": 24,
   "id": "e0e6bd0a-9e58-44df-98da-799d5f8a0cd3",
   "metadata": {
    "collapsed": true,
    "jupyter": {
     "outputs_hidden": true
    },
    "tags": []
   },
   "outputs": [
    {
     "data": {
      "text/plain": [
       "array([ 0.        ,  0.1010101 ,  0.2020202 ,  0.3030303 ,  0.4040404 ,\n",
       "        0.50505051,  0.60606061,  0.70707071,  0.80808081,  0.90909091,\n",
       "        1.01010101,  1.11111111,  1.21212121,  1.31313131,  1.41414141,\n",
       "        1.51515152,  1.61616162,  1.71717172,  1.81818182,  1.91919192,\n",
       "        2.02020202,  2.12121212,  2.22222222,  2.32323232,  2.42424242,\n",
       "        2.52525253,  2.62626263,  2.72727273,  2.82828283,  2.92929293,\n",
       "        3.03030303,  3.13131313,  3.23232323,  3.33333333,  3.43434343,\n",
       "        3.53535354,  3.63636364,  3.73737374,  3.83838384,  3.93939394,\n",
       "        4.04040404,  4.14141414,  4.24242424,  4.34343434,  4.44444444,\n",
       "        4.54545455,  4.64646465,  4.74747475,  4.84848485,  4.94949495,\n",
       "        5.05050505,  5.15151515,  5.25252525,  5.35353535,  5.45454545,\n",
       "        5.55555556,  5.65656566,  5.75757576,  5.85858586,  5.95959596,\n",
       "        6.06060606,  6.16161616,  6.26262626,  6.36363636,  6.46464646,\n",
       "        6.56565657,  6.66666667,  6.76767677,  6.86868687,  6.96969697,\n",
       "        7.07070707,  7.17171717,  7.27272727,  7.37373737,  7.47474747,\n",
       "        7.57575758,  7.67676768,  7.77777778,  7.87878788,  7.97979798,\n",
       "        8.08080808,  8.18181818,  8.28282828,  8.38383838,  8.48484848,\n",
       "        8.58585859,  8.68686869,  8.78787879,  8.88888889,  8.98989899,\n",
       "        9.09090909,  9.19191919,  9.29292929,  9.39393939,  9.49494949,\n",
       "        9.5959596 ,  9.6969697 ,  9.7979798 ,  9.8989899 , 10.        ])"
      ]
     },
     "execution_count": 24,
     "metadata": {},
     "output_type": "execute_result"
    }
   ],
   "source": [
    "np.linspace(0,10,100)"
   ]
  },
  {
   "cell_type": "code",
   "execution_count": 25,
   "id": "f228cf9e-76e5-4a3d-ab67-b786d24dd2d1",
   "metadata": {
    "collapsed": true,
    "jupyter": {
     "outputs_hidden": true
    },
    "tags": []
   },
   "outputs": [
    {
     "data": {
      "text/plain": [
       "array([  0.        ,   1.01010101,   2.02020202,   3.03030303,\n",
       "         4.04040404,   5.05050505,   6.06060606,   7.07070707,\n",
       "         8.08080808,   9.09090909,  10.1010101 ,  11.11111111,\n",
       "        12.12121212,  13.13131313,  14.14141414,  15.15151515,\n",
       "        16.16161616,  17.17171717,  18.18181818,  19.19191919,\n",
       "        20.2020202 ,  21.21212121,  22.22222222,  23.23232323,\n",
       "        24.24242424,  25.25252525,  26.26262626,  27.27272727,\n",
       "        28.28282828,  29.29292929,  30.3030303 ,  31.31313131,\n",
       "        32.32323232,  33.33333333,  34.34343434,  35.35353535,\n",
       "        36.36363636,  37.37373737,  38.38383838,  39.39393939,\n",
       "        40.4040404 ,  41.41414141,  42.42424242,  43.43434343,\n",
       "        44.44444444,  45.45454545,  46.46464646,  47.47474747,\n",
       "        48.48484848,  49.49494949,  50.50505051,  51.51515152,\n",
       "        52.52525253,  53.53535354,  54.54545455,  55.55555556,\n",
       "        56.56565657,  57.57575758,  58.58585859,  59.5959596 ,\n",
       "        60.60606061,  61.61616162,  62.62626263,  63.63636364,\n",
       "        64.64646465,  65.65656566,  66.66666667,  67.67676768,\n",
       "        68.68686869,  69.6969697 ,  70.70707071,  71.71717172,\n",
       "        72.72727273,  73.73737374,  74.74747475,  75.75757576,\n",
       "        76.76767677,  77.77777778,  78.78787879,  79.7979798 ,\n",
       "        80.80808081,  81.81818182,  82.82828283,  83.83838384,\n",
       "        84.84848485,  85.85858586,  86.86868687,  87.87878788,\n",
       "        88.88888889,  89.8989899 ,  90.90909091,  91.91919192,\n",
       "        92.92929293,  93.93939394,  94.94949495,  95.95959596,\n",
       "        96.96969697,  97.97979798,  98.98989899, 100.        ])"
      ]
     },
     "execution_count": 25,
     "metadata": {},
     "output_type": "execute_result"
    }
   ],
   "source": [
    "np.linspace(0,100,100)"
   ]
  },
  {
   "cell_type": "markdown",
   "id": "6d746df3-d21e-41b1-b638-c785a545dec9",
   "metadata": {},
   "source": [
    "## eye"
   ]
  },
  {
   "cell_type": "code",
   "execution_count": 26,
   "id": "57f8fb69-00b3-4903-9113-b1d2246845b6",
   "metadata": {},
   "outputs": [
    {
     "data": {
      "text/plain": [
       "array([[1., 0., 0.],\n",
       "       [0., 1., 0.],\n",
       "       [0., 0., 1.]])"
      ]
     },
     "execution_count": 26,
     "metadata": {},
     "output_type": "execute_result"
    }
   ],
   "source": [
    "np.eye(3)"
   ]
  },
  {
   "cell_type": "code",
   "execution_count": 27,
   "id": "3d0a899d-8edf-4845-927d-d7677a4cff77",
   "metadata": {},
   "outputs": [
    {
     "data": {
      "text/plain": [
       "array([[1., 0., 0., 0., 0., 0., 0., 0., 0., 0.],\n",
       "       [0., 1., 0., 0., 0., 0., 0., 0., 0., 0.],\n",
       "       [0., 0., 1., 0., 0., 0., 0., 0., 0., 0.],\n",
       "       [0., 0., 0., 1., 0., 0., 0., 0., 0., 0.],\n",
       "       [0., 0., 0., 0., 1., 0., 0., 0., 0., 0.],\n",
       "       [0., 0., 0., 0., 0., 1., 0., 0., 0., 0.],\n",
       "       [0., 0., 0., 0., 0., 0., 1., 0., 0., 0.],\n",
       "       [0., 0., 0., 0., 0., 0., 0., 1., 0., 0.],\n",
       "       [0., 0., 0., 0., 0., 0., 0., 0., 1., 0.],\n",
       "       [0., 0., 0., 0., 0., 0., 0., 0., 0., 1.]])"
      ]
     },
     "execution_count": 27,
     "metadata": {},
     "output_type": "execute_result"
    }
   ],
   "source": [
    "np.eye(10) #buradaki 1'lere iyi bak."
   ]
  },
  {
   "cell_type": "markdown",
   "id": "4f983827-d2c0-4fbf-92bc-333ae2302330",
   "metadata": {},
   "source": [
    "## random"
   ]
  },
  {
   "cell_type": "code",
   "execution_count": 34,
   "id": "67cbca3e-15bb-460a-ac66-00d070b63fb2",
   "metadata": {},
   "outputs": [
    {
     "data": {
      "text/plain": [
       "array([-0.26624352,  0.06358572,  0.38583529, -0.2188302 ])"
      ]
     },
     "execution_count": 34,
     "metadata": {},
     "output_type": "execute_result"
    }
   ],
   "source": [
    "np.random.randn(4)"
   ]
  },
  {
   "cell_type": "code",
   "execution_count": 36,
   "id": "37c27c16-22e1-454a-8bff-9e2acc8e062c",
   "metadata": {},
   "outputs": [
    {
     "data": {
      "text/plain": [
       "array([[ 0.60485286, -0.17986562,  2.11199129],\n",
       "       [-0.40415474,  0.09645081,  0.25467218],\n",
       "       [ 1.73276182, -0.68383621,  0.27278062]])"
      ]
     },
     "execution_count": 36,
     "metadata": {},
     "output_type": "execute_result"
    }
   ],
   "source": [
    "np.random.randn(3,3)"
   ]
  },
  {
   "cell_type": "code",
   "execution_count": 40,
   "id": "36140471-3628-475a-878a-4a9d64d5fa08",
   "metadata": {},
   "outputs": [
    {
     "data": {
      "text/plain": [
       "7"
      ]
     },
     "execution_count": 40,
     "metadata": {},
     "output_type": "execute_result"
    }
   ],
   "source": [
    "np.random.randint(1,10)"
   ]
  },
  {
   "cell_type": "code",
   "execution_count": 41,
   "id": "118007fd-2866-48fb-900a-f75e12670c29",
   "metadata": {},
   "outputs": [
    {
     "data": {
      "text/plain": [
       "array([5, 9, 9, 3])"
      ]
     },
     "execution_count": 41,
     "metadata": {},
     "output_type": "execute_result"
    }
   ],
   "source": [
    "np.random.randint(1,10,4)"
   ]
  },
  {
   "cell_type": "code",
   "execution_count": 42,
   "id": "831fc2fe-bb02-4951-ae4f-e1931dc908dc",
   "metadata": {},
   "outputs": [
    {
     "data": {
      "text/plain": [
       "array([ 0,  1,  2,  3,  4,  5,  6,  7,  8,  9, 10, 11, 12, 13, 14, 15, 16,\n",
       "       17, 18, 19, 20, 21, 22, 23, 24, 25, 26, 27, 28, 29])"
      ]
     },
     "execution_count": 42,
     "metadata": {},
     "output_type": "execute_result"
    }
   ],
   "source": [
    "benimNumpyDizim = np.arange(30)\n",
    "benimNumpyDizim"
   ]
  },
  {
   "cell_type": "code",
   "execution_count": 43,
   "id": "e50061cf-74c4-4ff1-a560-56b1b48932d1",
   "metadata": {},
   "outputs": [],
   "source": [
    "RandomDizim = np.random.randint(0,40,20)"
   ]
  },
  {
   "cell_type": "code",
   "execution_count": 44,
   "id": "d1bb9d8d-69b4-47f8-b66d-1590e84bf0e8",
   "metadata": {},
   "outputs": [
    {
     "data": {
      "text/plain": [
       "array([35,  0, 14, 38, 32, 22, 14, 22, 16, 25,  5,  4, 33, 22, 37, 27,  7,\n",
       "       10, 29, 30])"
      ]
     },
     "execution_count": 44,
     "metadata": {},
     "output_type": "execute_result"
    }
   ],
   "source": [
    "RandomDizim"
   ]
  },
  {
   "cell_type": "markdown",
   "id": "5aaab263-c72a-4715-a2f4-cfd176135837",
   "metadata": {},
   "source": [
    "## numpy array methods"
   ]
  },
  {
   "cell_type": "code",
   "execution_count": 47,
   "id": "53a6de60-6a89-4a84-b253-2f563c50f788",
   "metadata": {},
   "outputs": [
    {
     "data": {
      "text/plain": [
       "array([[ 0,  1,  2,  3,  4],\n",
       "       [ 5,  6,  7,  8,  9],\n",
       "       [10, 11, 12, 13, 14],\n",
       "       [15, 16, 17, 18, 19],\n",
       "       [20, 21, 22, 23, 24],\n",
       "       [25, 26, 27, 28, 29]])"
      ]
     },
     "execution_count": 47,
     "metadata": {},
     "output_type": "execute_result"
    }
   ],
   "source": [
    "benimNumpyDizim.reshape(6,5)"
   ]
  },
  {
   "cell_type": "code",
   "execution_count": 48,
   "id": "acc82157-32d9-4e83-b113-2ebaea7cbe18",
   "metadata": {},
   "outputs": [
    {
     "data": {
      "text/plain": [
       "array([[35,  0, 14, 38, 32],\n",
       "       [22, 14, 22, 16, 25],\n",
       "       [ 5,  4, 33, 22, 37],\n",
       "       [27,  7, 10, 29, 30]])"
      ]
     },
     "execution_count": 48,
     "metadata": {},
     "output_type": "execute_result"
    }
   ],
   "source": [
    "RandomDizim.reshape(4,5)"
   ]
  },
  {
   "cell_type": "code",
   "execution_count": 49,
   "id": "3e779815-4a1b-4f07-9df3-d94c86ed6054",
   "metadata": {},
   "outputs": [
    {
     "data": {
      "text/plain": [
       "29"
      ]
     },
     "execution_count": 49,
     "metadata": {},
     "output_type": "execute_result"
    }
   ],
   "source": [
    " benimNumpyDizim.max()"
   ]
  },
  {
   "cell_type": "code",
   "execution_count": 50,
   "id": "b9a007ef-d1c2-4ab9-b11d-774ad8249421",
   "metadata": {},
   "outputs": [
    {
     "data": {
      "text/plain": [
       "38"
      ]
     },
     "execution_count": 50,
     "metadata": {},
     "output_type": "execute_result"
    }
   ],
   "source": [
    "RandomDizim.max()"
   ]
  },
  {
   "cell_type": "code",
   "execution_count": 51,
   "id": "87d967e8-84bf-4a5f-a36d-d13693f6ef39",
   "metadata": {},
   "outputs": [
    {
     "data": {
      "text/plain": [
       "0"
      ]
     },
     "execution_count": 51,
     "metadata": {},
     "output_type": "execute_result"
    }
   ],
   "source": [
    "benimNumpyDizim.min()"
   ]
  },
  {
   "cell_type": "code",
   "execution_count": 52,
   "id": "32187b8c-0a51-44eb-95dd-cf35c94c7ec8",
   "metadata": {},
   "outputs": [
    {
     "data": {
      "text/plain": [
       "0"
      ]
     },
     "execution_count": 52,
     "metadata": {},
     "output_type": "execute_result"
    }
   ],
   "source": [
    "RandomDizim.min()"
   ]
  },
  {
   "cell_type": "code",
   "execution_count": 53,
   "id": "1bc7dbe4-cbae-47bf-b27a-7ffa789c1b3a",
   "metadata": {},
   "outputs": [
    {
     "data": {
      "text/plain": [
       "3"
      ]
     },
     "execution_count": 53,
     "metadata": {},
     "output_type": "execute_result"
    }
   ],
   "source": [
    "RandomDizim.argmax() #en yuksek degerin indexini soyler."
   ]
  },
  {
   "cell_type": "code",
   "execution_count": 54,
   "id": "655bf049-87b3-40ea-bc6c-85a594c31cbf",
   "metadata": {},
   "outputs": [
    {
     "data": {
      "text/plain": [
       "1"
      ]
     },
     "execution_count": 54,
     "metadata": {},
     "output_type": "execute_result"
    }
   ],
   "source": [
    "RandomDizim.argmin() #minimum degerin indexini ifade eder."
   ]
  },
  {
   "cell_type": "code",
   "execution_count": 55,
   "id": "ae5d1bb9-d7d1-4394-92c9-dea00cbef725",
   "metadata": {},
   "outputs": [
    {
     "data": {
      "text/plain": [
       "(30,)"
      ]
     },
     "execution_count": 55,
     "metadata": {},
     "output_type": "execute_result"
    }
   ],
   "source": [
    "benimNumpyDizim.shape"
   ]
  },
  {
   "cell_type": "code",
   "execution_count": 57,
   "id": "cfbe51aa-a029-46b7-80d4-c0f9c030db74",
   "metadata": {},
   "outputs": [],
   "source": [
    "reshapedizi = benimNumpyDizim.reshape(5,6)"
   ]
  },
  {
   "cell_type": "code",
   "execution_count": 58,
   "id": "c4de9afb-f94e-402c-9229-fecb211eeb32",
   "metadata": {},
   "outputs": [
    {
     "data": {
      "text/plain": [
       "(5, 6)"
      ]
     },
     "execution_count": 58,
     "metadata": {},
     "output_type": "execute_result"
    }
   ],
   "source": [
    "reshapedizi.shape"
   ]
  },
  {
   "cell_type": "code",
   "execution_count": 59,
   "id": "41a9fbd7-e50f-4a3c-ae15-8a8f7fa1b688",
   "metadata": {},
   "outputs": [],
   "source": [
    "bDizi = np.arange(0,15)"
   ]
  },
  {
   "cell_type": "code",
   "execution_count": 60,
   "id": "1f66cfc7-7177-45ec-bcdf-d769ba62cfa8",
   "metadata": {},
   "outputs": [
    {
     "data": {
      "text/plain": [
       "array([ 0,  1,  2, -5, -5, -5, -5, -5,  8,  9, 10, 11, 12, 13, 14])"
      ]
     },
     "execution_count": 60,
     "metadata": {},
     "output_type": "execute_result"
    }
   ],
   "source": [
    "bDizi[3:8] = -5 #index 3'den 8'e kadar olanlara -5 atadik.\n",
    "bDizi"
   ]
  },
  {
   "cell_type": "code",
   "execution_count": 61,
   "id": "c25d707f-6d93-4ada-be83-5ce17a6c1cba",
   "metadata": {},
   "outputs": [],
   "source": [
    "baskaDizi = np.arange(0,24)"
   ]
  },
  {
   "cell_type": "code",
   "execution_count": 62,
   "id": "952e38f8-6771-47b4-b5da-5a3211fed67f",
   "metadata": {},
   "outputs": [],
   "source": [
    "slicingDizi = baskaDizi[4:9]"
   ]
  },
  {
   "cell_type": "code",
   "execution_count": 63,
   "id": "5bb74423-c07b-4658-831c-29bc7020885a",
   "metadata": {},
   "outputs": [],
   "source": [
    "slicingDizi[:] = 700"
   ]
  },
  {
   "cell_type": "code",
   "execution_count": 64,
   "id": "83d4534d-fe35-4218-ba67-119e35f89681",
   "metadata": {},
   "outputs": [
    {
     "data": {
      "text/plain": [
       "array([700, 700, 700, 700, 700])"
      ]
     },
     "execution_count": 64,
     "metadata": {},
     "output_type": "execute_result"
    }
   ],
   "source": [
    "slicingDizi"
   ]
  },
  {
   "cell_type": "code",
   "execution_count": 65,
   "id": "6a16f4a3-8e88-4540-81d7-049998e3b364",
   "metadata": {},
   "outputs": [
    {
     "data": {
      "text/plain": [
       "array([  0,   1,   2,   3, 700, 700, 700, 700, 700,   9,  10,  11,  12,\n",
       "        13,  14,  15,  16,  17,  18,  19,  20,  21,  22,  23])"
      ]
     },
     "execution_count": 65,
     "metadata": {},
     "output_type": "execute_result"
    }
   ],
   "source": [
    "baskaDizi"
   ]
  },
  {
   "cell_type": "code",
   "execution_count": 66,
   "id": "adac67fe-19a2-4f09-b033-eecfb1d534d2",
   "metadata": {},
   "outputs": [
    {
     "data": {
      "text/plain": [
       "array([ 0,  1,  2,  3,  4,  5,  6,  7,  8,  9, 10, 11, 12, 13, 14, 15, 16,\n",
       "       17, 18, 19, 20, 21, 22, 23])"
      ]
     },
     "execution_count": 66,
     "metadata": {},
     "output_type": "execute_result"
    }
   ],
   "source": [
    "ornekDizi = np.arange(0,24)\n",
    "ornekDizi"
   ]
  },
  {
   "cell_type": "code",
   "execution_count": 67,
   "id": "245c4866-540f-4819-8a0e-3b77847cc8b8",
   "metadata": {},
   "outputs": [],
   "source": [
    "ornekDiziKopyasi = ornekDizi.copy()"
   ]
  },
  {
   "cell_type": "code",
   "execution_count": 68,
   "id": "2efa152b-713e-414d-b370-1a521fa76643",
   "metadata": {},
   "outputs": [],
   "source": [
    "ornekDiziKopyaSlicing = ornekDiziKopyasi[3:6]"
   ]
  },
  {
   "cell_type": "code",
   "execution_count": 70,
   "id": "2637d270-e220-4cb2-b53d-b6a936fed6d2",
   "metadata": {},
   "outputs": [],
   "source": [
    "ornekDiziKopyaSlicing[:] = 800"
   ]
  },
  {
   "cell_type": "code",
   "execution_count": 71,
   "id": "771789ea-ac88-47eb-9754-edd22d1ffe65",
   "metadata": {},
   "outputs": [
    {
     "data": {
      "text/plain": [
       "array([800, 800, 800])"
      ]
     },
     "execution_count": 71,
     "metadata": {},
     "output_type": "execute_result"
    }
   ],
   "source": [
    "ornekDiziKopyaSlicing"
   ]
  },
  {
   "cell_type": "code",
   "execution_count": 72,
   "id": "8f95bd65-3d1b-4257-b0fc-1ac5583cf27c",
   "metadata": {},
   "outputs": [
    {
     "data": {
      "text/plain": [
       "array([  0,   1,   2, 800, 800, 800,   6,   7,   8,   9,  10,  11,  12,\n",
       "        13,  14,  15,  16,  17,  18,  19,  20,  21,  22,  23])"
      ]
     },
     "execution_count": 72,
     "metadata": {},
     "output_type": "execute_result"
    }
   ],
   "source": [
    "ornekDiziKopyasi"
   ]
  },
  {
   "cell_type": "code",
   "execution_count": 73,
   "id": "d97f5b9a-64a5-4207-b2c1-93b6f73d84e2",
   "metadata": {},
   "outputs": [
    {
     "data": {
      "text/plain": [
       "array([ 0,  1,  2,  3,  4,  5,  6,  7,  8,  9, 10, 11, 12, 13, 14, 15, 16,\n",
       "       17, 18, 19, 20, 21, 22, 23])"
      ]
     },
     "execution_count": 73,
     "metadata": {},
     "output_type": "execute_result"
    }
   ],
   "source": [
    "ornekDizi"
   ]
  },
  {
   "cell_type": "markdown",
   "id": "918e2670-39bd-480e-86fb-0b782ddebaf2",
   "metadata": {},
   "source": [
    "## matrix"
   ]
  },
  {
   "cell_type": "code",
   "execution_count": 74,
   "id": "fd152334-83b0-44ed-8863-879d69454086",
   "metadata": {},
   "outputs": [],
   "source": [
    "myList = [[10,20,30],[20,30,40],[40,50,60]]"
   ]
  },
  {
   "cell_type": "code",
   "execution_count": 75,
   "id": "66a35ed4-0737-44db-963c-3734bdb56353",
   "metadata": {},
   "outputs": [],
   "source": [
    "myMd = np.array(myList)"
   ]
  },
  {
   "cell_type": "code",
   "execution_count": 76,
   "id": "eadc6bed-2543-456b-bf90-d61d94d1cc33",
   "metadata": {},
   "outputs": [
    {
     "data": {
      "text/plain": [
       "array([[10, 20, 30],\n",
       "       [20, 30, 40],\n",
       "       [40, 50, 60]])"
      ]
     },
     "execution_count": 76,
     "metadata": {},
     "output_type": "execute_result"
    }
   ],
   "source": [
    "myMd"
   ]
  },
  {
   "cell_type": "code",
   "execution_count": 77,
   "id": "87ac76c6-5aa3-4a1e-b5e5-186459f599b3",
   "metadata": {},
   "outputs": [
    {
     "data": {
      "text/plain": [
       "array([10, 20, 30])"
      ]
     },
     "execution_count": 77,
     "metadata": {},
     "output_type": "execute_result"
    }
   ],
   "source": [
    "myMd[0]"
   ]
  },
  {
   "cell_type": "code",
   "execution_count": 78,
   "id": "8a68ac25-e3af-4a10-bfe4-606c757d9678",
   "metadata": {},
   "outputs": [
    {
     "data": {
      "text/plain": [
       "40"
      ]
     },
     "execution_count": 78,
     "metadata": {},
     "output_type": "execute_result"
    }
   ],
   "source": [
    "myMd[1][2]"
   ]
  },
  {
   "cell_type": "code",
   "execution_count": 79,
   "id": "5d2a3b1f-7ac2-4263-b9fd-46fc4f9280e6",
   "metadata": {},
   "outputs": [
    {
     "data": {
      "text/plain": [
       "40"
      ]
     },
     "execution_count": 79,
     "metadata": {},
     "output_type": "execute_result"
    }
   ],
   "source": [
    "myMd[1,2]"
   ]
  },
  {
   "cell_type": "code",
   "execution_count": 80,
   "id": "93ffb9a6-8c32-4238-8bf4-13d2ab58ee7e",
   "metadata": {},
   "outputs": [
    {
     "data": {
      "text/plain": [
       "array([40, 60])"
      ]
     },
     "execution_count": 80,
     "metadata": {},
     "output_type": "execute_result"
    }
   ],
   "source": [
    "myMd[1:,2]"
   ]
  },
  {
   "cell_type": "code",
   "execution_count": 81,
   "id": "631e989b-d6db-45c3-ba69-1be9801225fa",
   "metadata": {},
   "outputs": [],
   "source": [
    "newList = [[0,1,2,3,4],[5,6,7,8,9],[10,11,12,13,14],[15,16,17,18,19],[20,21,22,23,24]]"
   ]
  },
  {
   "cell_type": "code",
   "execution_count": 82,
   "id": "538a203f-36d5-4281-ac07-aaac0a2a5f4a",
   "metadata": {},
   "outputs": [],
   "source": [
    "newMatrix = np.array(newList)"
   ]
  },
  {
   "cell_type": "code",
   "execution_count": 84,
   "id": "6a6e4ca5-f135-48c0-b6ee-f93dc64c9251",
   "metadata": {},
   "outputs": [
    {
     "data": {
      "text/plain": [
       "array([[ 0,  1,  2,  3,  4],\n",
       "       [ 5,  6,  7,  8,  9],\n",
       "       [10, 11, 12, 13, 14],\n",
       "       [15, 16, 17, 18, 19],\n",
       "       [20, 21, 22, 23, 24]])"
      ]
     },
     "execution_count": 84,
     "metadata": {},
     "output_type": "execute_result"
    }
   ],
   "source": [
    "newMatrix"
   ]
  },
  {
   "cell_type": "code",
   "execution_count": 85,
   "id": "394c5397-eeef-45a4-82e7-b86684388fa5",
   "metadata": {},
   "outputs": [
    {
     "data": {
      "text/plain": [
       "array([[ 0,  1,  2,  3,  4],\n",
       "       [10, 11, 12, 13, 14],\n",
       "       [20, 21, 22, 23, 24]])"
      ]
     },
     "execution_count": 85,
     "metadata": {},
     "output_type": "execute_result"
    }
   ],
   "source": [
    "newMatrix[[0,2,4]]"
   ]
  },
  {
   "cell_type": "markdown",
   "id": "e281ef0e-f70d-4f5f-b800-005624753e7c",
   "metadata": {},
   "source": [
    "## operations"
   ]
  },
  {
   "cell_type": "code",
   "execution_count": 87,
   "id": "cf5a6fed-9b51-443c-a3f3-e2edfe8f0f7b",
   "metadata": {},
   "outputs": [
    {
     "data": {
      "text/plain": [
       "array([69, 87, 48, 46,  2, 56, 11, 67, 81, 91, 51, 66, 76, 24, 67, 88, 36,\n",
       "       11, 77, 47])"
      ]
     },
     "execution_count": 87,
     "metadata": {},
     "output_type": "execute_result"
    }
   ],
   "source": [
    "doubleNewList = np.random.randint(1,100,20)\n",
    "doubleNewList"
   ]
  },
  {
   "cell_type": "code",
   "execution_count": 88,
   "id": "aa903923-8f8c-41c1-855e-bba32194832b",
   "metadata": {},
   "outputs": [
    {
     "data": {
      "text/plain": [
       "array([ True,  True,  True,  True, False,  True, False,  True,  True,\n",
       "        True,  True,  True,  True, False,  True,  True,  True, False,\n",
       "        True,  True])"
      ]
     },
     "execution_count": 88,
     "metadata": {},
     "output_type": "execute_result"
    }
   ],
   "source": [
    "doubleNewList > 24"
   ]
  },
  {
   "cell_type": "code",
   "execution_count": 89,
   "id": "9c400dbd-fbb6-4663-86c7-8ce4a4ec5790",
   "metadata": {},
   "outputs": [
    {
     "data": {
      "text/plain": [
       "array([69, 87, 48, 46,  2, 56, 11, 67, 81, 91, 51, 66, 76, 24, 67, 88, 36,\n",
       "       11, 77, 47])"
      ]
     },
     "execution_count": 89,
     "metadata": {},
     "output_type": "execute_result"
    }
   ],
   "source": [
    "doubleNewList"
   ]
  },
  {
   "cell_type": "code",
   "execution_count": 90,
   "id": "b9fb996e-89fb-475b-b9c1-173e9f768119",
   "metadata": {},
   "outputs": [
    {
     "data": {
      "text/plain": [
       "array([ True,  True,  True,  True, False,  True, False,  True,  True,\n",
       "        True,  True,  True,  True, False,  True,  True,  True, False,\n",
       "        True,  True])"
      ]
     },
     "execution_count": 90,
     "metadata": {},
     "output_type": "execute_result"
    }
   ],
   "source": [
    "sonucDizisi = doubleNewList > 24\n",
    "sonucDizisi"
   ]
  },
  {
   "cell_type": "code",
   "execution_count": 91,
   "id": "f8d43b4a-a7fc-4db1-bf44-2796b5022e0c",
   "metadata": {},
   "outputs": [
    {
     "data": {
      "text/plain": [
       "array([69, 87, 48, 46, 56, 67, 81, 91, 51, 66, 76, 67, 88, 36, 77, 47])"
      ]
     },
     "execution_count": 91,
     "metadata": {},
     "output_type": "execute_result"
    }
   ],
   "source": [
    "doubleNewList[sonucDizisi]"
   ]
  },
  {
   "cell_type": "code",
   "execution_count": 92,
   "id": "021706a0-3a90-453a-b829-9d5747d47c4a",
   "metadata": {},
   "outputs": [
    {
     "data": {
      "text/plain": [
       "array([69, 87, 48, 46,  2, 56, 11, 67, 81, 91, 51, 66, 76, 24, 67, 88, 36,\n",
       "       11, 77, 47])"
      ]
     },
     "execution_count": 92,
     "metadata": {},
     "output_type": "execute_result"
    }
   ],
   "source": [
    "doubleNewList"
   ]
  },
  {
   "cell_type": "code",
   "execution_count": 93,
   "id": "99244de4-0c2d-4923-8366-8a5f062e09c0",
   "metadata": {},
   "outputs": [
    {
     "data": {
      "text/plain": [
       "array([69, 87, 48, 46, 56, 67, 81, 91, 51, 66, 76, 67, 88, 36, 77, 47])"
      ]
     },
     "execution_count": 93,
     "metadata": {},
     "output_type": "execute_result"
    }
   ],
   "source": [
    "doubleNewList[doubleNewList > 24]"
   ]
  },
  {
   "cell_type": "code",
   "execution_count": 94,
   "id": "07427e5d-d71b-40bd-a431-5cba6261bb1c",
   "metadata": {},
   "outputs": [
    {
     "data": {
      "text/plain": [
       "array([ 0,  1,  2,  3,  4,  5,  6,  7,  8,  9, 10, 11, 12, 13, 14, 15, 16,\n",
       "       17, 18, 19, 20, 21, 22, 23])"
      ]
     },
     "execution_count": 94,
     "metadata": {},
     "output_type": "execute_result"
    }
   ],
   "source": [
    "lastArray = np.arange(0,24)\n",
    "lastArray"
   ]
  },
  {
   "cell_type": "code",
   "execution_count": 95,
   "id": "8caac6d2-a4f9-42f9-ab8b-b7efefc5fb05",
   "metadata": {},
   "outputs": [
    {
     "data": {
      "text/plain": [
       "array([ 0,  2,  4,  6,  8, 10, 12, 14, 16, 18, 20, 22, 24, 26, 28, 30, 32,\n",
       "       34, 36, 38, 40, 42, 44, 46])"
      ]
     },
     "execution_count": 95,
     "metadata": {},
     "output_type": "execute_result"
    }
   ],
   "source": [
    "lastArray + lastArray"
   ]
  },
  {
   "cell_type": "code",
   "execution_count": 96,
   "id": "1307ee32-d8a7-40d9-a7da-1bbeb8134c2d",
   "metadata": {},
   "outputs": [
    {
     "data": {
      "text/plain": [
       "array([  0,   1,   4,   9,  16,  25,  36,  49,  64,  81, 100, 121, 144,\n",
       "       169, 196, 225, 256, 289, 324, 361, 400, 441, 484, 529])"
      ]
     },
     "execution_count": 96,
     "metadata": {},
     "output_type": "execute_result"
    }
   ],
   "source": [
    "lastArray*lastArray"
   ]
  },
  {
   "cell_type": "code",
   "execution_count": 97,
   "id": "c77e6a43-69e0-474c-8cd2-0be4fbec4f3b",
   "metadata": {},
   "outputs": [
    {
     "data": {
      "text/plain": [
       "array([0, 0, 0, 0, 0, 0, 0, 0, 0, 0, 0, 0, 0, 0, 0, 0, 0, 0, 0, 0, 0, 0,\n",
       "       0, 0])"
      ]
     },
     "execution_count": 97,
     "metadata": {},
     "output_type": "execute_result"
    }
   ],
   "source": [
    "lastArray-lastArray"
   ]
  },
  {
   "cell_type": "code",
   "execution_count": 98,
   "id": "f814d49d-7e4e-434f-96ca-b899528f5032",
   "metadata": {},
   "outputs": [
    {
     "data": {
      "text/plain": [
       "array([0.        , 1.        , 1.41421356, 1.73205081, 2.        ,\n",
       "       2.23606798, 2.44948974, 2.64575131, 2.82842712, 3.        ,\n",
       "       3.16227766, 3.31662479, 3.46410162, 3.60555128, 3.74165739,\n",
       "       3.87298335, 4.        , 4.12310563, 4.24264069, 4.35889894,\n",
       "       4.47213595, 4.58257569, 4.69041576, 4.79583152])"
      ]
     },
     "execution_count": 98,
     "metadata": {},
     "output_type": "execute_result"
    }
   ],
   "source": [
    "np.sqrt(lastArray)"
   ]
  },
  {
   "cell_type": "code",
   "execution_count": 99,
   "id": "2d0162d8-738b-470e-9d78-aa525438bb45",
   "metadata": {},
   "outputs": [
    {
     "data": {
      "text/plain": [
       "23"
      ]
     },
     "execution_count": 99,
     "metadata": {},
     "output_type": "execute_result"
    }
   ],
   "source": [
    "np.max(lastArray)"
   ]
  },
  {
   "cell_type": "code",
   "execution_count": 100,
   "id": "32a29d03-4632-4e17-8987-ce61e89adf1d",
   "metadata": {},
   "outputs": [
    {
     "data": {
      "text/plain": [
       "0"
      ]
     },
     "execution_count": 100,
     "metadata": {},
     "output_type": "execute_result"
    }
   ],
   "source": [
    "np.min(lastArray)"
   ]
  },
  {
   "cell_type": "code",
   "execution_count": null,
   "id": "5b560eb0-5e19-4cee-b688-b6141b34568b",
   "metadata": {},
   "outputs": [],
   "source": []
  }
 ],
 "metadata": {
  "kernelspec": {
   "display_name": "Python 3",
   "language": "python",
   "name": "python3"
  },
  "language_info": {
   "codemirror_mode": {
    "name": "ipython",
    "version": 3
   },
   "file_extension": ".py",
   "mimetype": "text/x-python",
   "name": "python",
   "nbconvert_exporter": "python",
   "pygments_lexer": "ipython3",
   "version": "3.8.8"
  }
 },
 "nbformat": 4,
 "nbformat_minor": 5
}
